{
 "cells": [
  {
   "cell_type": "code",
   "execution_count": 1,
   "metadata": {},
   "outputs": [
    {
     "name": "stdout",
     "output_type": "stream",
     "text": [
      "Loading pyMOR version 0.4.2-116-gadb475af\n"
     ]
    }
   ],
   "source": [
    "from evaluations import *"
   ]
  },
  {
   "cell_type": "code",
   "execution_count": 158,
   "metadata": {},
   "outputs": [],
   "source": [
    "p = helmholtz(boundary = 'robin')\n",
    "res = 200\n",
    "d, data = discretize_elliptic_cg(p, diameter = 1./res)\n",
    "k = 6\n",
    "mus = {'k': k, 'c_glob': -1j*k, 'c_loc': 0}\n",
    "U = d.solve(mus)"
   ]
  },
  {
   "cell_type": "code",
   "execution_count": 159,
   "metadata": {},
   "outputs": [],
   "source": [
    "for k in range(10,200,10):\n",
    "    mus = {'k': k, 'c_glob': -1j*k, 'c_loc': 0}\n",
    "    u = d.solve(mus)\n",
    "    U.append(u)"
   ]
  },
  {
   "cell_type": "code",
   "execution_count": 160,
   "metadata": {},
   "outputs": [
    {
     "name": "stderr",
     "output_type": "stream",
     "text": [
      "/home/root_dennis/pymor_MA/src/pymor/gui/qt.py:281: ComplexWarning: Casting complex values to real discards the imaginary part\n",
      "  U = (U.data.astype(np.float64, copy=False),) if hasattr(U, 'data') else \\\n"
     ]
    }
   ],
   "source": [
    "d.visualize(U, rescale_colorbars = True)"
   ]
  },
  {
   "cell_type": "code",
   "execution_count": 162,
   "metadata": {
    "scrolled": true
   },
   "outputs": [
    {
     "name": "stderr",
     "output_type": "stream",
     "text": [
      "/home/root_dennis/pymor_MA/src/pymor/gui/qt.py:281: ComplexWarning: Casting complex values to real discards the imaginary part\n",
      "  U = (U.data.astype(np.float64, copy=False),) if hasattr(U, 'data') else \\\n"
     ]
    }
   ],
   "source": [
    "k = 10\n",
    "res = 200\n",
    "d, data = discretize_elliptic_cg(p, diameter = 1./res)\n",
    "\n",
    "mus = {'k': k, 'c_glob': -1j*k, 'c_loc': -1j*k}\n",
    "U = d.solve(mus)\n",
    "d.visualize(U)"
   ]
  },
  {
   "cell_type": "code",
   "execution_count": 156,
   "metadata": {},
   "outputs": [
    {
     "data": {
      "text/plain": [
       "[10,\n",
       " 20,\n",
       " 30,\n",
       " 40,\n",
       " 50,\n",
       " 60,\n",
       " 70,\n",
       " 80,\n",
       " 90,\n",
       " 100,\n",
       " 110,\n",
       " 120,\n",
       " 130,\n",
       " 140,\n",
       " 150,\n",
       " 160,\n",
       " 170,\n",
       " 180,\n",
       " 190]"
      ]
     },
     "execution_count": 156,
     "metadata": {},
     "output_type": "execute_result"
    }
   ],
   "source": [
    "range(10,200,10)"
   ]
  },
  {
   "cell_type": "code",
   "execution_count": 278,
   "metadata": {},
   "outputs": [],
   "source": [
    "rhs = ExpressionFunction('(( (x[...,0]-0.15)**2 + (x[...,1]-0.15)**2) <= 0.01) * 1.', 2, ())\n",
    "boundary = 'robin'\n",
    "domain=RectDomain(bottom = BoundaryType(boundary), top = BoundaryType(boundary), left = BoundaryType(boundary), right = BoundaryType(boundary))\n",
    "parameter_range=(0., 100.)\n",
    "parameter_space = CubicParameterSpace({'k': (), 'c_glob': (), 'c_loc': ()}, *parameter_range)\n",
    "eps = 1e-15\n",
    "def func(x, mu):\n",
    "    return ((x[...,0]>1-eps)+(x[...,0]<eps)+(x[...,1]>1-eps)+(x[...,1]<eps)>0)*mu[\"c_glob\"] +((x[...,0]>1-eps)+(x[...,0]<eps)+(x[...,1]>1-eps)+(x[...,1]<eps)==0)* mu[\"c_loc\"]\n",
    "cfunc = GenericFunction(func, dim_domain =2, parameter_type={'k': (), 'c_glob': (), 'c_loc': ()})\n",
    "\n",
    "p = EllipticProblem(\n",
    "    diffusion_functions=[ConstantFunction(1., dim_domain=domain.dim)],\n",
    "    diffusion_functionals=[1.],\n",
    "    reaction_functions=[ConstantFunction(1., dim_domain=domain.dim)],\n",
    "    reaction_functionals=[ExpressionParameterFunctional('-k**2', parameter_type={'k': ()})],\n",
    "    domain=domain,\n",
    "    rhs = rhs,\n",
    "    parameter_space=parameter_space,\n",
    "    robin_data = (cfunc, ConstantFunction(0, dim_domain=2)),\n",
    "    neumann_data = ConstantFunction(0, dim_domain = 2)\n",
    ")"
   ]
  },
  {
   "cell_type": "code",
   "execution_count": 317,
   "metadata": {},
   "outputs": [],
   "source": [
    "res = 300\n",
    "k= 200\n",
    "d, data = discretize_elliptic_cg(p, diameter = 1./res)\n",
    "mus = {'k': k, 'c_glob': -1j*k, 'c_loc': 0}\n",
    "U = d.solve(mus)\n",
    "d.visualize(U.imag)"
   ]
  },
  {
   "cell_type": "code",
   "execution_count": 191,
   "metadata": {},
   "outputs": [
    {
     "data": {
      "text/plain": [
       "0.02"
      ]
     },
     "execution_count": 191,
     "metadata": {},
     "output_type": "execute_result"
    }
   ],
   "source": [
    "1/float(res)"
   ]
  },
  {
   "cell_type": "code",
   "execution_count": 210,
   "metadata": {},
   "outputs": [
    {
     "data": {
      "text/plain": [
       "0.999999999999999"
      ]
     },
     "execution_count": 210,
     "metadata": {},
     "output_type": "execute_result"
    }
   ],
   "source": [
    "1-1e-15"
   ]
  },
  {
   "cell_type": "code",
   "execution_count": 213,
   "metadata": {},
   "outputs": [],
   "source": [
    "eps = np.finfo(float).eps"
   ]
  },
  {
   "cell_type": "code",
   "execution_count": 214,
   "metadata": {},
   "outputs": [
    {
     "data": {
      "text/plain": [
       "1.0000000000000002"
      ]
     },
     "execution_count": 214,
     "metadata": {},
     "output_type": "execute_result"
    }
   ],
   "source": [
    "1+eps"
   ]
  },
  {
   "cell_type": "code",
   "execution_count": 215,
   "metadata": {},
   "outputs": [
    {
     "data": {
      "text/plain": [
       "0.99999999999999978"
      ]
     },
     "execution_count": 215,
     "metadata": {},
     "output_type": "execute_result"
    }
   ],
   "source": [
    "1-eps"
   ]
  },
  {
   "cell_type": "code",
   "execution_count": 217,
   "metadata": {},
   "outputs": [
    {
     "data": {
      "text/plain": [
       "1.0"
      ]
     },
     "execution_count": 217,
     "metadata": {},
     "output_type": "execute_result"
    }
   ],
   "source": [
    "1+eps/2"
   ]
  },
  {
   "cell_type": "code",
   "execution_count": 3,
   "metadata": {},
   "outputs": [
    {
     "name": "stdout",
     "output_type": "stream",
     "text": [
      "k:  1 cloc:  2\n",
      "localizing problem\n",
      "0"
     ]
    },
    {
     "name": "stderr",
     "output_type": "stream",
     "text": [
      "/home/root_dennis/pymor_MA/src/pymor/operators/constructions.py:1002: RuntimeWarning: invalid value encountered in double_scalars\n",
      "  if (np.linalg.norm(norm_squared.imag)/np.linalg.norm(norm_squared) > 1e-11):\n",
      "mybmat.py:20: VisibleDeprecationWarning: `rank` is deprecated; use the `ndim` attribute or function instead. To find the rank of a matrix see `numpy.linalg.matrix_rank`.\n",
      "  if np.rank(blocks) != 2:\n"
     ]
    },
    {
     "name": "stdout",
     "output_type": "stream",
     "text": [
      " k:  11 cloc:  132\n",
      "localizing problem\n",
      "0 k:  21 cloc:  462\n",
      "localizing problem\n",
      "0 k:  31 cloc:  992\n",
      "localizing problem\n",
      "0 k:  41 cloc:  1722\n",
      "localizing problem\n",
      "0 k:  51 cloc:  2652\n",
      "localizing problem\n",
      "0 k:  61 cloc:  3782\n",
      "localizing problem\n",
      "0 k:  71 cloc:  5112\n",
      "localizing problem\n",
      "0 k:  81 cloc:  6642\n",
      "localizing problem\n",
      "0 k:  91 cloc:  8372\n",
      "localizing problem\n",
      "0"
     ]
    },
    {
     "data": {
      "text/plain": [
       "<matplotlib.figure.Figure at 0x7f82c174a950>"
      ]
     },
     "metadata": {},
     "output_type": "display_data"
    },
    {
     "name": "stdout",
     "output_type": "stream",
     "text": [
      "\n"
     ]
    }
   ],
   "source": [
    "kerr(it = 1, n= 0, boundary = 'robin', save = \"dats/test.dat\", rang = np.arange(1,101,10), plot = True)"
   ]
  },
  {
   "cell_type": "code",
   "execution_count": null,
   "metadata": {},
   "outputs": [
    {
     "name": "stdout",
     "output_type": "stream",
     "text": [
      "330\n",
      "70\n",
      "localizing problem\n",
      "creating bases\n",
      "reconstructing solution\n"
     ]
    }
   ],
   "source": [
    "k=200\n",
    "res = int(np.ceil(float(k*1.5+30)/10)*10)\n",
    "print res\n",
    "n = k/4+20\n",
    "print n\n",
    "mus = {'k': k, 'c_glob': -1j*k, 'c_loc': 0}\n",
    "gq, lq = localize_problem(p, 10, res, mus)\n",
    "basis = create_bases2(gq,lq,n,transfer = 'robin', silent = False)\n",
    "ru = reconstruct_solution(gq,lq,basis, silent = False)\n",
    "d = gq[\"d\"]\n",
    "u = d.solve(mus)\n",
    "dif = u-ru\n",
    "print gq[\"full_norm\"](dif)[0]/gq[\"full_norm\"](u)[0]\n",
    "d.visualize((dif.real, dif.imag, u.real, u.imag, ru.real, ru.imag), legend = ('dif.real', 'dif.imag', 'u.real', 'u.imag', 'ru.real', 'ru.imag'), separate_colorbars = True)"
   ]
  },
  {
   "cell_type": "code",
   "execution_count": 276,
   "metadata": {},
   "outputs": [
    {
     "data": {
      "text/plain": [
       "21"
      ]
     },
     "execution_count": 276,
     "metadata": {},
     "output_type": "execute_result"
    }
   ],
   "source": [
    "n"
   ]
  },
  {
   "cell_type": "code",
   "execution_count": 284,
   "metadata": {},
   "outputs": [
    {
     "data": {
      "text/plain": [
       "3"
      ]
     },
     "execution_count": 284,
     "metadata": {},
     "output_type": "execute_result"
    }
   ],
   "source": [
    "36/10"
   ]
  },
  {
   "cell_type": "code",
   "execution_count": 294,
   "metadata": {},
   "outputs": [
    {
     "data": {
      "text/plain": [
       "30.0"
      ]
     },
     "execution_count": 294,
     "metadata": {},
     "output_type": "execute_result"
    }
   ],
   "source": [
    "n = 30\n",
    "np.ceil(float(n)/10)*10"
   ]
  },
  {
   "cell_type": "code",
   "execution_count": 296,
   "metadata": {},
   "outputs": [
    {
     "data": {
      "text/plain": [
       "3"
      ]
     },
     "execution_count": 296,
     "metadata": {},
     "output_type": "execute_result"
    }
   ],
   "source": [
    "int(3.6)"
   ]
  },
  {
   "cell_type": "code",
   "execution_count": 304,
   "metadata": {},
   "outputs": [
    {
     "data": {
      "text/plain": [
       "56"
      ]
     },
     "execution_count": 304,
     "metadata": {},
     "output_type": "execute_result"
    }
   ],
   "source": [
    "k=50\n",
    "cg =7\n",
    "int(np.ceil(float(k)/cg)*cg)"
   ]
  },
  {
   "cell_type": "code",
   "execution_count": 8,
   "metadata": {},
   "outputs": [
    {
     "data": {
      "text/plain": [
       "[0,\n",
       " 10,\n",
       " 20,\n",
       " 30,\n",
       " 40,\n",
       " 50,\n",
       " 60,\n",
       " 70,\n",
       " 80,\n",
       " 90,\n",
       " 100,\n",
       " 110,\n",
       " 120,\n",
       " 130,\n",
       " 140,\n",
       " 150,\n",
       " 160,\n",
       " 170,\n",
       " 180,\n",
       " 190,\n",
       " 200,\n",
       " 210,\n",
       " 220,\n",
       " 230,\n",
       " 240,\n",
       " 250,\n",
       " 260,\n",
       " 270,\n",
       " 280,\n",
       " 290]"
      ]
     },
     "execution_count": 8,
     "metadata": {},
     "output_type": "execute_result"
    }
   ],
   "source": [
    "range(0,300,10)"
   ]
  },
  {
   "cell_type": "code",
   "execution_count": null,
   "metadata": {},
   "outputs": [
    {
     "name": "stdout",
     "output_type": "stream",
     "text": [
      "180\n",
      "45\n",
      "0\n",
      "localizing problem\n",
      "creating bases\n",
      "reconstructing solution\n",
      "10\n",
      "localizing problem\n",
      "creating bases\n",
      "reconstructing solution\n",
      "20\n",
      "localizing problem\n",
      "creating bases\n",
      "reconstructing solution\n",
      "30\n",
      "localizing problem\n",
      "creating bases\n",
      "reconstructing solution\n",
      "40\n",
      "localizing problem\n",
      "creating bases\n",
      "reconstructing solution\n",
      "50\n",
      "localizing problem\n",
      "creating bases\n",
      "reconstructing solution\n",
      "60\n",
      "localizing problem\n",
      "creating bases\n",
      "reconstructing solution\n",
      "70\n",
      "localizing problem\n",
      "creating bases\n",
      "reconstructing solution\n",
      "80\n",
      "localizing problem\n",
      "creating bases\n",
      "reconstructing solution\n",
      "90\n",
      "localizing problem\n"
     ]
    }
   ],
   "source": [
    "p = helmholtz(boundary = 'robin')\n",
    "k=100\n",
    "resolution = int(np.ceil(float(k*1.5+30)/10)*10)\n",
    "print resolution\n",
    "n = k/4+20\n",
    "print n\n",
    "e_r = []\n",
    "for cloc in range(0,300,10):\n",
    "    print cloc\n",
    "    mus = {'k': k, 'c_glob': -1j*k, 'c_loc': cloc}\n",
    "    gq, lq = localize_problem(p, 10, resolution, mus = mus)\n",
    "    d = gq[\"d\"]\n",
    "    u = d.solve(mus)\n",
    "    bases = create_bases2(gq,lq,n,transfer = 'robin', silent = False)\n",
    "    ru_r = reconstruct_solution(gq, lq, bases, silent = False)\n",
    "    dif_r = u-ru_r\n",
    "    e_r.append(gq[\"full_norm\"](dif_r)[0]/gq[\"full_norm\"](u)[0])"
   ]
  },
  {
   "cell_type": "code",
   "execution_count": null,
   "metadata": {},
   "outputs": [],
   "source": [
    "e_r"
   ]
  },
  {
   "cell_type": "code",
   "execution_count": null,
   "metadata": {},
   "outputs": [
    {
     "name": "stdout",
     "output_type": "stream",
     "text": [
      "Loading pyMOR version 0.4.2-116-gadb475af\n",
      "localizing problem\n",
      "localizing problem\n",
      "creating bases\n",
      "creating bases\n"
     ]
    },
    {
     "name": "stderr",
     "output_type": "stream",
     "text": [
      "/home/root_dennis/pymor_MA/src/pymor/operators/constructions.py:1002: RuntimeWarning: invalid value encountered in double_scalars\n",
      "  if (np.linalg.norm(norm_squared.imag)/np.linalg.norm(norm_squared) > 1e-11):\n",
      "/home/root_dennis/pymor_MA/src/pymor/operators/constructions.py:1002: RuntimeWarning: invalid value encountered in double_scalars\n",
      "  if (np.linalg.norm(norm_squared.imag)/np.linalg.norm(norm_squared) > 1e-11):\n"
     ]
    },
    {
     "name": "stdout",
     "output_type": "stream",
     "text": [
      "reconstructing solution\n",
      "reconstructing solution\n"
     ]
    },
    {
     "name": "stderr",
     "output_type": "stream",
     "text": [
      "mybmat.py:20: VisibleDeprecationWarning: `rank` is deprecated; use the `ndim` attribute or function instead. To find the rank of a matrix see `numpy.linalg.matrix_rank`.\n",
      "  if np.rank(blocks) != 2:\n",
      "mybmat.py:20: VisibleDeprecationWarning: `rank` is deprecated; use the `ndim` attribute or function instead. To find the rank of a matrix see `numpy.linalg.matrix_rank`.\n",
      "  if np.rank(blocks) != 2:\n"
     ]
    },
    {
     "name": "stdout",
     "output_type": "stream",
     "text": [
      "localizing problem\n",
      "localizing problem\n",
      "creating bases\n",
      "creating bases\n",
      "reconstructing solution\n",
      "reconstructing solution\n",
      "localizing problem\n",
      "localizing problem\n",
      "creating bases\n",
      "creating bases\n",
      "reconstructing solution\n",
      "reconstructing solution\n",
      "localizing problem\n",
      "localizing problem\n",
      "creating bases\n",
      "creating bases\n",
      "reconstructing solution\n",
      "reconstructing solution\n",
      "localizing problem\n",
      "localizing problem\n",
      "creating bases\n",
      "creating bases\n",
      "reconstructing solution\n",
      "reconstructing solution\n",
      "localizing problem\n",
      "localizing problem\n",
      "creating bases\n",
      "creating bases\n",
      "reconstructing solution\n",
      "reconstructing solution\n",
      "localizing problem\n",
      "localizing problem\n"
     ]
    }
   ],
   "source": [
    "from evaluations import *\n",
    "import multiprocessing as mp\n",
    "\n",
    "p = helmholtz(boundary = 'robin')\n",
    "k=100\n",
    "resolution = int(np.ceil(float(k*1.5+30)/10)*10)\n",
    "n = k/4+20\n",
    "\n",
    "def cube(cloc): \n",
    "    mus = {'k': k, 'c_glob': -1j*k, 'c_loc': cloc}\n",
    "    gq, lq = localize_problem(p, 10, resolution, mus = mus)\n",
    "    d = gq[\"d\"]\n",
    "    u = d.solve(mus)\n",
    "    bases = create_bases2(gq,lq,n,transfer = 'robin', silent = False)\n",
    "    ru_r = reconstruct_solution(gq, lq, bases, silent = False)\n",
    "    dif_r = u-ru_r\n",
    "    return gq[\"full_norm\"](dif_r)[0]/gq[\"full_norm\"](u)[0]\n",
    "\n",
    "pool = mp.Pool(processes=2)\n",
    "results = pool.map(cube,  range(0,300,10))\n",
    "print(results)\n"
   ]
  },
  {
   "cell_type": "code",
   "execution_count": 7,
   "metadata": {},
   "outputs": [
    {
     "ename": "TypeError",
     "evalue": "'MapResult' object is not iterable",
     "output_type": "error",
     "traceback": [
      "\u001b[0;31m---------------------------------------------------------------------------\u001b[0m",
      "\u001b[0;31mTypeError\u001b[0m                                 Traceback (most recent call last)",
      "\u001b[0;32m<ipython-input-7-ddb7d3016669>\u001b[0m in \u001b[0;36m<module>\u001b[0;34m()\u001b[0m\n\u001b[0;32m----> 1\u001b[0;31m \u001b[0moutput\u001b[0m \u001b[0;34m=\u001b[0m \u001b[0;34m[\u001b[0m\u001b[0mp\u001b[0m\u001b[0;34m.\u001b[0m\u001b[0mget\u001b[0m\u001b[0;34m(\u001b[0m\u001b[0;34m)\u001b[0m \u001b[0;32mfor\u001b[0m \u001b[0mp\u001b[0m \u001b[0;32min\u001b[0m \u001b[0mresults\u001b[0m\u001b[0;34m]\u001b[0m\u001b[0;34m\u001b[0m\u001b[0m\n\u001b[0m\u001b[1;32m      2\u001b[0m \u001b[0;32mprint\u001b[0m \u001b[0moutput\u001b[0m\u001b[0;34m\u001b[0m\u001b[0m\n",
      "\u001b[0;31mTypeError\u001b[0m: 'MapResult' object is not iterable"
     ]
    }
   ],
   "source": [
    "output = [p.get() for p in results]\n",
    "print output"
   ]
  },
  {
   "cell_type": "code",
   "execution_count": 8,
   "metadata": {},
   "outputs": [
    {
     "name": "stdout",
     "output_type": "stream",
     "text": [
      "<multiprocessing.pool.MapResult object at 0x7f77907e5e10>\n"
     ]
    }
   ],
   "source": [
    "\n",
    "print results"
   ]
  },
  {
   "cell_type": "code",
   "execution_count": 10,
   "metadata": {},
   "outputs": [
    {
     "data": {
      "text/plain": [
       "[0, 1]"
      ]
     },
     "execution_count": 10,
     "metadata": {},
     "output_type": "execute_result"
    }
   ],
   "source": [
    "range(2)"
   ]
  },
  {
   "cell_type": "code",
   "execution_count": null,
   "metadata": {},
   "outputs": [],
   "source": []
  }
 ],
 "metadata": {
  "kernelspec": {
   "display_name": "project",
   "language": "python",
   "name": "project"
  },
  "language_info": {
   "codemirror_mode": {
    "name": "ipython",
    "version": 2
   },
   "file_extension": ".py",
   "mimetype": "text/x-python",
   "name": "python",
   "nbconvert_exporter": "python",
   "pygments_lexer": "ipython2",
   "version": "2.7.15rc1"
  }
 },
 "nbformat": 4,
 "nbformat_minor": 2
}
