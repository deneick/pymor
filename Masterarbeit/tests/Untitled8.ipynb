{
 "cells": [
  {
   "cell_type": "code",
   "execution_count": 1,
   "metadata": {},
   "outputs": [
    {
     "name": "stdout",
     "output_type": "stream",
     "text": [
      "Loading pyMOR version 0.4.2-116-gadb475af\n",
      "localizing problem\n",
      "calculated_continuity_constant:  1.791868186723067\n",
      "calculated_inf_sup_constant:  0.22732564927664775\n",
      "calculated all lambdas\n"
     ]
    },
    {
     "name": "stderr",
     "output_type": "stream",
     "text": [
      "constants.py:137: FutureWarning: `rcond` parameter will change to the default of machine precision times ``max(M, N)`` where M and N are the input matrix dimensions.\n",
      "To use the future default and silence this warning we advise to pass `rcond=None`, to keep using the old, explicitly pass `rcond=-1`.\n",
      "  x = np.linalg.lstsq(T, u_s.data.T)[0]\n",
      "/home/root_dennis/pymor_MA/src/pymor/operators/constructions.py:1002: RuntimeWarning: invalid value encountered in double_scalars\n",
      "  if (np.linalg.norm(norm_squared.imag)/np.linalg.norm(norm_squared) > 1e-11):\n",
      "/usr/lib/python2.7/dist-packages/scipy/sparse/linalg/eigen/arpack/arpack.py:737: ComplexWarning: Casting complex values to real discards the imaginary part\n",
      "  self.workd[yslice] = self.OP(self.workd[xslice])\n",
      "/usr/lib/python2.7/dist-packages/scipy/sparse/linalg/eigen/arpack/arpack.py:746: ComplexWarning: Casting complex values to real discards the imaginary part\n",
      "  self.workd[yslice] = self.B(self.workd[xslice])\n",
      "/usr/lib/python2.7/dist-packages/scipy/sparse/linalg/eigen/arpack/arpack.py:741: ComplexWarning: Casting complex values to real discards the imaginary part\n",
      "  self.workd[yslice] = self.OP(self.workd[xslice])\n"
     ]
    },
    {
     "name": "stdout",
     "output_type": "stream",
     "text": [
      "calculated csis\n",
      "calculated all Psi_norms\n"
     ]
    },
    {
     "name": "stderr",
     "output_type": "stream",
     "text": [
      "mybmat.py:20: VisibleDeprecationWarning: `rank` is deprecated; use the `ndim` attribute or function instead. To find the rank of a matrix see `numpy.linalg.matrix_rank`.\n",
      "  if np.rank(blocks) != 2:\n"
     ]
    }
   ],
   "source": [
    "from evaluations import *\n",
    "acc = 1e-2\n",
    "boundary = 'robin'\n",
    "krang  = np.arange(0.1,10.1,0.1)\n",
    "cloc0 = 0\n",
    "cloc1 = 1\n",
    "cloc2 = 1\n",
    "coarse_grid_resolution = 10\n",
    "p = helmholtz(boundary = boundary)\n",
    "k = 6.\n",
    "cglob = -1j*k\n",
    "cloc = cloc0+ cloc1*k+cloc2*k**2\n",
    "mus = {'k': k, 'c_glob': cglob, 'c_loc': cloc}\n",
    "resolution  = int(np.ceil(float(k*1.5+50)/coarse_grid_resolution)*coarse_grid_resolution)\n",
    "gq, lq = localize_problem(p, coarse_grid_resolution, resolution, mus = mus, calT = True, calQ = True)\n",
    "calculate_continuity_constant(gq, lq)\n",
    "calculate_inf_sup_constant2(gq, lq)\t\n",
    "calculate_lambda_min(gq, lq)\n",
    "calculate_csis(gq,lq)\t\n",
    "calculate_Psi_norm(gq,lq)\n",
    "d = gq[\"d\"]\n",
    "u = d.solve(mus)\n",
    "norm = gq[\"full_norm\"]\n",
    "localizer = gq[\"localizer\"]\n",
    "pou = gq[\"pou\"]\n",
    "bases = create_bases(gq, lq, num_testvecs=20, transfer = 'robin', target_accuracy = acc, calC = False)\n",
    "ru = reconstruct_solution(gq,lq,bases)\n",
    "ls = norm(u-ru)[0]/norm(u)[0]\n",
    "sum1 = NumpyVectorArray(u.data*0)\n",
    "sum2 = 0\n",
    "sum3 = 0\n",
    "sum4 = 0\n",
    "sum51 = 0\n",
    "sum52 = 0\n",
    "sum6 = 0\n",
    "for space in gq[\"spaces\"]:\n",
    "    ldict = lq[space]\n",
    "    basis = bases[space]\n",
    "    M = ldict[\"range_product\"]._matrix\n",
    "    S = ldict[\"source_product\"]._matrix\n",
    "    M_sparse = scipy.sparse.csr_matrix(M)\n",
    "    T = ldict[\"transfer_matrix_robin\"]\n",
    "    B = basis._array.T\n",
    "    range_space = ldict[\"range_space\"]\n",
    "    omega_star_space = ldict[\"omega_star_space\"]\n",
    "    u_s = ldict[\"local_solution_robin\"]\n",
    "    u_s2 = ldict[\"local_sol2\"]\n",
    "    local_norm1 = induced_norm(ldict[\"range_product\"])\n",
    "    local_norm2 = induced_norm(ldict[\"omega_star_product\"])\n",
    "\n",
    "    u_loc = pou[range_space](localizer.localize_vector_array(u, range_space))\n",
    "    u_loc2 = localizer.localize_vector_array(u, omega_star_space)\n",
    "    u_dif = u_loc-u_s\n",
    "    u_dif2 = u_loc2-u_s2\n",
    "    term1 = u_dif.data.T - B.dot(B.conj().T).dot(M_sparse.dot(u_dif.data.T))\n",
    "    term2 = NumpyVectorArray(term1.T)\n",
    "\n",
    "    T1 = T - B.dot(B.conj().T).dot(M_sparse.dot(T))\n",
    "    maxval = operator_svd2(T1, S, M_sparse)[0][0]\n",
    "\n",
    "    sum1 += localizer.globalize_vector_array(term2, range_space)\n",
    "    sum2 += local_norm1(term2)[0]\n",
    "    sum3 += maxval*ldict[\"Psi_norm\"]*local_norm2(u_dif2)[0]\n",
    "    sum4 += maxval*ldict[\"Psi_norm\"]*local_norm2(u_loc2)[0]**(1./2.)*ldict[\"csi\"]\n",
    "    sum51 += maxval**2*ldict[\"Psi_norm\"]**2*ldict[\"csi\"]**2\n",
    "    sum52 += local_norm2(u_loc2)[0]**2\n",
    "rs1 = gq[\"continuity_constant\"]/gq[\"inf_sup_constant\"]* norm(sum1)[0]\n",
    "rs2 = gq[\"continuity_constant\"]/gq[\"inf_sup_constant\"]* sum2\n",
    "rs3 = gq[\"continuity_constant\"]/gq[\"inf_sup_constant\"]* sum3\n",
    "rs4 = gq[\"continuity_constant\"]/gq[\"inf_sup_constant\"]* sum4\n",
    "rs5 = gq[\"continuity_constant\"]/gq[\"inf_sup_constant\"]* np.sqrt(sum51) * np.sqrt(sum52)\n",
    "rs6 = gq[\"continuity_constant\"]/gq[\"inf_sup_constant\"]* np.sqrt(sum51) *4 * norm(u)[0]\n",
    "ccs = gq[\"continuity_constant\"]/gq[\"inf_sup_constant\"]"
   ]
  },
  {
   "cell_type": "code",
   "execution_count": 2,
   "metadata": {},
   "outputs": [
    {
     "name": "stdout",
     "output_type": "stream",
     "text": [
      "1.4671897591300591e-05 0.00012055407239994782 0.00023786668359948403 0.0002703765909701086 0.00030225159299289005 0.0003639399538854921 7.882384554601769\n"
     ]
    }
   ],
   "source": [
    "print rs1, rs2, rs3, rs4, rs5, rs6, ccs"
   ]
  },
  {
   "cell_type": "code",
   "execution_count": 2,
   "metadata": {},
   "outputs": [
    {
     "name": "stdout",
     "output_type": "stream",
     "text": [
      "0.01805190019609898 0.14621843608764062 0.19549607767945512 0.22115034330135522 0.2520350164243034 0.3034743716210882 7.882384554601769\n"
     ]
    }
   ],
   "source": [
    "print rs1, rs2, rs3, rs4, rs5, rs6, ccs"
   ]
  },
  {
   "cell_type": "code",
   "execution_count": 1,
   "metadata": {},
   "outputs": [
    {
     "data": {
      "text/plain": [
       "1"
      ]
     },
     "execution_count": 1,
     "metadata": {},
     "output_type": "execute_result"
    }
   ],
   "source": [
    "1"
   ]
  },
  {
   "cell_type": "code",
   "execution_count": 2,
   "metadata": {},
   "outputs": [
    {
     "ename": "NameError",
     "evalue": "name 'd' is not defined",
     "output_type": "error",
     "traceback": [
      "\u001b[0;31m---------------------------------------------------------------------------\u001b[0m",
      "\u001b[0;31mNameError\u001b[0m                                 Traceback (most recent call last)",
      "\u001b[0;32m<ipython-input-2-e983f374794d>\u001b[0m in \u001b[0;36m<module>\u001b[0;34m()\u001b[0m\n\u001b[0;32m----> 1\u001b[0;31m \u001b[0md\u001b[0m\u001b[0;34m\u001b[0m\u001b[0m\n\u001b[0m",
      "\u001b[0;31mNameError\u001b[0m: name 'd' is not defined"
     ]
    }
   ],
   "source": [
    "d"
   ]
  },
  {
   "cell_type": "code",
   "execution_count": 5,
   "metadata": {},
   "outputs": [],
   "source": []
  },
  {
   "cell_type": "code",
   "execution_count": 23,
   "metadata": {},
   "outputs": [],
   "source": []
  },
  {
   "cell_type": "code",
   "execution_count": 3,
   "metadata": {},
   "outputs": [],
   "source": [
    "diameter = 1./resolution\n",
    "d, data = discretize_elliptic_cg(p, diameter=diameter)"
   ]
  },
  {
   "cell_type": "code",
   "execution_count": 4,
   "metadata": {},
   "outputs": [],
   "source": [
    "u = d.solve(mus)\n",
    "rhs = NumpyVectorArray(d.rhs.assemble(mus)._matrix)"
   ]
  },
  {
   "cell_type": "code",
   "execution_count": 11,
   "metadata": {},
   "outputs": [
    {
     "name": "stdout",
     "output_type": "stream",
     "text": [
      "[0.08044871] [6.60281245e-05] [0.00082075]\n",
      "[0.04515947] [3.49481909e-05] [0.00077388]\n",
      "[0.03484629] [2.93181743e-05] [0.00084136]\n",
      "[0.03034278] [2.86124215e-05] [0.00094297]\n",
      "[0.02792647] [2.85102886e-05] [0.00102091]\n",
      "[0.02643141] [2.85715423e-05] [0.00108097]\n",
      "[0.025399] [2.87121274e-05] [0.00113044]\n",
      "[0.02462194] [2.89062417e-05] [0.001174]\n",
      "[0.02399721] [2.91436996e-05] [0.00121446]\n",
      "[0.02347007] [2.94198394e-05] [0.0012535]\n",
      "[0.02300987] [2.97323309e-05] [0.00129216]\n",
      "[0.02259882] [3.00799562e-05] [0.00133104]\n",
      "[0.02222618] [3.0462076e-05] [0.00137055]\n",
      "[0.02188529] [3.08783684e-05] [0.00141092]\n",
      "[0.02157184] [3.13286883e-05] [0.0014523]\n",
      "[0.02128294] [3.18129834e-05] [0.00149476]\n",
      "[0.02101656] [3.23312387e-05] [0.00153837]\n",
      "[0.02077115] [3.28834346e-05] [0.00158313]\n",
      "[0.02054551] [3.34695129e-05] [0.00162904]\n",
      "[0.02033862] [3.40893452e-05] [0.00167609]\n",
      "[0.02014961] [3.47427019e-05] [0.00172424]\n",
      "[0.01997767] [3.54292211e-05] [0.00177344]\n",
      "[0.01982208] [3.6148376e-05] [0.00182364]\n",
      "[0.01968215] [3.6899441e-05] [0.00187477]\n",
      "[0.01955724] [3.7681456e-05] [0.00192673]\n",
      "[0.01944673] [3.84931905e-05] [0.00197942]\n",
      "[0.01935004] [3.93331075e-05] [0.00203271]\n",
      "[0.01926662] [4.01993286e-05] [0.00208648]\n",
      "[0.01919593] [4.10896026e-05] [0.00214054]\n",
      "[0.01913746] [4.20012792e-05] [0.00219472]\n",
      "[0.0190907] [4.29312908e-05] [0.00224881]\n",
      "[0.01905517] [4.38761448e-05] [0.00230258]\n",
      "[0.01903037] [4.48319306e-05] [0.00235581]\n",
      "[0.01901582] [4.57943429e-05] [0.00240822]\n",
      "[0.01901104] [4.67587262e-05] [0.00245956]\n",
      "[0.01901553] [4.77201406e-05] [0.00250954]\n",
      "[0.01902878] [4.86734515e-05] [0.00255789]\n",
      "[0.01905029] [4.96134428e-05] [0.00260434]\n",
      "[0.01907953] [5.05349506e-05] [0.00264865]\n",
      "[0.01911597] [5.14330137e-05] [0.00269058]\n",
      "[0.01915906] [5.2303035e-05] [0.00272994]\n",
      "[0.01920827] [5.31409453e-05] [0.00276657]\n",
      "[0.01926306] [5.39433591e-05] [0.00280035]\n",
      "[0.01932292] [5.47077142e-05] [0.00283123]\n",
      "[0.01938732] [5.54323841e-05] [0.00285921]\n",
      "[0.0194558] [5.61167552e-05] [0.00288432]\n",
      "[0.01952791] [5.67612632e-05] [0.00290667]\n",
      "[0.01960325] [5.73673859e-05] [0.00292642]\n",
      "[0.01968146] [5.7937592e-05] [0.00294377]\n",
      "[0.01976221] [5.8475251e-05] [0.00295894]\n",
      "[0.01984526] [5.8984509e-05] [0.00297222]\n",
      "[0.01993037] [5.94701392e-05] [0.0029839]\n",
      "[0.02001738] [5.99373776e-05] [0.00299427]\n",
      "[0.02010616] [6.0391752e-05] [0.00300364]\n",
      "[0.02019663] [6.08389144e-05] [0.00301233]\n",
      "[0.02028873] [6.12844848e-05] [0.00302062]\n",
      "[0.02038246] [6.1733911e-05] [0.00302878]\n",
      "[0.02047782] [6.21923511e-05] [0.00303706]\n",
      "[0.02057485] [6.26645787e-05] [0.00304569]\n",
      "[0.02067361] [6.32484518e-05] [0.00305938]\n",
      "[0.02077417] [6.43894777e-05] [0.0030995]\n",
      "[0.02087661] [6.55107744e-05] [0.003138]\n",
      "[0.02098103] [6.66081552e-05] [0.00317468]\n",
      "[0.02108752] [6.76776759e-05] [0.00320937]\n",
      "[0.02119616] [6.87157356e-05] [0.0032419]\n",
      "[0.02130703] [6.97191768e-05] [0.00327212]\n",
      "[0.02142019] [7.06853788e-05] [0.00329994]\n",
      "[0.02153568] [7.16123422e-05] [0.00332529]\n",
      "[0.0216535] [7.2498758e-05] [0.00334813]\n",
      "[0.02177362] [7.3344061e-05] [0.00336848]\n",
      "[0.02189596] [7.41484623e-05] [0.0033864]\n",
      "[0.0220204] [7.4912962e-05] [0.00340198]\n",
      "[0.02214678] [7.56393396e-05] [0.00341536]\n",
      "[0.02227487] [7.63301244e-05] [0.00342674]\n",
      "[0.02240441] [7.69885477e-05] [0.00343631]\n",
      "[0.02253507] [7.76184786e-05] [0.00344434]\n",
      "[0.02266653] [7.82243475e-05] [0.00345109]\n",
      "[0.02279841] [7.88110607e-05] [0.00345687]\n",
      "[0.02293032] [7.93839105e-05] [0.00346196]\n",
      "[0.02306189] [8.04607834e-05] [0.00348891]\n",
      "[0.02319277] [8.20499365e-05] [0.00353774]\n",
      "[0.02332263] [8.36017672e-05] [0.00358458]\n",
      "[0.02345121] [8.51071201e-05] [0.00362911]\n",
      "[0.02357832] [8.65571255e-05] [0.00367105]\n",
      "[0.02370386] [8.7943478e-05] [0.00371009]\n",
      "[0.02382779] [8.92587236e-05] [0.00374599]\n",
      "[0.02395021] [9.04965383e-05] [0.00377853]\n",
      "[0.02407127] [9.1651984e-05] [0.00380753]\n",
      "[0.02419122] [9.27217216e-05] [0.00383287]\n"
     ]
    },
    {
     "ename": "KeyboardInterrupt",
     "evalue": "",
     "output_type": "error",
     "traceback": [
      "\u001b[0;31m---------------------------------------------------------------------------\u001b[0m",
      "\u001b[0;31mKeyboardInterrupt\u001b[0m                         Traceback (most recent call last)",
      "\u001b[0;32m<ipython-input-11-1920670c9f07>\u001b[0m in \u001b[0;36m<module>\u001b[0;34m()\u001b[0m\n\u001b[1;32m     21\u001b[0m \u001b[0;34m\u001b[0m\u001b[0m\n\u001b[1;32m     22\u001b[0m     \u001b[0;31m#t = time.time()\u001b[0m\u001b[0;34m\u001b[0m\u001b[0;34m\u001b[0m\u001b[0m\n\u001b[0;32m---> 23\u001b[0;31m     \u001b[0meigvals\u001b[0m \u001b[0;34m=\u001b[0m \u001b[0msp\u001b[0m\u001b[0;34m.\u001b[0m\u001b[0meigs\u001b[0m\u001b[0;34m(\u001b[0m\u001b[0mM1\u001b[0m\u001b[0;34m,\u001b[0m \u001b[0mM\u001b[0m\u001b[0;34m=\u001b[0m\u001b[0mX\u001b[0m\u001b[0;34m,\u001b[0m \u001b[0mwhich\u001b[0m \u001b[0;34m=\u001b[0m \u001b[0;34m'SM'\u001b[0m\u001b[0;34m,\u001b[0m \u001b[0mtol\u001b[0m \u001b[0;34m=\u001b[0m \u001b[0;36m1e-1\u001b[0m\u001b[0;34m,\u001b[0m \u001b[0mk\u001b[0m\u001b[0;34m=\u001b[0m\u001b[0;36m100\u001b[0m\u001b[0;34m)\u001b[0m\u001b[0;34m[\u001b[0m\u001b[0;36m0\u001b[0m\u001b[0;34m]\u001b[0m\u001b[0;34m\u001b[0m\u001b[0m\n\u001b[0m\u001b[1;32m     24\u001b[0m     \u001b[0;31m#print time.time()-t\u001b[0m\u001b[0;34m\u001b[0m\u001b[0;34m\u001b[0m\u001b[0m\n\u001b[1;32m     25\u001b[0m     \u001b[0meigvals\u001b[0m \u001b[0;34m=\u001b[0m \u001b[0mnp\u001b[0m\u001b[0;34m.\u001b[0m\u001b[0msqrt\u001b[0m\u001b[0;34m(\u001b[0m\u001b[0mnp\u001b[0m\u001b[0;34m.\u001b[0m\u001b[0mabs\u001b[0m\u001b[0;34m(\u001b[0m\u001b[0meigvals\u001b[0m\u001b[0;34m)\u001b[0m\u001b[0;34m)\u001b[0m\u001b[0;34m\u001b[0m\u001b[0m\n",
      "\u001b[0;32m/usr/lib/python2.7/dist-packages/scipy/sparse/linalg/eigen/arpack/arpack.pyc\u001b[0m in \u001b[0;36meigs\u001b[0;34m(A, k, M, sigma, which, v0, ncv, maxiter, tol, return_eigenvectors, Minv, OPinv, OPpart)\u001b[0m\n\u001b[1;32m   1301\u001b[0m     \u001b[0;32mwith\u001b[0m \u001b[0m_ARPACK_LOCK\u001b[0m\u001b[0;34m:\u001b[0m\u001b[0;34m\u001b[0m\u001b[0m\n\u001b[1;32m   1302\u001b[0m         \u001b[0;32mwhile\u001b[0m \u001b[0;32mnot\u001b[0m \u001b[0mparams\u001b[0m\u001b[0;34m.\u001b[0m\u001b[0mconverged\u001b[0m\u001b[0;34m:\u001b[0m\u001b[0;34m\u001b[0m\u001b[0m\n\u001b[0;32m-> 1303\u001b[0;31m             \u001b[0mparams\u001b[0m\u001b[0;34m.\u001b[0m\u001b[0miterate\u001b[0m\u001b[0;34m(\u001b[0m\u001b[0;34m)\u001b[0m\u001b[0;34m\u001b[0m\u001b[0m\n\u001b[0m\u001b[1;32m   1304\u001b[0m \u001b[0;34m\u001b[0m\u001b[0m\n\u001b[1;32m   1305\u001b[0m         \u001b[0;32mreturn\u001b[0m \u001b[0mparams\u001b[0m\u001b[0;34m.\u001b[0m\u001b[0mextract\u001b[0m\u001b[0;34m(\u001b[0m\u001b[0mreturn_eigenvectors\u001b[0m\u001b[0;34m)\u001b[0m\u001b[0;34m\u001b[0m\u001b[0m\n",
      "\u001b[0;32m/usr/lib/python2.7/dist-packages/scipy/sparse/linalg/eigen/arpack/arpack.pyc\u001b[0m in \u001b[0;36miterate\u001b[0;34m(self)\u001b[0m\n\u001b[1;32m    739\u001b[0m             \u001b[0;31m# compute y = Op*x\u001b[0m\u001b[0;34m\u001b[0m\u001b[0;34m\u001b[0m\u001b[0m\n\u001b[1;32m    740\u001b[0m             \u001b[0;32mif\u001b[0m \u001b[0mself\u001b[0m\u001b[0;34m.\u001b[0m\u001b[0mmode\u001b[0m \u001b[0;32min\u001b[0m \u001b[0;34m(\u001b[0m\u001b[0;36m1\u001b[0m\u001b[0;34m,\u001b[0m \u001b[0;36m2\u001b[0m\u001b[0;34m)\u001b[0m\u001b[0;34m:\u001b[0m\u001b[0;34m\u001b[0m\u001b[0m\n\u001b[0;32m--> 741\u001b[0;31m                 \u001b[0mself\u001b[0m\u001b[0;34m.\u001b[0m\u001b[0mworkd\u001b[0m\u001b[0;34m[\u001b[0m\u001b[0myslice\u001b[0m\u001b[0;34m]\u001b[0m \u001b[0;34m=\u001b[0m \u001b[0mself\u001b[0m\u001b[0;34m.\u001b[0m\u001b[0mOP\u001b[0m\u001b[0;34m(\u001b[0m\u001b[0mself\u001b[0m\u001b[0;34m.\u001b[0m\u001b[0mworkd\u001b[0m\u001b[0;34m[\u001b[0m\u001b[0mxslice\u001b[0m\u001b[0;34m]\u001b[0m\u001b[0;34m)\u001b[0m\u001b[0;34m\u001b[0m\u001b[0m\n\u001b[0m\u001b[1;32m    742\u001b[0m             \u001b[0;32melse\u001b[0m\u001b[0;34m:\u001b[0m\u001b[0;34m\u001b[0m\u001b[0m\n\u001b[1;32m    743\u001b[0m                 \u001b[0mBxslice\u001b[0m \u001b[0;34m=\u001b[0m \u001b[0mslice\u001b[0m\u001b[0;34m(\u001b[0m\u001b[0mself\u001b[0m\u001b[0;34m.\u001b[0m\u001b[0mipntr\u001b[0m\u001b[0;34m[\u001b[0m\u001b[0;36m2\u001b[0m\u001b[0;34m]\u001b[0m \u001b[0;34m-\u001b[0m \u001b[0;36m1\u001b[0m\u001b[0;34m,\u001b[0m \u001b[0mself\u001b[0m\u001b[0;34m.\u001b[0m\u001b[0mipntr\u001b[0m\u001b[0;34m[\u001b[0m\u001b[0;36m2\u001b[0m\u001b[0;34m]\u001b[0m \u001b[0;34m-\u001b[0m \u001b[0;36m1\u001b[0m \u001b[0;34m+\u001b[0m \u001b[0mself\u001b[0m\u001b[0;34m.\u001b[0m\u001b[0mn\u001b[0m\u001b[0;34m)\u001b[0m\u001b[0;34m\u001b[0m\u001b[0m\n",
      "\u001b[0;32m/usr/lib/python2.7/dist-packages/scipy/sparse/linalg/eigen/arpack/arpack.pyc\u001b[0m in \u001b[0;36m<lambda>\u001b[0;34m(x)\u001b[0m\n\u001b[1;32m    651\u001b[0m                 \u001b[0;32mraise\u001b[0m \u001b[0mValueError\u001b[0m\u001b[0;34m(\u001b[0m\u001b[0;34m\"Minv_matvec must be specified for mode=2\"\u001b[0m\u001b[0;34m)\u001b[0m\u001b[0;34m\u001b[0m\u001b[0m\n\u001b[1;32m    652\u001b[0m \u001b[0;34m\u001b[0m\u001b[0m\n\u001b[0;32m--> 653\u001b[0;31m             \u001b[0mself\u001b[0m\u001b[0;34m.\u001b[0m\u001b[0mOP\u001b[0m \u001b[0;34m=\u001b[0m \u001b[0;32mlambda\u001b[0m \u001b[0mx\u001b[0m\u001b[0;34m:\u001b[0m \u001b[0mMinv_matvec\u001b[0m\u001b[0;34m(\u001b[0m\u001b[0mmatvec\u001b[0m\u001b[0;34m(\u001b[0m\u001b[0mx\u001b[0m\u001b[0;34m)\u001b[0m\u001b[0;34m)\u001b[0m\u001b[0;34m\u001b[0m\u001b[0m\n\u001b[0m\u001b[1;32m    654\u001b[0m             \u001b[0mself\u001b[0m\u001b[0;34m.\u001b[0m\u001b[0mOPa\u001b[0m \u001b[0;34m=\u001b[0m \u001b[0mMinv_matvec\u001b[0m\u001b[0;34m\u001b[0m\u001b[0m\n\u001b[1;32m    655\u001b[0m             \u001b[0mself\u001b[0m\u001b[0;34m.\u001b[0m\u001b[0mOPb\u001b[0m \u001b[0;34m=\u001b[0m \u001b[0mmatvec\u001b[0m\u001b[0;34m\u001b[0m\u001b[0m\n",
      "\u001b[0;32m/usr/lib/python2.7/dist-packages/scipy/sparse/linalg/interface.pyc\u001b[0m in \u001b[0;36mmatvec\u001b[0;34m(self, x)\u001b[0m\n\u001b[1;32m    217\u001b[0m             \u001b[0;32mraise\u001b[0m \u001b[0mValueError\u001b[0m\u001b[0;34m(\u001b[0m\u001b[0;34m'dimension mismatch'\u001b[0m\u001b[0;34m)\u001b[0m\u001b[0;34m\u001b[0m\u001b[0m\n\u001b[1;32m    218\u001b[0m \u001b[0;34m\u001b[0m\u001b[0m\n\u001b[0;32m--> 219\u001b[0;31m         \u001b[0my\u001b[0m \u001b[0;34m=\u001b[0m \u001b[0mself\u001b[0m\u001b[0;34m.\u001b[0m\u001b[0m_matvec\u001b[0m\u001b[0;34m(\u001b[0m\u001b[0mx\u001b[0m\u001b[0;34m)\u001b[0m\u001b[0;34m\u001b[0m\u001b[0m\n\u001b[0m\u001b[1;32m    220\u001b[0m \u001b[0;34m\u001b[0m\u001b[0m\n\u001b[1;32m    221\u001b[0m         \u001b[0;32mif\u001b[0m \u001b[0misinstance\u001b[0m\u001b[0;34m(\u001b[0m\u001b[0mx\u001b[0m\u001b[0;34m,\u001b[0m \u001b[0mnp\u001b[0m\u001b[0;34m.\u001b[0m\u001b[0mmatrix\u001b[0m\u001b[0;34m)\u001b[0m\u001b[0;34m:\u001b[0m\u001b[0;34m\u001b[0m\u001b[0m\n",
      "\u001b[0;32m/usr/lib/python2.7/dist-packages/scipy/sparse/linalg/interface.pyc\u001b[0m in \u001b[0;36m_matvec\u001b[0;34m(self, x)\u001b[0m\n\u001b[1;32m    469\u001b[0m \u001b[0;34m\u001b[0m\u001b[0m\n\u001b[1;32m    470\u001b[0m     \u001b[0;32mdef\u001b[0m \u001b[0m_matvec\u001b[0m\u001b[0;34m(\u001b[0m\u001b[0mself\u001b[0m\u001b[0;34m,\u001b[0m \u001b[0mx\u001b[0m\u001b[0;34m)\u001b[0m\u001b[0;34m:\u001b[0m\u001b[0;34m\u001b[0m\u001b[0m\n\u001b[0;32m--> 471\u001b[0;31m         \u001b[0;32mreturn\u001b[0m \u001b[0mself\u001b[0m\u001b[0;34m.\u001b[0m\u001b[0m__matvec_impl\u001b[0m\u001b[0;34m(\u001b[0m\u001b[0mx\u001b[0m\u001b[0;34m)\u001b[0m\u001b[0;34m\u001b[0m\u001b[0m\n\u001b[0m\u001b[1;32m    472\u001b[0m \u001b[0;34m\u001b[0m\u001b[0m\n\u001b[1;32m    473\u001b[0m     \u001b[0;32mdef\u001b[0m \u001b[0m_rmatvec\u001b[0m\u001b[0;34m(\u001b[0m\u001b[0mself\u001b[0m\u001b[0;34m,\u001b[0m \u001b[0mx\u001b[0m\u001b[0;34m)\u001b[0m\u001b[0;34m:\u001b[0m\u001b[0;34m\u001b[0m\u001b[0m\n",
      "\u001b[0;32m<ipython-input-11-1920670c9f07>\u001b[0m in \u001b[0;36mmv\u001b[0;34m(v)\u001b[0m\n\u001b[1;32m     17\u001b[0m     \u001b[0mYinv\u001b[0m \u001b[0;34m=\u001b[0m \u001b[0msp\u001b[0m\u001b[0;34m.\u001b[0m\u001b[0mfactorized\u001b[0m\u001b[0;34m(\u001b[0m\u001b[0mY\u001b[0m\u001b[0;34m.\u001b[0m\u001b[0mastype\u001b[0m\u001b[0;34m(\u001b[0m\u001b[0mcomplex\u001b[0m\u001b[0;34m)\u001b[0m\u001b[0;34m)\u001b[0m\u001b[0;34m\u001b[0m\u001b[0m\n\u001b[1;32m     18\u001b[0m     \u001b[0;32mdef\u001b[0m \u001b[0mmv\u001b[0m\u001b[0;34m(\u001b[0m\u001b[0mv\u001b[0m\u001b[0;34m)\u001b[0m\u001b[0;34m:\u001b[0m\u001b[0;34m\u001b[0m\u001b[0m\n\u001b[0;32m---> 19\u001b[0;31m         \u001b[0;32mreturn\u001b[0m \u001b[0mA\u001b[0m\u001b[0;34m.\u001b[0m\u001b[0mH\u001b[0m\u001b[0;34m.\u001b[0m\u001b[0mdot\u001b[0m\u001b[0;34m(\u001b[0m\u001b[0mYinv\u001b[0m\u001b[0;34m(\u001b[0m\u001b[0mA\u001b[0m\u001b[0;34m.\u001b[0m\u001b[0mdot\u001b[0m\u001b[0;34m(\u001b[0m\u001b[0mv\u001b[0m\u001b[0;34m)\u001b[0m\u001b[0;34m)\u001b[0m\u001b[0;34m)\u001b[0m\u001b[0;34m\u001b[0m\u001b[0m\n\u001b[0m\u001b[1;32m     20\u001b[0m     \u001b[0mM1\u001b[0m \u001b[0;34m=\u001b[0m \u001b[0mLinearOperator\u001b[0m\u001b[0;34m(\u001b[0m\u001b[0mA\u001b[0m\u001b[0;34m.\u001b[0m\u001b[0mshape\u001b[0m\u001b[0;34m,\u001b[0m \u001b[0mmatvec\u001b[0m \u001b[0;34m=\u001b[0m \u001b[0mmv\u001b[0m\u001b[0;34m)\u001b[0m\u001b[0;34m\u001b[0m\u001b[0m\n\u001b[1;32m     21\u001b[0m \u001b[0;34m\u001b[0m\u001b[0m\n",
      "\u001b[0;31mKeyboardInterrupt\u001b[0m: "
     ]
    }
   ],
   "source": [
    "for k in np.arange(0.1,10.1,0.1):\n",
    "    cglob = -1j*k\n",
    "    mus = {'k': k, 'c_glob': cglob, 'c_loc': cloc}\n",
    "\n",
    "    u = d.solve(mus)\n",
    "    rhs = NumpyVectorArray(d.rhs.assemble(mus)._matrix)\n",
    "\n",
    "    a = d.h1_norm(u)\n",
    "\n",
    "\n",
    "    op = d.operator.assemble(mus)\n",
    "    A = op._matrix\n",
    "    H1 = d.h1_product.assemble(mus)._matrix\n",
    "    Y = H1\n",
    "    X = H1\n",
    "\n",
    "    Yinv = sp.factorized(Y.astype(complex))\n",
    "    def mv(v):\n",
    "        return A.H.dot(Yinv(A.dot(v)))\n",
    "    M1 = LinearOperator(A.shape, matvec = mv)\n",
    "\n",
    "    #t = time.time()\n",
    "    eigvals = sp.eigs(M1, M=X, which = 'SM', tol = 1e-1, k=100)[0]\n",
    "    #print time.time()-t\n",
    "    eigvals = np.sqrt(np.abs(eigvals))\n",
    "    eigvals.sort()\n",
    "    result = eigvals[0]\n",
    "\n",
    "    b = d.l2_norm(rhs)/result\n",
    "    print a, b, b/a"
   ]
  },
  {
   "cell_type": "code",
   "execution_count": 12,
   "metadata": {},
   "outputs": [
    {
     "data": {
      "text/plain": [
       "array([0.00199468])"
      ]
     },
     "execution_count": 12,
     "metadata": {},
     "output_type": "execute_result"
    }
   ],
   "source": [
    "d.h1_norm(rhs)"
   ]
  },
  {
   "cell_type": "code",
   "execution_count": 13,
   "metadata": {},
   "outputs": [
    {
     "data": {
      "text/plain": [
       "array([2.618914e-05])"
      ]
     },
     "execution_count": 13,
     "metadata": {},
     "output_type": "execute_result"
    }
   ],
   "source": [
    "d.l2_norm(rhs)"
   ]
  },
  {
   "cell_type": "code",
   "execution_count": 8,
   "metadata": {},
   "outputs": [
    {
     "data": {
      "text/plain": [
       "array([6.32484518e-05])"
      ]
     },
     "execution_count": 8,
     "metadata": {},
     "output_type": "execute_result"
    }
   ],
   "source": [
    "b"
   ]
  },
  {
   "cell_type": "code",
   "execution_count": 9,
   "metadata": {},
   "outputs": [
    {
     "data": {
      "text/plain": [
       "0.4140676854476648"
      ]
     },
     "execution_count": 9,
     "metadata": {},
     "output_type": "execute_result"
    }
   ],
   "source": [
    "result"
   ]
  },
  {
   "cell_type": "code",
   "execution_count": 14,
   "metadata": {},
   "outputs": [],
   "source": [
    "d.visualize(rhs)"
   ]
  },
  {
   "cell_type": "code",
   "execution_count": null,
   "metadata": {},
   "outputs": [],
   "source": []
  }
 ],
 "metadata": {
  "kernelspec": {
   "display_name": "project",
   "language": "python",
   "name": "project"
  },
  "language_info": {
   "codemirror_mode": {
    "name": "ipython",
    "version": 2
   },
   "file_extension": ".py",
   "mimetype": "text/x-python",
   "name": "python",
   "nbconvert_exporter": "python",
   "pygments_lexer": "ipython2",
   "version": "2.7.15rc1"
  }
 },
 "nbformat": 4,
 "nbformat_minor": 2
}
