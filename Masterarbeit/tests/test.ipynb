{
 "cells": [
  {
   "cell_type": "code",
   "execution_count": 3,
   "metadata": {},
   "outputs": [
    {
     "name": "stdout",
     "output_type": "stream",
     "text": [
      "Loading pyMOR version 0.4.2-116-gadb475af\n"
     ]
    }
   ],
   "source": [
    "from evaluations import *\n",
    "from partitioner import build_subspaces, partition_any_grid\n",
    "from discrete_pou import *"
   ]
  },
  {
   "cell_type": "code",
   "execution_count": 2,
   "metadata": {},
   "outputs": [
    {
     "name": "stderr",
     "output_type": "stream",
     "text": [
      "/home/root_dennis/pymor_MA/src/pymor/gui/qt.py:282: ComplexWarning: Casting complex values to real discards the imaginary part\n",
      "  tuple(u.data.astype(np.float64, copy=False) for u in U)\n"
     ]
    }
   ],
   "source": [
    "p = maxwell_problem()\n",
    "diameter = 1./200\n",
    "d, data = discretize_maxwell(p, diameter = diameter)\n",
    "mus = {'c_loc' : 1. / 376.730313 *1./200, 'k': 1e9*2*np.pi, 'mu': 4*np.pi*1e-7, 'eps': 8.854187817e-12}\n",
    "u = d.solve(mus)"
   ]
  },
  {
   "cell_type": "code",
   "execution_count": 4,
   "metadata": {},
   "outputs": [],
   "source": [
    "coarse_grid_resolution = 10\n",
    "dof_codim = 1 # codim of grid entities for dofs\n",
    "localization_codim = 2\n",
    "grid = data[\"grid\"]\n",
    "dmask = data['boundary_info'].dirichlet_mask(2)\n",
    "subspaces, subspaces_per_codim = build_subspaces(*partition_any_grid(grid, num_intervals=(coarse_grid_resolution, coarse_grid_resolution), dmask = dmask, codim = dof_codim))\n",
    "spaces = [subspaces[s_id][\"env\"] for s_id in subspaces_per_codim[localization_codim]]\n",
    "localizer = NumpyLocalizer(d.solution_space, subspaces['dofs'])\n",
    "pou = localized_pou(subspaces, subspaces_per_codim, localizer, coarse_grid_resolution, grid, localization_codim, dof_codim)"
   ]
  },
  {
   "cell_type": "code",
   "execution_count": 4,
   "metadata": {},
   "outputs": [
    {
     "name": "stderr",
     "output_type": "stream",
     "text": [
      "/home/root_dennis/pymor_MA/src/pymor/gui/qt.py:282: ComplexWarning: Casting complex values to real discards the imaginary part\n",
      "  tuple(u.data.astype(np.float64, copy=False) for u in U)\n"
     ]
    }
   ],
   "source": [
    "xpos = 0\n",
    "ypos = 0\n",
    "\n",
    "s_id = subspaces_per_codim[localization_codim][ypos + xpos*(coarse_grid_resolution-1)]\n",
    "space = subspaces[s_id][\"env\"]\n",
    "lsol = localizer.localize_vector_array(u, space)\n",
    "gsol = localizer.globalize_vector_array(lsol, space)\n",
    "\n",
    "pousol = pou[space](lsol)\n",
    "pougsol = localizer.globalize_vector_array(pousol, space)\n",
    "d.visualize((u, gsol, pougsol))"
   ]
  },
  {
   "cell_type": "code",
   "execution_count": 5,
   "metadata": {},
   "outputs": [],
   "source": [
    "source_space = subspaces[s_id][\"cxenv\"]\n",
    "training_space = subspaces[s_id][\"xenv\"]\n",
    "range_space = subspaces[s_id][\"env\"]\n",
    "omega_space = tuple(sorted(set(subspaces[s_id]['env']) | set(subspaces[s_id]['cenv'])))\n",
    "omega_star_space = tuple(sorted(set(training_space) | set(source_space)))"
   ]
  },
  {
   "cell_type": "code",
   "execution_count": 6,
   "metadata": {},
   "outputs": [
    {
     "name": "stderr",
     "output_type": "stream",
     "text": [
      "/home/root_dennis/pymor_MA/src/pymor/gui/qt.py:282: ComplexWarning: Casting complex values to real discards the imaginary part\n",
      "  tuple(u.data.astype(np.float64, copy=False) for u in U)\n"
     ]
    }
   ],
   "source": [
    "U = u*0\n",
    "for i in range(len(spaces)):\n",
    "\tspace = spaces[i]\n",
    "\tlsol = localizer.localize_vector_array(u, space)\n",
    "\tgsol = localizer.globalize_vector_array(lsol, space)\n",
    "\t#d.visualize(gsol)\n",
    "\n",
    "\tpousol = pou[space](lsol)\n",
    "\tpougsol = localizer.globalize_vector_array(pousol, space)\n",
    "\t#d.visualize((u, gsol, pougsol))\n",
    "\tU += pougsol\n",
    "\n",
    "d.visualize(u-U)"
   ]
  },
  {
   "cell_type": "code",
   "execution_count": 7,
   "metadata": {},
   "outputs": [],
   "source": [
    "xmin = max(0,xpos - 1)\n",
    "xsize = min(xpos + 3, coarse_grid_resolution - 2 + 3) - xmin\n",
    "ymin = max(0,ypos - 1)\n",
    "ysize = min(ypos + 3, coarse_grid_resolution - 2 + 3) - ymin\n",
    "mysubgrid = getsubgrid(grid, xmin, ymin, coarse_grid_resolution, xsize=xsize, ysize=ysize)\n",
    "mysubbi = SubGridBoundaryInfo(mysubgrid, grid, data['boundary_info'], BoundaryType('robin'))\n",
    "ld, ldata = discretize_maxwell(p, grid=mysubgrid, boundary_info=mysubbi)\n",
    "lop = ld.operator.assemble(mus)"
   ]
  },
  {
   "cell_type": "code",
   "execution_count": 8,
   "metadata": {},
   "outputs": [],
   "source": [
    "ndofsext = len(ldata['grid'].parent_indices(dof_codim))\n",
    "global_dofnrsext = -100000000* np.ones(shape=(d.solution_space.dim,))\n",
    "global_dofnrsext[ldata['grid'].parent_indices(dof_codim)] = np.array(range(ndofsext))\n",
    "lvecext = localizer.localize_vector_array(NumpyVectorArray(global_dofnrsext), omega_star_space).data[0]"
   ]
  },
  {
   "cell_type": "code",
   "execution_count": 9,
   "metadata": {},
   "outputs": [
    {
     "name": "stderr",
     "output_type": "stream",
     "text": [
      "/home/root_dennis/pymor_MA/src/pymor/gui/qt.py:282: ComplexWarning: Casting complex values to real discards the imaginary part\n",
      "  tuple(u.data.astype(np.float64, copy=False) for u in U)\n",
      "/home/root_dennis/pymor_MA/src/pymor/gui/qt.py:282: ComplexWarning: Casting complex values to real discards the imaginary part\n",
      "  tuple(u.data.astype(np.float64, copy=False) for u in U)\n"
     ]
    }
   ],
   "source": [
    "bilifo = NumpyMatrixOperator(lop._matrix[:,lvecext][lvecext,:])\n",
    "va = NumpyVectorArray(np.random.normal(size=(1,len(localizer.join_spaces(source_space))))+1j*np.random.normal(size=(1,len(localizer.join_spaces(source_space)))))\n",
    "g = localizer.to_space(NumpyVectorArray(va), source_space, omega_star_space)\n",
    "solution = StationaryDiscretization(bilifo, VectorFunctional(g), cache_region=None).solve()\n",
    "globsol = localizer.globalize_vector_array(solution, omega_star_space)\n",
    "d.visualize(globsol)\n",
    "sol2 = localizer.to_space(solution, omega_star_space, range_space)\n",
    "globsol2 = localizer.globalize_vector_array(sol2, range_space)\n",
    "d.visualize(globsol2)"
   ]
  },
  {
   "cell_type": "code",
   "execution_count": 8,
   "metadata": {},
   "outputs": [
    {
     "data": {
      "text/plain": [
       "array([  1.00000000e-10,   1.00000000e-09,   1.00000000e-08,\n",
       "         1.00000000e-07,   1.00000000e-06,   1.00000000e-05,\n",
       "         1.00000000e-04,   1.00000000e-03,   1.00000000e-02,\n",
       "         1.00000000e-01,   1.00000000e+00,   1.00000000e+01,\n",
       "         1.00000000e+02,   1.00000000e+03,   1.00000000e+04,\n",
       "         1.00000000e+05,   1.00000000e+06,   1.00000000e+07,\n",
       "         1.00000000e+08,   1.00000000e+09,   1.00000000e+10])"
      ]
     },
     "execution_count": 8,
     "metadata": {},
     "output_type": "execute_result"
    }
   ],
   "source": [
    "\n",
    "np.logspace(-10,10,21)"
   ]
  },
  {
   "cell_type": "code",
   "execution_count": 3,
   "metadata": {},
   "outputs": [
    {
     "name": "stdout",
     "output_type": "stream",
     "text": [
      "localizing problem\n",
      "creating bases\n",
      "reconstructing solution\n",
      "0.0216131717383\n",
      "localizing problem\n",
      "creating bases\n",
      "reconstructing solution\n",
      "0.028263051465\n",
      "localizing problem\n",
      "creating bases\n",
      "reconstructing solution\n",
      "0.016295498606\n",
      "localizing problem\n",
      "creating bases\n",
      "reconstructing solution\n",
      "0.0206155426679\n",
      "localizing problem\n",
      "creating bases\n",
      "reconstructing solution\n",
      "0.0249458146099\n",
      "localizing problem\n",
      "creating bases\n",
      "reconstructing solution\n",
      "0.0200301780793\n",
      "localizing problem\n",
      "creating bases\n",
      "reconstructing solution\n",
      "0.0143802210458\n",
      "localizing problem\n",
      "creating bases\n",
      "reconstructing solution\n",
      "0.00780125124131\n",
      "localizing problem\n",
      "creating bases\n",
      "reconstructing solution\n",
      "0.0142324625618\n",
      "localizing problem\n",
      "creating bases\n",
      "reconstructing solution\n",
      "0.0188913638173\n",
      "localizing problem\n",
      "creating bases\n",
      "reconstructing solution\n",
      "0.0210072820589\n",
      "localizing problem\n",
      "creating bases\n",
      "reconstructing solution\n",
      "0.0185196136099\n",
      "localizing problem\n",
      "creating bases\n",
      "reconstructing solution\n",
      "0.014367009817\n",
      "localizing problem\n",
      "creating bases\n",
      "reconstructing solution\n",
      "0.0142536688877\n",
      "localizing problem\n",
      "creating bases\n",
      "reconstructing solution\n",
      "1.27581232455\n",
      "localizing problem\n",
      "creating bases\n",
      "reconstructing solution\n",
      "1.15676517295\n",
      "localizing problem\n",
      "creating bases\n",
      "reconstructing solution\n",
      "1.16176071031\n",
      "localizing problem\n",
      "creating bases\n",
      "reconstructing solution\n",
      "1.16176071018\n",
      "localizing problem\n",
      "creating bases\n",
      "reconstructing solution\n",
      "1.16176071017\n",
      "localizing problem\n",
      "creating bases\n",
      "reconstructing solution\n",
      "1.16176071017\n",
      "localizing problem\n",
      "creating bases\n",
      "reconstructing solution\n",
      "1.16176071017\n"
     ]
    }
   ],
   "source": [
    "from evaluations import *\n",
    "p = maxwell_problem()\n",
    "d, data = discretize_maxwell(p, diameter = 1./100)\n",
    "mus = {'c_loc' : 1. / 376.730313 *1./200, 'k': 1e9*2*np.pi, 'mu': 4*np.pi*1e-7, 'eps': 8.854187817e-12}\n",
    "u = d.solve(mus)\n",
    "errs = []\n",
    "for cloc in np.logspace(-10,10,21):\n",
    "    mus = {'c_loc' : cloc, 'k': 1e9*2*np.pi, 'mu': 4*np.pi*1e-7, 'eps': 8.854187817e-12}\n",
    "    gq, lq = localize_problem(p, 10, 100, mus, dof_codim = 1, discretizer = discretize_maxwell)\n",
    "    basis = create_bases2(gq,lq,15,transfer = 'robin', silent = False)\n",
    "    ru = reconstruct_solution(gq,lq,basis, silent = False)\n",
    "    dif = u-ru\n",
    "    err = d.h1_norm(dif)[0]/d.h1_norm(u)[0]\n",
    "    print err\n",
    "    errs.append(err)\n",
    "    "
   ]
  },
  {
   "cell_type": "code",
   "execution_count": 6,
   "metadata": {},
   "outputs": [
    {
     "data": {
      "image/png": "[encoded data removed]",
      "text/plain": [
       "<matplotlib.figure.Figure at 0x7fc65458abd0>"
      ]
     },
     "metadata": {
      "needs_background": "light"
     },
     "output_type": "display_data"
    }
   ],
   "source": [
    "rang = np.logspace(-10,10,21)\n",
    "\n",
    "rang = rang[:14]\n",
    "errs = errs[:14]\n",
    "\n",
    "from matplotlib import pyplot as plt\n",
    "plt.figure()\n",
    "plt.loglog(rang, errs)\n",
    "plt.xlabel('cloc')\n",
    "plt.legend(loc='upper right')\n",
    "plt.show()"
   ]
  },
  {
   "cell_type": "code",
   "execution_count": 7,
   "metadata": {},
   "outputs": [
    {
     "name": "stdout",
     "output_type": "stream",
     "text": [
      "[0.021613171738342679, 0.028263051464992885, 0.0162954986060403, 0.020615542667883249, 0.024945814609909037, 0.020030178079278309, 0.014380221045781124, 0.0078012512413065949, 0.014232462561807808, 0.018891363817256559, 0.021007282058851495, 0.018519613609921676, 0.014367009817018439, 0.014253668887705982, 1.27581232455236, 1.156765172953264, 1.1617607103131384, 1.1617607101798317, 1.1617607101665215, 1.1617607101651719, 1.1617607101650183]\n"
     ]
    }
   ],
   "source": [
    "print errs"
   ]
  },
  {
   "cell_type": "code",
   "execution_count": 1,
   "metadata": {},
   "outputs": [],
   "source": [
    "errs = [0.021613171738342679, 0.028263051464992885, 0.0162954986060403, 0.020615542667883249, 0.024945814609909037, 0.020030178079278309, 0.014380221045781124, 0.0078012512413065949, 0.014232462561807808, 0.018891363817256559, 0.021007282058851495, 0.018519613609921676, 0.014367009817018439, 0.014253668887705982, 1.27581232455236, 1.156765172953264, 1.1617607103131384, 1.1617607101798317, 1.1617607101665215, 1.1617607101651719, 1.1617607101650183]"
   ]
  },
  {
   "cell_type": "code",
   "execution_count": 2,
   "metadata": {},
   "outputs": [
    {
     "name": "stdout",
     "output_type": "stream",
     "text": [
      "localizing problem\n"
     ]
    },
    {
     "name": "stderr",
     "output_type": "stream",
     "text": [
      "/usr/lib/python2.7/dist-packages/scipy/sparse/compressed.py:774: SparseEfficiencyWarning: Changing the sparsity structure of a csc_matrix is expensive. lil_matrix is more efficient.\n",
      "  SparseEfficiencyWarning)\n"
     ]
    },
    {
     "name": "stdout",
     "output_type": "stream",
     "text": [
      "creating bases\n"
     ]
    },
    {
     "name": "stderr",
     "output_type": "stream",
     "text": [
      "/home/root_dennis/pymor_MA/src/pymor/operators/constructions.py:1002: RuntimeWarning: invalid value encountered in double_scalars\n",
      "  if (np.linalg.norm(norm_squared.imag)/np.linalg.norm(norm_squared) > 1e-11):\n"
     ]
    },
    {
     "name": "stdout",
     "output_type": "stream",
     "text": [
      "reconstructing solution\n"
     ]
    },
    {
     "name": "stderr",
     "output_type": "stream",
     "text": [
      "mybmat.py:20: VisibleDeprecationWarning: `rank` is deprecated; use the `ndim` attribute or function instead. To find the rank of a matrix see `numpy.linalg.matrix_rank`.\n",
      "  if np.rank(blocks) != 2:\n"
     ]
    },
    {
     "name": "stdout",
     "output_type": "stream",
     "text": [
      "0.0176412984002\n"
     ]
    }
   ],
   "source": [
    "from evaluations import *\n",
    "p = maxwell_problem()\n",
    "d, data = discretize_maxwell(p, diameter = 1./100)\n",
    "mus = {'c_loc' : 1. / 376.730313 *1./200, 'k': 1e9*2*np.pi, 'mu': 4*np.pi*1e-7, 'eps': 8.854187817e-12}\n",
    "u = d.solve(mus)\n",
    "mus = {'c_loc' : 0, 'k': 1e9*2*np.pi, 'mu': 4*np.pi*1e-7, 'eps': 8.854187817e-12}\n",
    "gq, lq = localize_problem(p, 10, 100, mus, dof_codim = 1, discretizer = discretize_maxwell)\n",
    "basis = create_bases2(gq,lq,15,transfer = 'dirichlet', silent = False)\n",
    "ru = reconstruct_solution(gq,lq,basis, silent = False)\n",
    "dif = u-ru\n",
    "err = d.h1_norm(dif)[0]/d.h1_norm(u)[0]\n",
    "print err"
   ]
  },
  {
   "cell_type": "code",
   "execution_count": null,
   "metadata": {},
   "outputs": [],
   "source": []
  }
 ],
 "metadata": {
  "kernelspec": {
   "display_name": "project",
   "language": "python",
   "name": "project"
  },
  "language_info": {
   "codemirror_mode": {
    "name": "ipython",
    "version": 2
   },
   "file_extension": ".py",
   "mimetype": "text/x-python",
   "name": "python",
   "nbconvert_exporter": "python",
   "pygments_lexer": "ipython2",
   "version": "2.7.15rc1"
  }
 },
 "nbformat": 4,
 "nbformat_minor": 2
}
