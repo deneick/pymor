{
 "cells": [
  {
   "cell_type": "code",
   "execution_count": 3,
   "metadata": {},
   "outputs": [
    {
     "name": "stdout",
     "output_type": "stream",
     "text": [
      "localizing problem\n",
      "calculated_continuity_constant:  1.79186818672\n",
      "calculated_inf_sup_constant:  0.227325649277\n",
      "calculated all lambdas\n",
      "calculated csis\n",
      "calculated all Psi_norms\n"
     ]
    }
   ],
   "source": [
    "from evaluations import *\n",
    "\n",
    "acc =1e-2\n",
    "boundary = 'robin'\n",
    "coarse_grid_resolution = 10\n",
    "\n",
    "k=6.\n",
    "cglob = -1j*k\n",
    "cloc0 = 0\n",
    "cloc1 = 0.02*(5-1j)\n",
    "cloc2 = 0.0016*(8-1j)\n",
    "\n",
    "p = helmholtz(boundary = boundary)\n",
    "cloc = cloc0+ cloc1*k+cloc2*k**2\n",
    "mus = {'k': k, 'c_glob': cglob, 'c_loc': cloc}\n",
    "resolution  = int(np.ceil(float(k*1.5+50)/coarse_grid_resolution)*coarse_grid_resolution)\n",
    "gq, lq = localize_problem(p, coarse_grid_resolution, resolution, mus = mus, calT = True, calQ = True)\n",
    "\n",
    "calculate_continuity_constant(gq, lq)\n",
    "calculate_inf_sup_constant2(gq, lq)\n",
    "calculate_lambda_min(gq, lq)\n",
    "calculate_csis(gq,lq)\n",
    "calculate_Psi_norm(gq,lq)\n",
    "\n",
    "d = gq[\"d\"]\n",
    "u = d.solve(mus)\n",
    "bases = create_bases(gq, lq, num_testvecs=20, transfer = 'robin', target_accuracy = acc, calC = False)\n",
    "ru = reconstruct_solution(gq,lq,bases)\n",
    "\n",
    "norm = gq[\"full_norm\"]\n",
    "ls = norm(u-ru)/norm(u)\n",
    "localizer = gq[\"localizer\"]\n",
    "pou = gq[\"pou\"]"
   ]
  },
  {
   "cell_type": "code",
   "execution_count": 11,
   "metadata": {},
   "outputs": [],
   "source": [
    "sum1 = NumpyVectorArray(u.data*0)\n",
    "sum2 = 0\n",
    "sum3 = 0\n",
    "sum4 = 0\n",
    "sum51 = 0\n",
    "sum52 = 0\n",
    "sum6 = 0\n",
    "for space in gq[\"spaces\"]:\n",
    "    ldict = lq[space]\n",
    "    basis = bases[space]\n",
    "    M = ldict[\"range_product\"]._matrix\n",
    "    S = ldict[\"source_product\"]._matrix\n",
    "    M_sparse = scipy.sparse.csr_matrix(M)\n",
    "    T = ldict[\"transfer_matrix_robin\"]\n",
    "    B = basis._array.T\n",
    "    range_space = ldict[\"range_space\"]\n",
    "    omega_star_space = ldict[\"omega_star_space\"]\n",
    "    u_s = ldict[\"local_solution_robin\"]\n",
    "    u_s2 = ldict[\"local_sol2\"]\n",
    "    local_norm1 = induced_norm(ldict[\"range_product\"])\n",
    "    local_norm2 = induced_norm(ldict[\"omega_star_product\"])\n",
    "\n",
    "    u_loc = pou[range_space](localizer.localize_vector_array(u, range_space))\n",
    "    u_loc2 = localizer.localize_vector_array(u, omega_star_space)\n",
    "    u_dif = u_loc-u_s\n",
    "    u_dif2 = u_loc2-u_s2\n",
    "    term1 = u_dif.data.T - B.dot(B.conj().T).dot(M_sparse.dot(u_dif.data.T))\n",
    "    term2 = NumpyVectorArray(term1.T)\n",
    "    \n",
    "    T1 = T - B.dot(B.conj().T).dot(M_sparse.dot(T))\n",
    "    maxval = operator_svd2(T1, S, M_sparse)[0][0]\n",
    "    \n",
    "    sum1 += localizer.globalize_vector_array(term2, range_space)\n",
    "    sum2 += local_norm1(term2)\n",
    "    sum3 += maxval*ldict[\"Psi_norm\"]*local_norm2(u_dif2)\n",
    "    sum4 += maxval*ldict[\"Psi_norm\"]*local_norm2(u_loc2)*ldict[\"csi\"]\n",
    "    sum51 += maxval**2*ldict[\"Psi_norm\"]**2*ldict[\"csi\"]**2\n",
    "    sum52 += local_norm2(u_loc2)**2\n",
    "rs1 = gq[\"continuity_constant\"]/gq[\"inf_sup_constant\"]* norm(sum1)/norm(u)\n",
    "rs2 = gq[\"continuity_constant\"]/gq[\"inf_sup_constant\"]* sum2/norm(u)\n",
    "rs3 = gq[\"continuity_constant\"]/gq[\"inf_sup_constant\"]* sum3/norm(u)\n",
    "rs4 = gq[\"continuity_constant\"]/gq[\"inf_sup_constant\"]* sum4/norm(u)\n",
    "rs5 = gq[\"continuity_constant\"]/gq[\"inf_sup_constant\"]* np.sqrt(sum51) * np.sqrt(sum52)/norm(u)\n",
    "rs6 = gq[\"continuity_constant\"]/gq[\"inf_sup_constant\"]* np.sqrt(sum51) *4\n",
    "ccs = gq[\"continuity_constant\"]/gq[\"inf_sup_constant\"]"
   ]
  },
  {
   "cell_type": "code",
   "execution_count": 13,
   "metadata": {},
   "outputs": [
    {
     "name": "stdout",
     "output_type": "stream",
     "text": [
      "[ 11.25464672]\n",
      "[ 7.43895931]\n",
      "[ 3.70649843]\n",
      "[ 1.28244783]\n",
      "[ 1.10396197]\n",
      "[ 1.20409607]\n"
     ]
    }
   ],
   "source": [
    "print rs1/ls\n",
    "print rs2/rs1\n",
    "print rs3/rs2\n",
    "print rs4/rs3\n",
    "print rs5/rs4\n",
    "print rs6/rs5"
   ]
  },
  {
   "cell_type": "code",
   "execution_count": null,
   "metadata": {},
   "outputs": [],
   "source": []
  }
 ],
 "metadata": {
  "kernelspec": {
   "display_name": "project",
   "language": "python",
   "name": "project"
  },
  "language_info": {
   "codemirror_mode": {
    "name": "ipython",
    "version": 2
   },
   "file_extension": ".py",
   "mimetype": "text/x-python",
   "name": "python",
   "nbconvert_exporter": "python",
   "pygments_lexer": "ipython2",
   "version": "2.7.15rc1"
  }
 },
 "nbformat": 4,
 "nbformat_minor": 2
}
