{
 "cells": [
  {
   "cell_type": "code",
   "execution_count": 1,
   "metadata": {},
   "outputs": [
    {
     "name": "stdout",
     "output_type": "stream",
     "text": [
      "Loading pyMOR version 0.4.2-116-gadb475af\n"
     ]
    }
   ],
   "source": [
    "from evaluations import *"
   ]
  },
  {
   "cell_type": "code",
   "execution_count": 2,
   "metadata": {},
   "outputs": [
    {
     "name": "stderr",
     "output_type": "stream",
     "text": [
      "/home/root_dennis/pymor_MA/src/pymor/gui/qt.py:282: ComplexWarning: Casting complex values to real discards the imaginary part\n",
      "  tuple(u.data.astype(np.float64, copy=False) for u in U)\n"
     ]
    }
   ],
   "source": [
    "domain = RectDomain(\n",
    "    domain=([0, 0], [1, 1]),\n",
    "    left=BoundaryType('robin'),\n",
    "    right=BoundaryType('robin'),\n",
    "    top=BoundaryType('dirichlet'),\n",
    "    bottom=BoundaryType('dirichlet'))\n",
    "\n",
    "excitation = GenericFunction(\n",
    "    lambda x: (\n",
    "        0j + np.outer(np.exp(-np.linalg.norm(x - np.array([0.1,0.5]), axis=1)**2 *200) , np.array([0., 1.]))\n",
    "        )\n",
    "        ,\n",
    "    dim_domain=2,\n",
    "    shape_range=(2,)\n",
    ")\n",
    "\n",
    "#excitation = ExpressionFunction('outer((linalg.norm(x - array([0.2,0.5]), axis=1)**2 <= 0.001) * 1., array([0., 1.]))', dim_domain=2,shape_range=(2,))\n",
    "\n",
    "robinvalue = -1\n",
    "\n",
    "def func(x, mu):\n",
    "    return ((x[...,0]>1-1e-13)+(x[...,0]<1e-13)+(x[...,1]>1-1e-13)+(x[...,1]<1e-13)>0)*robinvalue +((x[...,0]>1-1e-13)+(x[...,0]<1e-13)+(x[...,1]>1-1e-13)+(x[...,1]<1e-13)==0)* mu[\"c_loc\"]\n",
    "#return ((x[...,0]==1)+(x[...,0]==0)+(x[...,1]==1)+(x[...,1]==0)>0)*robinvalue +((x[...,0]==1)+(x[...,0]==0)+(x[...,1]==1)+(x[...,1]==0)==0)* mu[\"c_loc\"]\n",
    "robin_data = GenericFunction(func, dim_domain =2, parameter_type={'c_loc' : (), 'k': (), 'mu': (), 'eps': ()})\n",
    "#robin_data = ConstantFunction(robinvalue, dim_domain = 2)\n",
    "parameter_range=(0., 100.)\n",
    "p = MaxwellProblem(domain=domain, robin_data=robin_data, excitation=excitation,\n",
    "     curl_functionals = [ExpressionParameterFunctional('1./mu', parameter_type={'c_loc' : (), 'k': (), 'mu': (), 'eps': ()}, )], \n",
    "    reaction_functionals = [ExpressionParameterFunctional('-k**2*eps', parameter_type={'c_loc' : (), 'k': (), 'mu': (), 'eps': ()})], \n",
    "    robin_functionals = [ExpressionParameterFunctional('1j*k', parameter_type={'c_loc' : (), 'k': (), 'mu': (), 'eps': ()})],\n",
    "    rhs_functionals = [ExpressionParameterFunctional('-1*k', parameter_type={'c_loc' : (), 'k': (), 'mu': (), 'eps': ()})]\n",
    ")\n",
    "diameter = 1./100\n",
    "d, data = discretize_maxwell(p, diameter = diameter)\n",
    "mus = {'c_loc' : 0, 'k': 10, 'mu': 1, 'eps': 1}\n",
    "u = d.solve(mus)\n",
    "d.visualize(u)"
   ]
  },
  {
   "cell_type": "code",
   "execution_count": 3,
   "metadata": {},
   "outputs": [
    {
     "data": {
      "text/plain": [
       "{'h1': <pymor.operators.constructions.LincombOperator at 0x7f48512ca790>,\n",
       " 'h1_0': <pymor.operators.constructions.LincombOperator at 0x7f48512cab10>,\n",
       " 'h1_semi': <pymor.operators.nedelec.RotRotOperator at 0x7f486665cf10>,\n",
       " 'l2': <pymor.operators.nedelec.L2ProductOperator at 0x7f48512ca590>,\n",
       " 'l2_0': <pymor.operators.nedelec.L2ProductOperator at 0x7f48512ca810>}"
      ]
     },
     "execution_count": 3,
     "metadata": {},
     "output_type": "execute_result"
    }
   ],
   "source": [
    "d.products"
   ]
  },
  {
   "cell_type": "code",
   "execution_count": 18,
   "metadata": {},
   "outputs": [
    {
     "name": "stdout",
     "output_type": "stream",
     "text": [
      "localizing problem\n"
     ]
    }
   ],
   "source": [
    "#p = maxwell_problem()\n",
    "resolution = 100\n",
    "coarse_grid_resolution = 10\n",
    "\n",
    "mus = {'c_loc' : 10j, 'k': 10, 'mu': 1, 'eps': 1}\n",
    "#mus = {'c_loc' : 0., 'k': 1e9*2*np.pi, 'mu': 4*np.pi*1e-7, 'eps': 8.854187817e-12}\n",
    "gq, lq = localize_problem(p, coarse_grid_resolution, resolution, mus, dof_codim = 1, discretizer = discretize_maxwell)"
   ]
  },
  {
   "cell_type": "code",
   "execution_count": 19,
   "metadata": {},
   "outputs": [
    {
     "name": "stdout",
     "output_type": "stream",
     "text": [
      "creating bases\n",
      "reconstructing solution\n"
     ]
    }
   ],
   "source": [
    "basis = create_bases2(gq, lq, 30, transfer = 'robin', silent = False)\n",
    "ru = reconstruct_solution(gq,lq,basis, silent = False)"
   ]
  },
  {
   "cell_type": "code",
   "execution_count": 20,
   "metadata": {},
   "outputs": [],
   "source": [
    "d = gq[\"d\"]\n",
    "u = d.solve(mus)\n",
    "dif = u-ru"
   ]
  },
  {
   "cell_type": "code",
   "execution_count": 21,
   "metadata": {},
   "outputs": [
    {
     "name": "stdout",
     "output_type": "stream",
     "text": [
      "6.91788655645e-06\n"
     ]
    },
    {
     "name": "stderr",
     "output_type": "stream",
     "text": [
      "/home/root_dennis/pymor_MA/src/pymor/gui/qt.py:282: ComplexWarning: Casting complex values to real discards the imaginary part\n",
      "  tuple(u.data.astype(np.float64, copy=False) for u in U)\n"
     ]
    }
   ],
   "source": [
    "dif = u-ru\n",
    "norm = gq[\"full_norm\"]\n",
    "print norm(dif)[0]/norm(u)[0]\n",
    "d.visualize((dif.real, dif.imag, u.real, u.imag, ru.real, ru.imag), legend = ('dif.real', 'dif.imag', 'u.real', 'u.imag', 'ru.real', 'ru.imag'), separate_colorbars = True)"
   ]
  },
  {
   "cell_type": "code",
   "execution_count": 10,
   "metadata": {},
   "outputs": [
    {
     "name": "stdout",
     "output_type": "stream",
     "text": [
      "7.29851552621e-05\n"
     ]
    }
   ],
   "source": []
  },
  {
   "cell_type": "code",
   "execution_count": null,
   "metadata": {},
   "outputs": [],
   "source": []
  }
 ],
 "metadata": {
  "kernelspec": {
   "display_name": "project",
   "language": "python",
   "name": "project"
  },
  "language_info": {
   "codemirror_mode": {
    "name": "ipython",
    "version": 2
   },
   "file_extension": ".py",
   "mimetype": "text/x-python",
   "name": "python",
   "nbconvert_exporter": "python",
   "pygments_lexer": "ipython2",
   "version": "2.7.15rc1"
  }
 },
 "nbformat": 4,
 "nbformat_minor": 2
}
