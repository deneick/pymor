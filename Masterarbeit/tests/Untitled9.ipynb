{
 "cells": [
  {
   "cell_type": "code",
   "execution_count": 89,
   "metadata": {},
   "outputs": [],
   "source": [
    "from pymor.analyticalproblems.elliptic import EllipticProblem\n",
    "from pymor.domaindescriptions.basic import RectDomain\n",
    "from pymor.functions.basic import *\n",
    "from pymor.functions.bitmap import *\n",
    "from pymor.parameters.spaces import CubicParameterSpace\n",
    "from pymor.discretizers.elliptic import discretize_elliptic_cg\n",
    "\n",
    "domain = RectDomain()\n",
    "\n",
    "rhs = ExpressionFunction('(( (x[...,0]-0.25)**2 + (x[...,1]-0.5)**2) <= 0.001) * 1.', 2, ())\n",
    "\n",
    "parameter_range=(0., 100.)\n",
    "parameter_space = CubicParameterSpace({'eps': (), 'k': (), 'N': ()}, *parameter_range)\n",
    "\n",
    "def func(x, mu):\n",
    "    return 1. - (np.sqrt( (np.mod(x[...,0],1./mu[\"N\"])-0.5/mu[\"N\"])**2 + (np.mod(x[...,1],1./mu[\"N\"])-0.5/mu[\"N\"])**2) <= 0.3/mu[\"N\"]) * (1.-mu[\"eps\"])\n",
    "diffusion = GenericFunction(func, dim_domain =2, parameter_type=parameter_space.parameter_type)\n",
    "\n",
    "#diffusion = ExpressionFunction( '1. - (sqrt( (np.mod(x[...,0],1./K)-0.5/K)**2 + (np.mod(x[...,1],1./K)-0.5/K)**2) <= 0.3/K) * 0.999', 2, (), values={'K': 10})\n",
    "\n",
    "diffusion = BitmapFunction('coeff.bmp', range=[1e-5, 1.])\n",
    "\n",
    "p = EllipticProblem(\n",
    "    diffusion_functions=[diffusion],\n",
    "    diffusion_functionals=[1.],\n",
    "    reaction_functions=[ConstantFunction(1., dim_domain=domain.dim)],\n",
    "    reaction_functionals=[ExpressionParameterFunctional('-k**2', parameter_type=parameter_space.parameter_type)],\n",
    "    domain=domain,\n",
    "    rhs = rhs,\n",
    "    parameter_space=parameter_space\n",
    ")"
   ]
  },
  {
   "cell_type": "code",
   "execution_count": 90,
   "metadata": {},
   "outputs": [
    {
     "data": {
      "text/plain": [
       "ParameterType({N: (), eps: (), k: ()})"
      ]
     },
     "execution_count": 90,
     "metadata": {},
     "output_type": "execute_result"
    }
   ],
   "source": [
    "parameter_space.parameter_type"
   ]
  },
  {
   "cell_type": "code",
   "execution_count": 91,
   "metadata": {},
   "outputs": [],
   "source": [
    "d,data = discretize_elliptic_cg(p, diameter = 1./100)"
   ]
  },
  {
   "cell_type": "code",
   "execution_count": 92,
   "metadata": {},
   "outputs": [
    {
     "name": "stderr",
     "output_type": "stream",
     "text": [
      "36:52 StationaryDiscretization: Solving EllipticProblem_CG for {N: 4, eps: 0.001, k: 28} ...\n",
      "36:52 DiffusionOperatorP1: Calulate gradients of shape functions transformed by reference map ...\n",
      "36:52 DiffusionOperatorP1: Calculate all local scalar products beween gradients ...\n",
      "36:52 DiffusionOperatorP1: Determine global dofs ...\n",
      "36:52 DiffusionOperatorP1: Boundary treatment ...\n",
      "36:52 DiffusionOperatorP1: Assemble system matrix ...\n",
      "36:52 DiffusionOperatorP1: Calulate gradients of shape functions transformed by reference map ...\n",
      "36:52 DiffusionOperatorP1: Calculate all local scalar products beween gradients ...\n",
      "36:52 DiffusionOperatorP1: Determine global dofs ...\n",
      "36:52 DiffusionOperatorP1: Boundary treatment ...\n",
      "36:52 DiffusionOperatorP1: Assemble system matrix ...\n",
      "36:52 L2ProductP1: Integrate the products of the shape functions on each element\n",
      "36:52 L2ProductP1: Determine global dofs ...\n",
      "36:52 L2ProductP1: Boundary treatment ...\n",
      "36:52 L2ProductP1: Assemble system matrix ...\n"
     ]
    }
   ],
   "source": [
    "u = d.solve({'eps': 1e-3, 'k': 28, 'N': 4})"
   ]
  },
  {
   "cell_type": "code",
   "execution_count": 93,
   "metadata": {},
   "outputs": [],
   "source": [
    "d.visualize(u)"
   ]
  },
  {
   "cell_type": "code",
   "execution_count": null,
   "metadata": {},
   "outputs": [],
   "source": []
  }
 ],
 "metadata": {
  "kernelspec": {
   "display_name": "project",
   "language": "python",
   "name": "project"
  },
  "language_info": {
   "codemirror_mode": {
    "name": "ipython",
    "version": 2
   },
   "file_extension": ".py",
   "mimetype": "text/x-python",
   "name": "python",
   "nbconvert_exporter": "python",
   "pygments_lexer": "ipython2",
   "version": "2.7.15rc1"
  }
 },
 "nbformat": 4,
 "nbformat_minor": 2
}
