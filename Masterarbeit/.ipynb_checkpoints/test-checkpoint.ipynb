{
 "cells": [
  {
   "cell_type": "code",
   "execution_count": 1,
   "metadata": {},
   "outputs": [
    {
     "name": "stdout",
     "output_type": "stream",
     "text": [
      "Loading pyMOR version 0.4.2-51-ge55b3bf\n"
     ]
    }
   ],
   "source": [
    "from evaluations import *\n",
    "from partitioner import build_subspaces, partition_any_grid\n",
    "from discrete_pou import *"
   ]
  },
  {
   "cell_type": "code",
   "execution_count": 2,
   "metadata": {},
   "outputs": [
    {
     "name": "stderr",
     "output_type": "stream",
     "text": [
      "/data/home/d_eick05/pymor/src/pymor/gui/qt.py:282: ComplexWarning: Casting complex values to real discards the imaginary part\n",
      "  tuple(u.data.astype(np.float64, copy=False) for u in U)\n"
     ]
    }
   ],
   "source": [
    "p = maxwell_problem()\n",
    "diameter = 1./200\n",
    "d, data = discretize_maxwell(p, diameter = diameter)\n",
    "mus = {'c_loc' : 0., 'k': 1e9*2*np.pi, 'mu': 4*np.pi*1e-7, 'eps': 8.854187817e-12}\n",
    "u = d.solve(mus)\n",
    "d.visualize(u)"
   ]
  },
  {
   "cell_type": "code",
   "execution_count": 3,
   "metadata": {},
   "outputs": [],
   "source": [
    "coarse_grid_resolution = 10\n",
    "dof_codim = 1 # codim of grid entities for dofs\n",
    "localization_codim = 2\n",
    "grid = data[\"grid\"]\n",
    "dmask = data['boundary_info'].dirichlet_mask(2)\n",
    "subspaces, subspaces_per_codim = build_subspaces(*partition_any_grid(grid, num_intervals=(coarse_grid_resolution, coarse_grid_resolution), dmask = dmask, codim = dof_codim))\n",
    "spaces = [subspaces[s_id][\"env\"] for s_id in subspaces_per_codim[localization_codim]]\n",
    "localizer = NumpyLocalizer(d.solution_space, subspaces['dofs'])\n",
    "pou = localized_pou(subspaces, subspaces_per_codim, localizer, coarse_grid_resolution, grid, localization_codim, dof_codim)"
   ]
  },
  {
   "cell_type": "code",
   "execution_count": 4,
   "metadata": {},
   "outputs": [
    {
     "name": "stderr",
     "output_type": "stream",
     "text": [
      "/data/home/d_eick05/pymor/src/pymor/gui/qt.py:282: ComplexWarning: Casting complex values to real discards the imaginary part\n",
      "  tuple(u.data.astype(np.float64, copy=False) for u in U)\n"
     ]
    }
   ],
   "source": [
    "space = spaces[25]\n",
    "lsol = localizer.localize_vector_array(u, space)\n",
    "gsol = localizer.globalize_vector_array(lsol, space)\n",
    "\n",
    "pousol = pou[space](lsol)\n",
    "pougsol = localizer.globalize_vector_array(pousol, space)\n",
    "d.visualize((u, gsol, pougsol))"
   ]
  },
  {
   "cell_type": "code",
   "execution_count": 8,
   "metadata": {},
   "outputs": [],
   "source": [
    "source_space = subspaces[s_id][\"cxenv\"]\n",
    "training_space = subspaces[s_id][\"xenv\"]\n",
    "range_space = subspaces[s_id][\"env\"]\n",
    "omega_space = tuple(sorted(set(subspaces[s_id]['env']) | set(subspaces[s_id]['cenv'])))\n",
    "omega_star_space = tuple(sorted(set(training_space) | set(source_space)))"
   ]
  },
  {
   "cell_type": "code",
   "execution_count": 5,
   "metadata": {},
   "outputs": [
    {
     "name": "stderr",
     "output_type": "stream",
     "text": [
      "/data/home/d_eick05/pymor/src/pymor/gui/qt.py:282: ComplexWarning: Casting complex values to real discards the imaginary part\n",
      "  tuple(u.data.astype(np.float64, copy=False) for u in U)\n"
     ]
    }
   ],
   "source": [
    "U = u*0\n",
    "for i in range(len(spaces)):\n",
    "\tspace = spaces[i]\n",
    "\tlsol = localizer.localize_vector_array(u, space)\n",
    "\tgsol = localizer.globalize_vector_array(lsol, space)\n",
    "\t#d.visualize(gsol)\n",
    "\n",
    "\tpousol = pou[space](lsol)\n",
    "\tpougsol = localizer.globalize_vector_array(pousol, space)\n",
    "\t#d.visualize((u, gsol, pougsol))\n",
    "\tU += pougsol\n",
    "\n",
    "d.visualize(u-U)"
   ]
  },
  {
   "cell_type": "code",
   "execution_count": 6,
   "metadata": {},
   "outputs": [],
   "source": [
    "xpos = 5\n",
    "ypos = 5\n",
    "\n",
    "xmin = max(0,xpos - 1)\n",
    "xsize = min(xpos + 3, coarse_grid_resolution - 2 + 3) - xmin\n",
    "ymin = max(0,ypos - 1)\n",
    "ysize = min(ypos + 3, coarse_grid_resolution - 2 + 3) - ymin\n",
    "mysubgrid = getsubgrid(grid, xmin, ymin, coarse_grid_resolution, xsize=xsize, ysize=ysize)\n",
    "mysubbi = SubGridBoundaryInfo(mysubgrid, grid, data['boundary_info'], BoundaryType('robin'))\n",
    "ld, ldata = discretize_maxwell(p, grid=mysubgrid, boundary_info=mysubbi)\n",
    "lop = ld.operator.assemble(mus)"
   ]
  },
  {
   "cell_type": "code",
   "execution_count": 53,
   "metadata": {},
   "outputs": [],
   "source": [
    "ndofsext = len(ldata['grid'].parent_indices(1))\n",
    "global_dofnrsext = -100000000* np.ones(shape=(d.solution_space.dim,))\n",
    "global_dofnrsext[ldata['grid'].parent_indices(1)] = np.array(range(ndofsext))\n",
    "lvecext = localizer.localize_vector_array(NumpyVectorArray(global_dofnrsext), omega_star_space).data[0]"
   ]
  },
  {
   "cell_type": "code",
   "execution_count": 54,
   "metadata": {},
   "outputs": [
    {
     "name": "stdout",
     "output_type": "stream",
     "text": [
      "(38560, 38560)\n",
      "(21720,)\n"
     ]
    }
   ],
   "source": [
    "print lop._matrix.shape\n",
    "print lvecext.shape"
   ]
  },
  {
   "cell_type": "code",
   "execution_count": 55,
   "metadata": {},
   "outputs": [
    {
     "name": "stdout",
     "output_type": "stream",
     "text": [
      "[  4.92100000e+03   4.92200000e+03   4.92300000e+03 ...,  -1.00000000e+08\n",
      "  -1.00000000e+08  -1.00000000e+08]\n",
      "[  4.92100000e+03   4.92200000e+03   4.92300000e+03 ...,  -1.00000000e+08\n",
      "  -1.00000000e+08  -1.00000000e+08]\n",
      "19280\n",
      "21720\n"
     ]
    }
   ],
   "source": [
    "print lvecext\n",
    "print np.array(lvecext)\n",
    "print len(np.where(np.array(lvecext) <0)[0])\n",
    "print len(lvecext)"
   ]
  },
  {
   "cell_type": "code",
   "execution_count": 41,
   "metadata": {},
   "outputs": [
    {
     "name": "stdout",
     "output_type": "stream",
     "text": [
      "38560\n",
      "[ -1.00000000e+08  -1.00000000e+08  -1.00000000e+08 ...,  -1.00000000e+08\n",
      "  -1.00000000e+08  -1.00000000e+08]\n",
      "240400\n",
      "38560\n",
      "21720\n"
     ]
    }
   ],
   "source": [
    "print len(ldata['grid'].parent_indices(1))\n",
    "print global_dofnrsext\n",
    "print len(global_dofnrsext)\n",
    "print ndofsext\n",
    "print len(localizer.join_spaces(omega_star_space))"
   ]
  },
  {
   "cell_type": "code",
   "execution_count": 40,
   "metadata": {},
   "outputs": [
    {
     "ename": "IndexError",
     "evalue": "index (-99961440) out of range",
     "output_type": "error",
     "traceback": [
      "\u001b[0;31m---------------------------------------------------------------------------\u001b[0m",
      "\u001b[0;31mIndexError\u001b[0m                                Traceback (most recent call last)",
      "\u001b[0;32m<ipython-input-40-135d25b7b998>\u001b[0m in \u001b[0;36m<module>\u001b[0;34m()\u001b[0m\n\u001b[0;32m----> 1\u001b[0;31m \u001b[0mbilifo\u001b[0m \u001b[0;34m=\u001b[0m \u001b[0mNumpyMatrixOperator\u001b[0m\u001b[0;34m(\u001b[0m\u001b[0mlop\u001b[0m\u001b[0;34m.\u001b[0m\u001b[0m_matrix\u001b[0m\u001b[0;34m[\u001b[0m\u001b[0;34m:\u001b[0m\u001b[0;34m,\u001b[0m\u001b[0mlvecext\u001b[0m\u001b[0;34m]\u001b[0m\u001b[0;34m[\u001b[0m\u001b[0mlvecext\u001b[0m\u001b[0;34m,\u001b[0m\u001b[0;34m:\u001b[0m\u001b[0;34m]\u001b[0m\u001b[0;34m)\u001b[0m\u001b[0;34m\u001b[0m\u001b[0m\n\u001b[0m",
      "\u001b[0;32m/home/d_eick05/pymor-virtualenv/local/lib/python2.7/site-packages/scipy/sparse/csc.pyc\u001b[0m in \u001b[0;36m__getitem__\u001b[0;34m(self, key)\u001b[0m\n\u001b[1;32m    165\u001b[0m         if (isinstance(row, slice) or isinstance(col, slice) or\n\u001b[1;32m    166\u001b[0m                 isintlike(row) or isintlike(col)):\n\u001b[0;32m--> 167\u001b[0;31m             \u001b[0;32mreturn\u001b[0m \u001b[0mself\u001b[0m\u001b[0;34m.\u001b[0m\u001b[0mT\u001b[0m\u001b[0;34m[\u001b[0m\u001b[0mcol\u001b[0m\u001b[0;34m,\u001b[0m \u001b[0mrow\u001b[0m\u001b[0;34m]\u001b[0m\u001b[0;34m.\u001b[0m\u001b[0mT\u001b[0m\u001b[0;34m\u001b[0m\u001b[0m\n\u001b[0m\u001b[1;32m    168\u001b[0m         \u001b[0;31m# Things that return a sequence of values.\u001b[0m\u001b[0;34m\u001b[0m\u001b[0;34m\u001b[0m\u001b[0m\n\u001b[1;32m    169\u001b[0m         \u001b[0;32melse\u001b[0m\u001b[0;34m:\u001b[0m\u001b[0;34m\u001b[0m\u001b[0m\n",
      "\u001b[0;32m/home/d_eick05/pymor-virtualenv/local/lib/python2.7/site-packages/scipy/sparse/csr.pyc\u001b[0m in \u001b[0;36m__getitem__\u001b[0;34m(self, key)\u001b[0m\n\u001b[1;32m    314\u001b[0m             \u001b[0;31m# [[1,2],??]\u001b[0m\u001b[0;34m\u001b[0m\u001b[0;34m\u001b[0m\u001b[0m\n\u001b[1;32m    315\u001b[0m             \u001b[0;32mif\u001b[0m \u001b[0misintlike\u001b[0m\u001b[0;34m(\u001b[0m\u001b[0mcol\u001b[0m\u001b[0;34m)\u001b[0m \u001b[0;32mor\u001b[0m \u001b[0misinstance\u001b[0m\u001b[0;34m(\u001b[0m\u001b[0mcol\u001b[0m\u001b[0;34m,\u001b[0m\u001b[0mslice\u001b[0m\u001b[0;34m)\u001b[0m\u001b[0;34m:\u001b[0m\u001b[0;34m\u001b[0m\u001b[0m\n\u001b[0;32m--> 316\u001b[0;31m                 \u001b[0mP\u001b[0m \u001b[0;34m=\u001b[0m \u001b[0mextractor\u001b[0m\u001b[0;34m(\u001b[0m\u001b[0mrow\u001b[0m\u001b[0;34m,\u001b[0m \u001b[0mself\u001b[0m\u001b[0;34m.\u001b[0m\u001b[0mshape\u001b[0m\u001b[0;34m[\u001b[0m\u001b[0;36m0\u001b[0m\u001b[0;34m]\u001b[0m\u001b[0;34m)\u001b[0m     \u001b[0;31m# [[1,2],j] or [[1,2],1:2]\u001b[0m\u001b[0;34m\u001b[0m\u001b[0m\n\u001b[0m\u001b[1;32m    317\u001b[0m                 \u001b[0mextracted\u001b[0m \u001b[0;34m=\u001b[0m \u001b[0mP\u001b[0m \u001b[0;34m*\u001b[0m \u001b[0mself\u001b[0m\u001b[0;34m\u001b[0m\u001b[0m\n\u001b[1;32m    318\u001b[0m                 \u001b[0;32mif\u001b[0m \u001b[0mcol\u001b[0m \u001b[0;34m==\u001b[0m \u001b[0mslice\u001b[0m\u001b[0;34m(\u001b[0m\u001b[0mNone\u001b[0m\u001b[0;34m,\u001b[0m \u001b[0mNone\u001b[0m\u001b[0;34m,\u001b[0m \u001b[0mNone\u001b[0m\u001b[0;34m)\u001b[0m\u001b[0;34m:\u001b[0m\u001b[0;34m\u001b[0m\u001b[0m\n",
      "\u001b[0;32m/home/d_eick05/pymor-virtualenv/local/lib/python2.7/site-packages/scipy/sparse/csr.pyc\u001b[0m in \u001b[0;36mextractor\u001b[0;34m(indices, N)\u001b[0m\n\u001b[1;32m    268\u001b[0m             \u001b[0mindices\u001b[0m \u001b[0;34m=\u001b[0m \u001b[0masindices\u001b[0m\u001b[0;34m(\u001b[0m\u001b[0mindices\u001b[0m\u001b[0;34m)\u001b[0m\u001b[0;34m.\u001b[0m\u001b[0mcopy\u001b[0m\u001b[0;34m(\u001b[0m\u001b[0;34m)\u001b[0m\u001b[0;34m\u001b[0m\u001b[0m\n\u001b[1;32m    269\u001b[0m \u001b[0;34m\u001b[0m\u001b[0m\n\u001b[0;32m--> 270\u001b[0;31m             \u001b[0mmin_indx\u001b[0m\u001b[0;34m,\u001b[0m \u001b[0mmax_indx\u001b[0m \u001b[0;34m=\u001b[0m \u001b[0mcheck_bounds\u001b[0m\u001b[0;34m(\u001b[0m\u001b[0mindices\u001b[0m\u001b[0;34m,\u001b[0m \u001b[0mN\u001b[0m\u001b[0;34m)\u001b[0m\u001b[0;34m\u001b[0m\u001b[0m\n\u001b[0m\u001b[1;32m    271\u001b[0m \u001b[0;34m\u001b[0m\u001b[0m\n\u001b[1;32m    272\u001b[0m             \u001b[0;32mif\u001b[0m \u001b[0mmin_indx\u001b[0m \u001b[0;34m<\u001b[0m \u001b[0;36m0\u001b[0m\u001b[0;34m:\u001b[0m\u001b[0;34m\u001b[0m\u001b[0m\n",
      "\u001b[0;32m/home/d_eick05/pymor-virtualenv/local/lib/python2.7/site-packages/scipy/sparse/csr.pyc\u001b[0m in \u001b[0;36mcheck_bounds\u001b[0;34m(indices, N)\u001b[0m\n\u001b[1;32m    258\u001b[0m             \u001b[0mmin_indx\u001b[0m \u001b[0;34m=\u001b[0m \u001b[0mindices\u001b[0m\u001b[0;34m.\u001b[0m\u001b[0mmin\u001b[0m\u001b[0;34m(\u001b[0m\u001b[0;34m)\u001b[0m\u001b[0;34m\u001b[0m\u001b[0m\n\u001b[1;32m    259\u001b[0m             \u001b[0;32mif\u001b[0m \u001b[0mmin_indx\u001b[0m \u001b[0;34m<\u001b[0m \u001b[0;34m-\u001b[0m\u001b[0mN\u001b[0m\u001b[0;34m:\u001b[0m\u001b[0;34m\u001b[0m\u001b[0m\n\u001b[0;32m--> 260\u001b[0;31m                 \u001b[0;32mraise\u001b[0m \u001b[0mIndexError\u001b[0m\u001b[0;34m(\u001b[0m\u001b[0;34m'index (%d) out of range'\u001b[0m \u001b[0;34m%\u001b[0m \u001b[0;34m(\u001b[0m\u001b[0mN\u001b[0m \u001b[0;34m+\u001b[0m \u001b[0mmin_indx\u001b[0m\u001b[0;34m)\u001b[0m\u001b[0;34m)\u001b[0m\u001b[0;34m\u001b[0m\u001b[0m\n\u001b[0m\u001b[1;32m    261\u001b[0m \u001b[0;34m\u001b[0m\u001b[0m\n\u001b[1;32m    262\u001b[0m             \u001b[0;32mreturn\u001b[0m \u001b[0mmin_indx\u001b[0m\u001b[0;34m,\u001b[0m \u001b[0mmax_indx\u001b[0m\u001b[0;34m\u001b[0m\u001b[0m\n",
      "\u001b[0;31mIndexError\u001b[0m: index (-99961440) out of range"
     ]
    }
   ],
   "source": [
    "bilifo = NumpyMatrixOperator(lop._matrix[:,lvecext][lvecext,:])"
   ]
  },
  {
   "cell_type": "code",
   "execution_count": null,
   "metadata": {},
   "outputs": [],
   "source": []
  }
 ],
 "metadata": {
  "kernelspec": {
   "display_name": "project",
   "language": "python",
   "name": "project"
  },
  "language_info": {
   "codemirror_mode": {
    "name": "ipython",
    "version": 2
   },
   "file_extension": ".py",
   "mimetype": "text/x-python",
   "name": "python",
   "nbconvert_exporter": "python",
   "pygments_lexer": "ipython2",
   "version": "2.7.12"
  }
 },
 "nbformat": 4,
 "nbformat_minor": 2
}
