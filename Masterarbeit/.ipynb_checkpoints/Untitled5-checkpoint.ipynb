{
 "cells": [
  {
   "cell_type": "code",
   "execution_count": 1,
   "metadata": {},
   "outputs": [
    {
     "name": "stdout",
     "output_type": "stream",
     "text": [
      "Loading pyMOR version 0.4.2-116-gadb475af\n",
      "localizing problem\n"
     ]
    }
   ],
   "source": [
    "from evaluations import *\n",
    "acc =1e-2\n",
    "boundary = 'robin'\n",
    "coarse_grid_resolution = 10\n",
    "p = helmholtz(boundary = boundary)\n",
    "k= 6.\n",
    "resolution  = int(np.ceil(float(k*1.5+50)/coarse_grid_resolution)*coarse_grid_resolution)\n",
    "cglob = -1j*k\n",
    "cloc0 = 0\n",
    "cloc1 = 0.02*(5-1j)\n",
    "cloc2 = 0.0016*(8-1j)\n",
    "cloc = cloc0+ cloc1*k+cloc2*k**2\n",
    "mus = {'k': k, 'c_glob': cglob, 'c_loc': cloc}\n",
    "gq, lq = localize_problem(p, coarse_grid_resolution, resolution, mus = mus, calT = True, calQ = True)"
   ]
  },
  {
   "cell_type": "code",
   "execution_count": 60,
   "metadata": {},
   "outputs": [
    {
     "name": "stdout",
     "output_type": "stream",
     "text": [
      "calculated_continuity_constant:  1.79186818672\n",
      "calculated_inf_sup_constant:  0.227325649277\n",
      "calculated all lambdas\n",
      "calculated csis\n",
      "calculated all Psi_norms\n"
     ]
    }
   ],
   "source": [
    "calculate_continuity_constant(gq, lq)\n",
    "calculate_inf_sup_constant2(gq, lq)\n",
    "calculate_lambda_min(gq, lq)\n",
    "calculate_csis(gq,lq)\n",
    "calculate_Psi_norm(gq,lq)"
   ]
  },
  {
   "cell_type": "code",
   "execution_count": 61,
   "metadata": {},
   "outputs": [
    {
     "name": "stdout",
     "output_type": "stream",
     "text": [
      "[  1.75208928e-08]\n"
     ]
    }
   ],
   "source": [
    "d = gq[\"d\"]\n",
    "u = d.solve(mus)\n",
    "bases = create_bases(gq, lq, num_testvecs=20, transfer = 'robin', target_accuracy = acc, calC = False)\n",
    "ru = reconstruct_solution(gq,lq,bases)\n",
    "\n",
    "k_prod = gq[\"k_product\"]\n",
    "norm = induced_norm(k_prod)\n",
    "ls = norm(u-ru)\n",
    "print ls"
   ]
  },
  {
   "cell_type": "code",
   "execution_count": 47,
   "metadata": {},
   "outputs": [
    {
     "name": "stdout",
     "output_type": "stream",
     "text": [
      "[  1.95044259e-07]\n",
      "[ 11.80324406]\n"
     ]
    }
   ],
   "source": [
    "sum = NumpyVectorArray(u.data*0)\n",
    "for space in gq[\"spaces\"]:\n",
    "\tldict = lq[space]\n",
    "\tbasis = bases[space]\n",
    "\tM = ldict[\"range_product\"]._matrix\n",
    "\tS = ldict[\"source_product\"]._matrix\n",
    "\tM_sparse = scipy.sparse.csr_matrix(M)\n",
    "\tT = ldict[\"transfer_matrix_robin\"]\n",
    "\tB = basis._array.T\n",
    "\trange_space = ldict[\"range_space\"]\n",
    "\tlocalizer = gq[\"localizer\"]\n",
    "\tpou = gq[\"pou\"]\n",
    "\tu_loc = pou[range_space](localizer.localize_vector_array(u, range_space))\n",
    "\tu_s = ldict[\"local_solution_robin\"]\n",
    "\tu_dif = u_loc-u_s\n",
    "\tterm = u_dif.data.T - B.dot(B.conj().T).dot(M_sparse.dot(u_dif.data.T))\n",
    "\tu_i = localizer.globalize_vector_array(NumpyVectorArray(term.T), range_space)\n",
    "\tsum += u_i\n",
    "rs1 = gq[\"continuity_constant\"]/gq[\"inf_sup_constant\"]* norm(sum)\n",
    "print rs1\n",
    "print rs1/ls"
   ]
  },
  {
   "cell_type": "code",
   "execution_count": 48,
   "metadata": {},
   "outputs": [
    {
     "name": "stdout",
     "output_type": "stream",
     "text": [
      "[  1.45907722e-06]\n",
      "[ 7.48074937]\n"
     ]
    }
   ],
   "source": [
    "sum = 0\n",
    "for space in gq[\"spaces\"]:\n",
    "\tldict = lq[space]\n",
    "\tbasis = bases[space]\n",
    "\tM = ldict[\"range_product\"]._matrix\n",
    "\tS = ldict[\"source_product\"]._matrix\n",
    "\tM_sparse = scipy.sparse.csr_matrix(M)\n",
    "\tT = ldict[\"transfer_matrix_robin\"]\n",
    "\tB = basis._array.T\n",
    "\trange_space = ldict[\"range_space\"]\n",
    "\tlocalizer = gq[\"localizer\"]\n",
    "\tpou = gq[\"pou\"]\n",
    "\tu_loc = pou[range_space](localizer.localize_vector_array(u, range_space))\n",
    "\tu_s = ldict[\"local_solution_robin\"]\n",
    "\tu_dif = u_loc-u_s\n",
    "\tterm = u_dif.data.T - B.dot(B.conj().T).dot(M_sparse.dot(u_dif.data.T))\n",
    "\tu_i = NumpyVectorArray(term.T)\n",
    "\tlocal_norm = induced_norm(ldict[\"range_product\"])\n",
    "\tsum += local_norm(u_i)\n",
    "rs2 = gq[\"continuity_constant\"]/gq[\"inf_sup_constant\"]* sum\n",
    "print rs2\n",
    "print rs2/rs1"
   ]
  },
  {
   "cell_type": "code",
   "execution_count": 49,
   "metadata": {},
   "outputs": [
    {
     "name": "stdout",
     "output_type": "stream",
     "text": [
      "[  5.74957038e-06]\n",
      "[ 3.94055249]\n"
     ]
    }
   ],
   "source": [
    "sum = 0\n",
    "for space in gq[\"spaces\"]:\n",
    "\tldict = lq[space]\n",
    "\tbasis = bases[space]\n",
    "\tM = ldict[\"range_product\"]._matrix\n",
    "\tS = ldict[\"source_product\"]._matrix\n",
    "\tM_sparse = scipy.sparse.csr_matrix(M)\n",
    "\tT = ldict[\"transfer_matrix_robin\"]\n",
    "\tB = basis._array.T\n",
    "\trange_space = ldict[\"range_space\"]\n",
    "\tomega_star_space = ldict[\"omega_star_space\"]\n",
    "\tlocalizer = gq[\"localizer\"]\n",
    "\tpou = gq[\"pou\"]\n",
    "\tu_loc = localizer.localize_vector_array(u, omega_star_space)\n",
    "\tu_s = ldict[\"local_sol2\"]\n",
    "\tu_dif = u_loc-u_s\n",
    "\tu_i = u_dif\n",
    "\tT1 = T - B.dot(B.conj().T).dot(M_sparse.dot(T))\n",
    "\tmaxval = operator_svd2(T1, S, M_sparse)[0][0]\n",
    "\tlocal_norm = induced_norm(ldict[\"omega_star_product\"])\n",
    "\tsum += maxval*ldict[\"Psi_norm\"]*local_norm(u_i)\n",
    "rs3 = gq[\"continuity_constant\"]/gq[\"inf_sup_constant\"]* sum\n",
    "print rs3\n",
    "print rs3/rs2"
   ]
  },
  {
   "cell_type": "code",
   "execution_count": 50,
   "metadata": {},
   "outputs": [
    {
     "name": "stdout",
     "output_type": "stream",
     "text": [
      "[  7.09762014e-06]\n",
      "[ 1.23446096]\n"
     ]
    }
   ],
   "source": [
    "sum = 0\n",
    "for space in gq[\"spaces\"]:\n",
    "\tldict = lq[space]\n",
    "\tbasis = bases[space]\n",
    "\tM = ldict[\"range_product\"]._matrix\n",
    "\tS = ldict[\"source_product\"]._matrix\n",
    "\tM_sparse = scipy.sparse.csr_matrix(M)\n",
    "\tT = ldict[\"transfer_matrix_robin\"]\n",
    "\tB = basis._array.T\n",
    "\trange_space = ldict[\"range_space\"]\n",
    "\tomega_star_space = ldict[\"omega_star_space\"]\n",
    "\tlocalizer = gq[\"localizer\"]\n",
    "\tpou = gq[\"pou\"]\n",
    "\tu_loc = localizer.localize_vector_array(u, omega_star_space)\n",
    "\tT1 = T - B.dot(B.conj().T).dot(M_sparse.dot(T))\n",
    "\tmaxval = operator_svd2(T1, S, M_sparse)[0][0]\n",
    "\tlocal_norm = induced_norm(ldict[\"omega_star_product\"])\n",
    "\tsum += maxval*ldict[\"Psi_norm\"]*local_norm(u_loc)*ldict[\"csi\"]\n",
    "rs4 = gq[\"continuity_constant\"]/gq[\"inf_sup_constant\"]* sum\n",
    "print rs4\n",
    "print rs4/rs3"
   ]
  },
  {
   "cell_type": "code",
   "execution_count": 51,
   "metadata": {},
   "outputs": [
    {
     "name": "stdout",
     "output_type": "stream",
     "text": [
      "[  8.18406712e-06]\n",
      "[ 1.15307201]\n"
     ]
    }
   ],
   "source": [
    "sum1 = 0\n",
    "sum2 = 0\n",
    "for space in gq[\"spaces\"]:\n",
    "\tldict = lq[space]\n",
    "\tbasis = bases[space]\n",
    "\tM = ldict[\"range_product\"]._matrix\n",
    "\tS = ldict[\"source_product\"]._matrix\n",
    "\tM_sparse = scipy.sparse.csr_matrix(M)\n",
    "\tT = ldict[\"transfer_matrix_robin\"]\n",
    "\tB = basis._array.T\n",
    "\trange_space = ldict[\"range_space\"]\n",
    "\tomega_star_space = ldict[\"omega_star_space\"]\n",
    "\tlocalizer = gq[\"localizer\"]\n",
    "\tpou = gq[\"pou\"]\n",
    "\tu_loc = localizer.localize_vector_array(u, omega_star_space)\n",
    "\tT1 = T - B.dot(B.conj().T).dot(M_sparse.dot(T))\n",
    "\tmaxval = operator_svd2(T1, S, M_sparse)[0][0]\n",
    "\tlocal_norm = induced_norm(ldict[\"omega_star_product\"])\n",
    "\tsum1 += maxval**2*ldict[\"Psi_norm\"]**2*ldict[\"csi\"]**2\n",
    "\tsum2 += local_norm(u_loc)**2\n",
    "rs5 = gq[\"continuity_constant\"]/gq[\"inf_sup_constant\"]* np.sqrt(sum1) * np.sqrt(sum2)\n",
    "print rs5\n",
    "print rs5/rs4"
   ]
  },
  {
   "cell_type": "code",
   "execution_count": 52,
   "metadata": {},
   "outputs": [
    {
     "name": "stdout",
     "output_type": "stream",
     "text": [
      "[  9.85440302e-06]\n",
      "[ 1.20409607]\n"
     ]
    }
   ],
   "source": [
    "sum = 0\n",
    "for space in gq[\"spaces\"]:\n",
    "\tldict = lq[space]\n",
    "\tbasis = bases[space]\n",
    "\tM = ldict[\"range_product\"]._matrix\n",
    "\tS = ldict[\"source_product\"]._matrix\n",
    "\tM_sparse = scipy.sparse.csr_matrix(M)\n",
    "\tT = ldict[\"transfer_matrix_robin\"]\n",
    "\tB = basis._array.T\n",
    "\trange_space = ldict[\"range_space\"]\n",
    "\tomega_star_space = ldict[\"omega_star_space\"]\n",
    "\tlocalizer = gq[\"localizer\"]\n",
    "\tpou = gq[\"pou\"]\n",
    "\tu_loc = localizer.localize_vector_array(u, omega_star_space)\n",
    "\tT1 = T - B.dot(B.conj().T).dot(M_sparse.dot(T))\n",
    "\tmaxval = operator_svd2(T1, S, M_sparse)[0][0]\n",
    "\tsum += maxval**2*ldict[\"Psi_norm\"]**2*ldict[\"csi\"]**2\n",
    "rs6 = gq[\"continuity_constant\"]/gq[\"inf_sup_constant\"]* np.sqrt(sum) *4* norm(u)\n",
    "print rs6\n",
    "print rs6/rs5"
   ]
  },
  {
   "cell_type": "code",
   "execution_count": 53,
   "metadata": {},
   "outputs": [
    {
     "name": "stdout",
     "output_type": "stream",
     "text": [
      "[ 2.77549853]\n"
     ]
    }
   ],
   "source": [
    "print np.log10(rs6/ls)"
   ]
  },
  {
   "cell_type": "code",
   "execution_count": 54,
   "metadata": {},
   "outputs": [
    {
     "name": "stdout",
     "output_type": "stream",
     "text": [
      "[ 5.78186821]\n"
     ]
    }
   ],
   "source": [
    "print np.log10(acc/ls)"
   ]
  },
  {
   "cell_type": "code",
   "execution_count": 55,
   "metadata": {},
   "outputs": [
    {
     "name": "stdout",
     "output_type": "stream",
     "text": [
      "[ 3.00636968]\n"
     ]
    }
   ],
   "source": [
    "print np.log10(acc/rs6)"
   ]
  },
  {
   "cell_type": "code",
   "execution_count": 64,
   "metadata": {},
   "outputs": [
    {
     "name": "stdout",
     "output_type": "stream",
     "text": [
      "[  6.40402246e-07]\n"
     ]
    }
   ],
   "source": [
    "print ls/norm(u)"
   ]
  },
  {
   "cell_type": "code",
   "execution_count": 63,
   "metadata": {},
   "outputs": [
    {
     "name": "stdout",
     "output_type": "stream",
     "text": [
      "[ 27.76342662]\n"
     ]
    }
   ],
   "source": [
    "print acc/(rs6/norm(u))"
   ]
  },
  {
   "cell_type": "code",
   "execution_count": null,
   "metadata": {},
   "outputs": [],
   "source": []
  },
  {
   "cell_type": "code",
   "execution_count": null,
   "metadata": {},
   "outputs": [],
   "source": []
  },
  {
   "cell_type": "code",
   "execution_count": null,
   "metadata": {},
   "outputs": [],
   "source": []
  },
  {
   "cell_type": "code",
   "execution_count": 58,
   "metadata": {},
   "outputs": [
    {
     "name": "stdout",
     "output_type": "stream",
     "text": [
      "localizing problem\n",
      "calculated_continuity_constant:  1.79186818672\n",
      "calculated_inf_sup_constant:  0.227325649277\n",
      "calculated all lambdas\n",
      "calculated csis\n",
      "calculated all Psi_norms\n",
      "6.31383629446e-07\n",
      "0.000345952747938\n"
     ]
    }
   ],
   "source": [
    "acc=1e-2\n",
    "boundary = 'robin'\n",
    "k=6.\n",
    "cloc0 = 0\n",
    "cloc1 = 0.02*(5-1j)\n",
    "cloc2 = 0.0016*(8-1j)\n",
    "p = helmholtz(boundary = boundary)\n",
    "cglob = -1j*k\n",
    "mus = {'k': k, 'c_glob': cglob, 'c_loc': cloc}\n",
    "resolution  = int(np.ceil(float(k*1.5+50)/coarse_grid_resolution)*coarse_grid_resolution)\n",
    "gq, lq = localize_problem(p, coarse_grid_resolution, resolution, mus = mus, calT = True, calQ = True)\n",
    "calculate_continuity_constant(gq, lq)\n",
    "calculate_inf_sup_constant2(gq, lq)\t\n",
    "calculate_lambda_min(gq, lq)\n",
    "calculate_csis(gq,lq)\t\n",
    "calculate_Psi_norm(gq,lq)\n",
    "d = gq[\"d\"]\n",
    "u = d.solve(mus)\n",
    "bases = create_bases(gq, lq, num_testvecs=20, transfer = 'robin', target_accuracy = acc, calC = False)\n",
    "rssum2 = 0\n",
    "for space in gq[\"spaces\"]:\n",
    "    ldict = lq[space]\n",
    "    basis = bases[space]\n",
    "    M = ldict[\"range_product\"]._matrix\n",
    "    S = ldict[\"source_product\"]._matrix\n",
    "    M_sparse = scipy.sparse.csr_matrix(M)\n",
    "    T = ldict[\"transfer_matrix_robin\"]\n",
    "    B = basis._array.T\n",
    "    T1 = T - B.dot(B.conj().T).dot(M_sparse.dot(T))\n",
    "    maxval = operator_svd2(T1, S, M_sparse)[0][0]\n",
    "    rssum2 += maxval**2*ldict[\"csi\"]**2*ldict[\"Psi_norm\"]**2\n",
    "ru = reconstruct_solution(gq,lq,bases)\n",
    "print gq[\"full_norm\"](u-ru)[0]/gq[\"full_norm\"](u)[0]\n",
    "print (gq[\"continuity_constant\"]/gq[\"inf_sup_constant\"])*4*np.sqrt(rssum2)"
   ]
  },
  {
   "cell_type": "code",
   "execution_count": 69,
   "metadata": {},
   "outputs": [
    {
     "ename": "ImportError",
     "evalue": "No module named psutil",
     "output_type": "error",
     "traceback": [
      "\u001b[0;31m---------------------------------------------------------------------------\u001b[0m",
      "\u001b[0;31mImportError\u001b[0m                               Traceback (most recent call last)",
      "\u001b[0;32m<ipython-input-69-05bfc92c9405>\u001b[0m in \u001b[0;36m<module>\u001b[0;34m()\u001b[0m\n\u001b[0;32m----> 1\u001b[0;31m \u001b[0;32mimport\u001b[0m \u001b[0mpsutil\u001b[0m\u001b[0;34m\u001b[0m\u001b[0m\n\u001b[0m\u001b[1;32m      2\u001b[0m \u001b[0;32mprint\u001b[0m\u001b[0;34m(\u001b[0m\u001b[0mpsutil\u001b[0m\u001b[0;34m.\u001b[0m\u001b[0mvirtual_memory\u001b[0m\u001b[0;34m(\u001b[0m\u001b[0;34m)\u001b[0m\u001b[0;34m)\u001b[0m\u001b[0;34m\u001b[0m\u001b[0m\n",
      "\u001b[0;31mImportError\u001b[0m: No module named psutil"
     ]
    }
   ],
   "source": [
    "import psutil\n",
    "print(psutil.virtual_memory())"
   ]
  },
  {
   "cell_type": "code",
   "execution_count": 2,
   "metadata": {},
   "outputs": [],
   "source": [
    "space = gq[\"spaces\"][14]\n",
    "l = gq[\"localizer\"]\n",
    "ldict = lq[space]\n",
    "H1om = ldict[\"omega_star_product\"]._matrix\n",
    "MS = ldict[\"source_product\"]._matrix\n",
    "\n",
    "Q = ldict[\"solution_matrix_robin\"]\n",
    "M = Q.T.conj().dot(H1om.dot(Q))"
   ]
  },
  {
   "cell_type": "code",
   "execution_count": 16,
   "metadata": {},
   "outputs": [
    {
     "data": {
      "text/plain": [
       "(73, 73)"
      ]
     },
     "execution_count": 16,
     "metadata": {},
     "output_type": "execute_result"
    }
   ],
   "source": [
    "np.linalg.inv(M).dot(MS.todense()).shape"
   ]
  },
  {
   "cell_type": "code",
   "execution_count": 28,
   "metadata": {},
   "outputs": [
    {
     "data": {
      "text/plain": [
       "0.019102821375077156"
      ]
     },
     "execution_count": 28,
     "metadata": {},
     "output_type": "execute_result"
    }
   ],
   "source": [
    "sp.eigs(MS, M=M)[0][0].real"
   ]
  },
  {
   "cell_type": "code",
   "execution_count": 22,
   "metadata": {},
   "outputs": [
    {
     "data": {
      "text/plain": [
       "0.019102821375441906"
      ]
     },
     "execution_count": 22,
     "metadata": {},
     "output_type": "execute_result"
    }
   ],
   "source": [
    "eigvals = np.linalg.eigvals(np.linalg.inv(M).dot(MS.todense()))\n",
    "eigvals[::-1].sort()\n",
    "eigvals[0].real"
   ]
  },
  {
   "cell_type": "code",
   "execution_count": 35,
   "metadata": {},
   "outputs": [
    {
     "data": {
      "text/plain": [
       "<73x73 sparse matrix of type '<type 'numpy.float64'>'\n",
       "\twith 217 stored elements in Compressed Sparse Column format>"
      ]
     },
     "execution_count": 35,
     "metadata": {},
     "output_type": "execute_result"
    }
   ],
   "source": [
    "MS"
   ]
  },
  {
   "cell_type": "code",
   "execution_count": null,
   "metadata": {},
   "outputs": [],
   "source": []
  }
 ],
 "metadata": {
  "kernelspec": {
   "display_name": "project",
   "language": "python",
   "name": "project"
  },
  "language_info": {
   "codemirror_mode": {
    "name": "ipython",
    "version": 2
   },
   "file_extension": ".py",
   "mimetype": "text/x-python",
   "name": "python",
   "nbconvert_exporter": "python",
   "pygments_lexer": "ipython2",
   "version": "2.7.15rc1"
  }
 },
 "nbformat": 4,
 "nbformat_minor": 2
}
