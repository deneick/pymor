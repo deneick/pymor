{
 "cells": [
  {
   "cell_type": "code",
   "execution_count": 68,
   "metadata": {},
   "outputs": [
    {
     "ename": "NameError",
     "evalue": "name 'BitmapFunction' is not defined",
     "output_type": "error",
     "traceback": [
      "\u001b[0;31m---------------------------------------------------------------------------\u001b[0m",
      "\u001b[0;31mNameError\u001b[0m                                 Traceback (most recent call last)",
      "\u001b[0;32m<ipython-input-68-936f9741a69f>\u001b[0m in \u001b[0;36m<module>\u001b[0;34m()\u001b[0m\n\u001b[1;32m     18\u001b[0m \u001b[0;31m#diffusion = ExpressionFunction( '1. - (sqrt( (np.mod(x[...,0],1./K)-0.5/K)**2 + (np.mod(x[...,1],1./K)-0.5/K)**2) <= 0.3/K) * 0.999', 2, (), values={'K': 10})\u001b[0m\u001b[0;34m\u001b[0m\u001b[0;34m\u001b[0m\u001b[0m\n\u001b[1;32m     19\u001b[0m \u001b[0;34m\u001b[0m\u001b[0m\n\u001b[0;32m---> 20\u001b[0;31m \u001b[0mdiffusion\u001b[0m \u001b[0;34m=\u001b[0m \u001b[0mBitmapFunction\u001b[0m\u001b[0;34m(\u001b[0m\u001b[0;34m'coeff.bmp'\u001b[0m\u001b[0;34m,\u001b[0m \u001b[0mrange\u001b[0m\u001b[0;34m=\u001b[0m\u001b[0;34m[\u001b[0m\u001b[0meps\u001b[0m\u001b[0;34m,\u001b[0m \u001b[0;36m1.\u001b[0m\u001b[0;34m]\u001b[0m\u001b[0;34m)\u001b[0m\u001b[0;34m\u001b[0m\u001b[0m\n\u001b[0m\u001b[1;32m     21\u001b[0m \u001b[0;34m\u001b[0m\u001b[0m\n\u001b[1;32m     22\u001b[0m p = EllipticProblem(\n",
      "\u001b[0;31mNameError\u001b[0m: name 'BitmapFunction' is not defined"
     ]
    }
   ],
   "source": [
    "from pymor.analyticalproblems.elliptic import EllipticProblem\n",
    "from pymor.domaindescriptions.basic import RectDomain\n",
    "from pymor.functions.basic import *\n",
    "from pymor.functions.bitmap import *\n",
    "from pymor.parameters.spaces import CubicParameterSpace\n",
    "from pymor.discretizers.elliptic import discretize_elliptic_cg\n",
    "\n",
    "domain = RectDomain()\n",
    "\n",
    "rhs = ExpressionFunction('(( (x[...,0]-0.25)**2 + (x[...,1]-0.5)**2) <= 0.001) * 1.', 2, ())\n",
    "\n",
    "parameter_range=(0., 100.)\n",
    "parameter_space = CubicParameterSpace({'eps': (), 'k': (), 'N': ()}, *parameter_range)\n",
    "\n",
    "def func(x, mu):\n",
    "    return 1. - (np.sqrt( (np.mod(x[...,0],1./mu[\"N\"])-0.5/mu[\"N\"])**2 + (np.mod(x[...,1],1./mu[\"N\"])-0.5/mu[\"N\"])**2) <= 0.3/mu[\"N\"]) * (1.-mu[\"eps\"])\n",
    "diffusion = GenericFunction(func, dim_domain =2, parameter_type=parameter_space.parameter_type)\n",
    "\n",
    "#diffusion = ExpressionFunction( '1. - (sqrt( (np.mod(x[...,0],1./K)-0.5/K)**2 + (np.mod(x[...,1],1./K)-0.5/K)**2) <= 0.3/K) * 0.999', 2, (), values={'K': 10})\n",
    "\n",
    "diffusion = BitmapFunction('coeff.bmp', range=[eps, 1.])\n",
    "\n",
    "p = EllipticProblem(\n",
    "    diffusion_functions=[diffusion],\n",
    "    diffusion_functionals=[1.],\n",
    "    reaction_functions=[ConstantFunction(1., dim_domain=domain.dim)],\n",
    "    reaction_functionals=[ExpressionParameterFunctional('-k**2', parameter_type=parameter_space.parameter_type)],\n",
    "    domain=domain,\n",
    "    rhs = rhs,\n",
    "    parameter_space=parameter_space\n",
    ")"
   ]
  },
  {
   "cell_type": "code",
   "execution_count": 69,
   "metadata": {},
   "outputs": [
    {
     "data": {
      "text/plain": [
       "ParameterType({N: (), eps: (), k: ()})"
      ]
     },
     "execution_count": 69,
     "metadata": {},
     "output_type": "execute_result"
    }
   ],
   "source": [
    "parameter_space.parameter_type"
   ]
  },
  {
   "cell_type": "code",
   "execution_count": 59,
   "metadata": {},
   "outputs": [],
   "source": [
    "d,data = discretize_elliptic_cg(p, diameter = 1./100)"
   ]
  },
  {
   "cell_type": "code",
   "execution_count": 66,
   "metadata": {},
   "outputs": [
    {
     "name": "stderr",
     "output_type": "stream",
     "text": [
      "16:48 StationaryDiscretization: Solving EllipticProblem_CG for {N: 4, eps: 0.001, k: 28} ...\n",
      "16:48 DiffusionOperatorP1: Calulate gradients of shape functions transformed by reference map ...\n",
      "16:48 DiffusionOperatorP1: Calculate all local scalar products beween gradients ...\n",
      "16:48 DiffusionOperatorP1: Determine global dofs ...\n",
      "16:48 DiffusionOperatorP1: Boundary treatment ...\n",
      "16:48 DiffusionOperatorP1: Assemble system matrix ...\n"
     ]
    }
   ],
   "source": [
    "u = d.solve({'eps': 1e-3, 'k': 28, 'N': 4})"
   ]
  },
  {
   "cell_type": "code",
   "execution_count": 67,
   "metadata": {},
   "outputs": [],
   "source": [
    "d.visualize(u)"
   ]
  },
  {
   "cell_type": "code",
   "execution_count": null,
   "metadata": {},
   "outputs": [],
   "source": []
  }
 ],
 "metadata": {
  "kernelspec": {
   "display_name": "project",
   "language": "python",
   "name": "project"
  },
  "language_info": {
   "codemirror_mode": {
    "name": "ipython",
    "version": 2
   },
   "file_extension": ".py",
   "mimetype": "text/x-python",
   "name": "python",
   "nbconvert_exporter": "python",
   "pygments_lexer": "ipython2",
   "version": "2.7.15rc1"
  }
 },
 "nbformat": 4,
 "nbformat_minor": 2
}
