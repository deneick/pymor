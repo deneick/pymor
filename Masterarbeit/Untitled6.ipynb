{
 "cells": [
  {
   "cell_type": "code",
   "execution_count": 2,
   "metadata": {},
   "outputs": [
    {
     "name": "stdout",
     "output_type": "stream",
     "text": [
      "1\n",
      "localizing problem\n",
      "calculated_inf_sup_constant:  0.890186370566\n",
      "calculated_continuity_constant:  4.30020182517\n",
      "2\n",
      "localizing problem\n",
      "calculated_inf_sup_constant:  0.652513712775\n",
      "calculated_continuity_constant:  2.59635436311\n",
      "3\n",
      "localizing problem\n",
      "calculated_inf_sup_constant:  0.444885309922\n",
      "calculated_continuity_constant:  2.14909574128\n",
      "4\n",
      "localizing problem\n",
      "calculated_inf_sup_constant:  0.317046219858\n",
      "calculated_continuity_constant:  1.95861636953\n",
      "5\n",
      "localizing problem\n",
      "calculated_inf_sup_constant:  0.255392002573\n",
      "calculated_continuity_constant:  1.85501791755\n",
      "6\n",
      "localizing problem\n",
      "calculated_inf_sup_constant:  0.227325649277\n",
      "calculated_continuity_constant:  1.79186818672\n",
      "7\n",
      "localizing problem\n",
      "calculated_inf_sup_constant:  0.196063664283\n",
      "calculated_continuity_constant:  1.7513955008\n",
      "8\n",
      "localizing problem\n",
      "calculated_inf_sup_constant:  0.17439015845\n",
      "calculated_continuity_constant:  1.72466141445\n",
      "9\n",
      "localizing problem\n",
      "calculated_inf_sup_constant:  0.148024774472\n",
      "calculated_continuity_constant:  1.70684355979\n",
      "10\n",
      "localizing problem\n",
      "calculated_inf_sup_constant:  0.136111693742\n",
      "calculated_continuity_constant:  1.69491347838\n",
      "11\n",
      "localizing problem\n",
      "calculated_inf_sup_constant:  0.123016846628\n",
      "calculated_continuity_constant:  1.68690635657\n",
      "12\n",
      "localizing problem\n",
      "calculated_inf_sup_constant:  0.112246224446\n",
      "calculated_continuity_constant:  1.68151501856\n",
      "13\n",
      "localizing problem\n",
      "calculated_inf_sup_constant:  0.102824023874\n",
      "calculated_continuity_constant:  1.67786239335\n",
      "14\n",
      "localizing problem\n",
      "calculated_inf_sup_constant:  0.094065174582\n",
      "calculated_continuity_constant:  1.67573511391\n",
      "15\n",
      "localizing problem\n",
      "calculated_inf_sup_constant:  0.0889608494621\n",
      "calculated_continuity_constant:  1.67404607782\n",
      "16\n",
      "localizing problem\n",
      "calculated_inf_sup_constant:  0.0818500090268\n",
      "calculated_continuity_constant:  1.67285604335\n",
      "17\n",
      "localizing problem\n",
      "calculated_inf_sup_constant:  0.0781075500778\n",
      "calculated_continuity_constant:  1.67199155368\n",
      "18\n",
      "localizing problem\n",
      "calculated_inf_sup_constant:  0.0720495790024\n",
      "calculated_continuity_constant:  1.67133792146\n",
      "19\n",
      "localizing problem\n",
      "calculated_inf_sup_constant:  0.068381248952\n",
      "calculated_continuity_constant:  1.67081946504\n",
      "20\n",
      "localizing problem\n",
      "calculated_inf_sup_constant:  0.0646173261844\n",
      "calculated_continuity_constant:  1.67038624087\n",
      "21\n",
      "localizing problem\n",
      "calculated_inf_sup_constant:  0.061798349929\n",
      "calculated_continuity_constant:  1.67058315036\n",
      "22\n",
      "localizing problem\n",
      "calculated_inf_sup_constant:  0.0585065844592\n",
      "calculated_continuity_constant:  1.67028777789\n",
      "23\n",
      "localizing problem\n",
      "calculated_inf_sup_constant:  0.0553292011968\n",
      "calculated_continuity_constant:  1.67001102496\n",
      "24\n",
      "localizing problem\n",
      "calculated_inf_sup_constant:  0.0538232531576\n",
      "calculated_continuity_constant:  1.66974347635\n",
      "25\n",
      "localizing problem\n",
      "calculated_inf_sup_constant:  0.0508221746555\n",
      "calculated_continuity_constant:  1.66947597921\n",
      "26\n",
      "localizing problem\n"
     ]
    },
    {
     "ename": "KeyboardInterrupt",
     "evalue": "",
     "output_type": "error",
     "traceback": [
      "\u001b[0;31m---------------------------------------------------------------------------\u001b[0m",
      "\u001b[0;31mKeyboardInterrupt\u001b[0m                         Traceback (most recent call last)",
      "\u001b[0;32m<ipython-input-2-6cb8a511b88b>\u001b[0m in \u001b[0;36m<module>\u001b[0;34m()\u001b[0m\n\u001b[1;32m     16\u001b[0m     \u001b[0mmus\u001b[0m \u001b[0;34m=\u001b[0m \u001b[0;34m{\u001b[0m\u001b[0;34m'k'\u001b[0m\u001b[0;34m:\u001b[0m \u001b[0mk\u001b[0m\u001b[0;34m,\u001b[0m \u001b[0;34m'c_glob'\u001b[0m\u001b[0;34m:\u001b[0m \u001b[0mcglob\u001b[0m\u001b[0;34m,\u001b[0m \u001b[0;34m'c_loc'\u001b[0m\u001b[0;34m:\u001b[0m \u001b[0mcloc\u001b[0m\u001b[0;34m}\u001b[0m\u001b[0;34m\u001b[0m\u001b[0m\n\u001b[1;32m     17\u001b[0m     \u001b[0mgq\u001b[0m\u001b[0;34m,\u001b[0m \u001b[0mlq\u001b[0m \u001b[0;34m=\u001b[0m \u001b[0mlocalize_problem\u001b[0m\u001b[0;34m(\u001b[0m\u001b[0mp\u001b[0m\u001b[0;34m,\u001b[0m \u001b[0mcoarse_grid_resolution\u001b[0m\u001b[0;34m,\u001b[0m \u001b[0mresolution\u001b[0m\u001b[0;34m,\u001b[0m \u001b[0mmus\u001b[0m \u001b[0;34m=\u001b[0m \u001b[0mmus\u001b[0m\u001b[0;34m)\u001b[0m\u001b[0;34m\u001b[0m\u001b[0m\n\u001b[0;32m---> 18\u001b[0;31m     \u001b[0minfsups\u001b[0m\u001b[0;34m.\u001b[0m\u001b[0mappend\u001b[0m\u001b[0;34m(\u001b[0m\u001b[0mcalculate_inf_sup_constant2\u001b[0m\u001b[0;34m(\u001b[0m\u001b[0mgq\u001b[0m\u001b[0;34m,\u001b[0m\u001b[0mlq\u001b[0m\u001b[0;34m)\u001b[0m\u001b[0;34m)\u001b[0m\u001b[0;34m\u001b[0m\u001b[0m\n\u001b[0m\u001b[1;32m     19\u001b[0m     \u001b[0mconts\u001b[0m\u001b[0;34m.\u001b[0m\u001b[0mappend\u001b[0m\u001b[0;34m(\u001b[0m\u001b[0mcalculate_continuity_constant\u001b[0m\u001b[0;34m(\u001b[0m\u001b[0mgq\u001b[0m\u001b[0;34m,\u001b[0m\u001b[0mlq\u001b[0m\u001b[0;34m)\u001b[0m\u001b[0;34m)\u001b[0m\u001b[0;34m\u001b[0m\u001b[0m\n",
      "\u001b[0;32m/home/root_dennis/pymor_MA/Masterarbeit/constants.pyc\u001b[0m in \u001b[0;36mcalculate_inf_sup_constant2\u001b[0;34m(gq, lq)\u001b[0m\n\u001b[1;32m     85\u001b[0m \u001b[0;34m\u001b[0m\u001b[0m\n\u001b[1;32m     86\u001b[0m         \u001b[0;31m#t = time.time()\u001b[0m\u001b[0;34m\u001b[0m\u001b[0;34m\u001b[0m\u001b[0m\n\u001b[0;32m---> 87\u001b[0;31m         \u001b[0meigvals\u001b[0m \u001b[0;34m=\u001b[0m \u001b[0msp\u001b[0m\u001b[0;34m.\u001b[0m\u001b[0meigs\u001b[0m\u001b[0;34m(\u001b[0m\u001b[0mM1\u001b[0m\u001b[0;34m,\u001b[0m \u001b[0mM\u001b[0m\u001b[0;34m=\u001b[0m\u001b[0mX\u001b[0m\u001b[0;34m,\u001b[0m \u001b[0mwhich\u001b[0m \u001b[0;34m=\u001b[0m \u001b[0;34m'SM'\u001b[0m\u001b[0;34m,\u001b[0m \u001b[0mtol\u001b[0m \u001b[0;34m=\u001b[0m \u001b[0;36m1e-1\u001b[0m\u001b[0;34m,\u001b[0m \u001b[0mk\u001b[0m\u001b[0;34m=\u001b[0m\u001b[0;36m100\u001b[0m\u001b[0;34m)\u001b[0m\u001b[0;34m[\u001b[0m\u001b[0;36m0\u001b[0m\u001b[0;34m]\u001b[0m\u001b[0;34m\u001b[0m\u001b[0m\n\u001b[0m\u001b[1;32m     88\u001b[0m         \u001b[0;31m#print time.time()-t\u001b[0m\u001b[0;34m\u001b[0m\u001b[0;34m\u001b[0m\u001b[0m\n\u001b[1;32m     89\u001b[0m         \u001b[0meigvals\u001b[0m \u001b[0;34m=\u001b[0m \u001b[0mnp\u001b[0m\u001b[0;34m.\u001b[0m\u001b[0msqrt\u001b[0m\u001b[0;34m(\u001b[0m\u001b[0mnp\u001b[0m\u001b[0;34m.\u001b[0m\u001b[0mabs\u001b[0m\u001b[0;34m(\u001b[0m\u001b[0meigvals\u001b[0m\u001b[0;34m)\u001b[0m\u001b[0;34m)\u001b[0m\u001b[0;34m\u001b[0m\u001b[0m\n",
      "\u001b[0;32m/usr/lib/python2.7/dist-packages/scipy/sparse/linalg/eigen/arpack/arpack.pyc\u001b[0m in \u001b[0;36meigs\u001b[0;34m(A, k, M, sigma, which, v0, ncv, maxiter, tol, return_eigenvectors, Minv, OPinv, OPpart)\u001b[0m\n\u001b[1;32m   1301\u001b[0m     \u001b[0;32mwith\u001b[0m \u001b[0m_ARPACK_LOCK\u001b[0m\u001b[0;34m:\u001b[0m\u001b[0;34m\u001b[0m\u001b[0m\n\u001b[1;32m   1302\u001b[0m         \u001b[0;32mwhile\u001b[0m \u001b[0;32mnot\u001b[0m \u001b[0mparams\u001b[0m\u001b[0;34m.\u001b[0m\u001b[0mconverged\u001b[0m\u001b[0;34m:\u001b[0m\u001b[0;34m\u001b[0m\u001b[0m\n\u001b[0;32m-> 1303\u001b[0;31m             \u001b[0mparams\u001b[0m\u001b[0;34m.\u001b[0m\u001b[0miterate\u001b[0m\u001b[0;34m(\u001b[0m\u001b[0;34m)\u001b[0m\u001b[0;34m\u001b[0m\u001b[0m\n\u001b[0m\u001b[1;32m   1304\u001b[0m \u001b[0;34m\u001b[0m\u001b[0m\n\u001b[1;32m   1305\u001b[0m         \u001b[0;32mreturn\u001b[0m \u001b[0mparams\u001b[0m\u001b[0;34m.\u001b[0m\u001b[0mextract\u001b[0m\u001b[0;34m(\u001b[0m\u001b[0mreturn_eigenvectors\u001b[0m\u001b[0;34m)\u001b[0m\u001b[0;34m\u001b[0m\u001b[0m\n",
      "\u001b[0;32m/usr/lib/python2.7/dist-packages/scipy/sparse/linalg/eigen/arpack/arpack.pyc\u001b[0m in \u001b[0;36miterate\u001b[0;34m(self)\u001b[0m\n\u001b[1;32m    729\u001b[0m                                     \u001b[0mself\u001b[0m\u001b[0;34m.\u001b[0m\u001b[0mtol\u001b[0m\u001b[0;34m,\u001b[0m \u001b[0mself\u001b[0m\u001b[0;34m.\u001b[0m\u001b[0mresid\u001b[0m\u001b[0;34m,\u001b[0m \u001b[0mself\u001b[0m\u001b[0;34m.\u001b[0m\u001b[0mv\u001b[0m\u001b[0;34m,\u001b[0m \u001b[0mself\u001b[0m\u001b[0;34m.\u001b[0m\u001b[0miparam\u001b[0m\u001b[0;34m,\u001b[0m\u001b[0;34m\u001b[0m\u001b[0m\n\u001b[1;32m    730\u001b[0m                                     \u001b[0mself\u001b[0m\u001b[0;34m.\u001b[0m\u001b[0mipntr\u001b[0m\u001b[0;34m,\u001b[0m \u001b[0mself\u001b[0m\u001b[0;34m.\u001b[0m\u001b[0mworkd\u001b[0m\u001b[0;34m,\u001b[0m \u001b[0mself\u001b[0m\u001b[0;34m.\u001b[0m\u001b[0mworkl\u001b[0m\u001b[0;34m,\u001b[0m\u001b[0;34m\u001b[0m\u001b[0m\n\u001b[0;32m--> 731\u001b[0;31m                                     self.rwork, self.info)\n\u001b[0m\u001b[1;32m    732\u001b[0m \u001b[0;34m\u001b[0m\u001b[0m\n\u001b[1;32m    733\u001b[0m         \u001b[0mxslice\u001b[0m \u001b[0;34m=\u001b[0m \u001b[0mslice\u001b[0m\u001b[0;34m(\u001b[0m\u001b[0mself\u001b[0m\u001b[0;34m.\u001b[0m\u001b[0mipntr\u001b[0m\u001b[0;34m[\u001b[0m\u001b[0;36m0\u001b[0m\u001b[0;34m]\u001b[0m \u001b[0;34m-\u001b[0m \u001b[0;36m1\u001b[0m\u001b[0;34m,\u001b[0m \u001b[0mself\u001b[0m\u001b[0;34m.\u001b[0m\u001b[0mipntr\u001b[0m\u001b[0;34m[\u001b[0m\u001b[0;36m0\u001b[0m\u001b[0;34m]\u001b[0m \u001b[0;34m-\u001b[0m \u001b[0;36m1\u001b[0m \u001b[0;34m+\u001b[0m \u001b[0mself\u001b[0m\u001b[0;34m.\u001b[0m\u001b[0mn\u001b[0m\u001b[0;34m)\u001b[0m\u001b[0;34m\u001b[0m\u001b[0m\n",
      "\u001b[0;31mKeyboardInterrupt\u001b[0m: "
     ]
    }
   ],
   "source": [
    "from evaluations import *\n",
    "acc =1e-2\n",
    "boundary = 'robin'\n",
    "coarse_grid_resolution = 10\n",
    "p = helmholtz(boundary = boundary)\n",
    "infsups = []\n",
    "conts = []\n",
    "for k in range(1,100):\n",
    "    print k\n",
    "    resolution  = int(np.ceil(float(k*1.5+50)/coarse_grid_resolution)*coarse_grid_resolution)\n",
    "    cglob = -1j*k\n",
    "    cloc0 = 0\n",
    "    cloc1 = 0.02*(5-1j)\n",
    "    cloc2 = 0.0016*(8-1j)\n",
    "    cloc = cloc0+ cloc1*k+cloc2*k**2\n",
    "    mus = {'k': k, 'c_glob': cglob, 'c_loc': cloc}\n",
    "    gq, lq = localize_problem(p, coarse_grid_resolution, resolution, mus = mus)\n",
    "    infsups.append(calculate_inf_sup_constant2(gq,lq))\n",
    "    conts.append(calculate_continuity_constant(gq,lq))"
   ]
  },
  {
   "cell_type": "code",
   "execution_count": 13,
   "metadata": {},
   "outputs": [
    {
     "name": "stdout",
     "output_type": "stream",
     "text": [
      "0.2\n",
      "0.4\n",
      "0.6\n",
      "0.8\n",
      "1.0\n",
      "1.2\n",
      "1.4\n",
      "1.6\n",
      "1.8\n",
      "2.0\n",
      "2.2\n",
      "2.4\n",
      "2.6\n",
      "2.8\n",
      "3.0\n",
      "3.2\n",
      "3.4\n",
      "3.6\n",
      "3.8\n",
      "4.0\n",
      "4.2\n",
      "4.4\n",
      "4.6\n",
      "4.8\n",
      "5.0\n"
     ]
    }
   ],
   "source": [
    "from evaluations import *\n",
    "acc =1e-2\n",
    "boundary = 'dirichlet'\n",
    "coarse_grid_resolution = 10\n",
    "p = helmholtz(boundary = boundary)\n",
    "infsups = []\n",
    "conts = []\n",
    "rang = np.arange(.2,5.2,.2)\n",
    "for k in rang:\n",
    "    print k\n",
    "    resolution  = int(np.ceil(float(k*1.5+50)/coarse_grid_resolution)*coarse_grid_resolution)\n",
    "    cglob = -1j*k\n",
    "    cloc0 = 0\n",
    "    cloc1 = 0.02*(5-1j)\n",
    "    cloc2 = 0.0016*(8-1j)\n",
    "    cloc = cloc0+ cloc1*k+cloc2*k**2\n",
    "    mus = {'k': k, 'c_glob': cglob, 'c_loc': cloc}\n",
    "    d, data = discretize_elliptic_cg(p, diameter = 1./resolution)\n",
    "    op = d.operator.assemble(mus)\n",
    "    full_l2_product = d.products[\"l2\"].assemble()\n",
    "    full_h1_semi_product = d.products[\"h1_semi\"].assemble()\n",
    "    k_product = LincombOperator((full_h1_semi_product,full_l2_product),(1,mus[\"k\"]**2)).assemble()\n",
    "    prod = k_product\n",
    "    \n",
    "    A = op._matrix\n",
    "    H1 = prod._matrix\n",
    "    Y = H1\n",
    "    X = H1\n",
    "\n",
    "    try:\n",
    "        a = data['boundary_info'].dirichlet_boundaries(2)\n",
    "        b = np.arange(A.shape[0])\n",
    "        c = np.delete(b,a)\n",
    "        A = A[:,c][c,:]\n",
    "        X = X[:,c][c,:]\n",
    "        Y = Y[:,c][c,:]\n",
    "    except KeyError:\n",
    "        pass\n",
    "\n",
    "    Yinv = sp.factorized(Y.astype(complex))\n",
    "    def mv(v):\n",
    "        return A.H.dot(Yinv(A.dot(v)))\n",
    "    M1 = LinearOperator(A.shape, matvec = mv)\n",
    "    \n",
    "    eigvals = sp.eigs(M1, M=X, k=1, tol = 1e-4)[0]\n",
    "    eigvals = np.sqrt(np.abs(eigvals))\n",
    "    eigvals[::-1].sort()\n",
    "    conts.append(eigvals[0])\n",
    "    \n",
    "    eigvals = sp.eigs(M1, M=X, which = 'SM', tol = 1e-1, k=100)[0]\n",
    "    eigvals = np.sqrt(np.abs(eigvals))\n",
    "    eigvals.sort()\n",
    "    infsups.append(eigvals[0])"
   ]
  },
  {
   "cell_type": "code",
   "execution_count": 14,
   "metadata": {},
   "outputs": [
    {
     "data": {
      "image/png": "[encoded data removed]",
      "text/plain": [
       "<matplotlib.figure.Figure at 0x7ff3449c9650>"
      ]
     },
     "metadata": {
      "needs_background": "light"
     },
     "output_type": "display_data"
    }
   ],
   "source": [
    "%matplotlib inline\n",
    "from matplotlib import pyplot as plt\n",
    "plt.figure()\n",
    "plt.semilogy(rang, infsups, label = \"infsups\")\n",
    "plt.legend(loc='upper right')\n",
    "plt.xlabel('k')\n",
    "plt.show()"
   ]
  },
  {
   "cell_type": "code",
   "execution_count": 15,
   "metadata": {},
   "outputs": [
    {
     "data": {
      "image/png": "[encoded data removed]",
      "text/plain": [
       "<matplotlib.figure.Figure at 0x7ff344890290>"
      ]
     },
     "metadata": {
      "needs_background": "light"
     },
     "output_type": "display_data"
    }
   ],
   "source": [
    "%matplotlib inline\n",
    "from matplotlib import pyplot as plt\n",
    "plt.figure()\n",
    "plt.semilogy(rang, conts, label = \"conts\")\n",
    "plt.legend(loc='upper right')\n",
    "plt.xlabel('k')\n",
    "plt.show()"
   ]
  },
  {
   "cell_type": "code",
   "execution_count": 17,
   "metadata": {},
   "outputs": [],
   "source": [
    "quot = np.array(conts)/np.array(infsups)"
   ]
  },
  {
   "cell_type": "code",
   "execution_count": 18,
   "metadata": {},
   "outputs": [
    {
     "data": {
      "image/png": "[encoded data removed]",
      "text/plain": [
       "<matplotlib.figure.Figure at 0x7ff3447985d0>"
      ]
     },
     "metadata": {
      "needs_background": "light"
     },
     "output_type": "display_data"
    }
   ],
   "source": [
    "%matplotlib inline\n",
    "from matplotlib import pyplot as plt\n",
    "plt.figure()\n",
    "plt.semilogy(rang, quot, label = \"quot\")\n",
    "plt.legend(loc='upper right')\n",
    "plt.xlabel('k')\n",
    "plt.show()"
   ]
  },
  {
   "cell_type": "code",
   "execution_count": null,
   "metadata": {},
   "outputs": [],
   "source": []
  }
 ],
 "metadata": {
  "kernelspec": {
   "display_name": "project",
   "language": "python",
   "name": "project"
  },
  "language_info": {
   "codemirror_mode": {
    "name": "ipython",
    "version": 2
   },
   "file_extension": ".py",
   "mimetype": "text/x-python",
   "name": "python",
   "nbconvert_exporter": "python",
   "pygments_lexer": "ipython2",
   "version": "2.7.15rc1"
  }
 },
 "nbformat": 4,
 "nbformat_minor": 2
}
