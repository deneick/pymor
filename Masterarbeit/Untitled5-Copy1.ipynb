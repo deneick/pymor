{
 "cells": [
  {
   "cell_type": "code",
   "execution_count": 1,
   "metadata": {},
   "outputs": [
    {
     "name": "stdout",
     "output_type": "stream",
     "text": [
      "Loading pyMOR version 0.4.2-116-gadb475af\n",
      "localizing problem\n"
     ]
    }
   ],
   "source": [
    "from evaluations import *\n",
    "acc =1e-2\n",
    "boundary = 'robin'\n",
    "coarse_grid_resolution = 10\n",
    "p = helmholtz(boundary = boundary)\n",
    "k= 6.\n",
    "resolution  = int(np.ceil(float(k*1.5+50)/coarse_grid_resolution)*coarse_grid_resolution)\n",
    "cglob = -1j*k\n",
    "cloc0 = 0\n",
    "cloc1 = 0.02*(5-1j)\n",
    "cloc2 = 0.0016*(8-1j)\n",
    "cloc = cloc0+ cloc1*k+cloc2*k**2\n",
    "mus = {'k': k, 'c_glob': cglob, 'c_loc': cloc}\n",
    "gq, lq = localize_problem(p, coarse_grid_resolution, resolution, mus = mus, calT = True, calQ = True)"
   ]
  },
  {
   "cell_type": "code",
   "execution_count": 2,
   "metadata": {},
   "outputs": [
    {
     "name": "stdout",
     "output_type": "stream",
     "text": [
      "calculated_continuity_constant:  1.79186818672\n",
      "calculated_inf_sup_constant:  0.227325649277\n",
      "calculated all lambdas\n"
     ]
    },
    {
     "name": "stderr",
     "output_type": "stream",
     "text": [
      "/home/root_dennis/pymor_MA/src/pymor/operators/constructions.py:1002: RuntimeWarning: invalid value encountered in double_scalars\n",
      "  if (np.linalg.norm(norm_squared.imag)/np.linalg.norm(norm_squared) > 1e-11):\n",
      "/usr/lib/python2.7/dist-packages/scipy/sparse/linalg/eigen/arpack/arpack.py:737: ComplexWarning: Casting complex values to real discards the imaginary part\n",
      "  self.workd[yslice] = self.OP(self.workd[xslice])\n",
      "/usr/lib/python2.7/dist-packages/scipy/sparse/linalg/eigen/arpack/arpack.py:746: ComplexWarning: Casting complex values to real discards the imaginary part\n",
      "  self.workd[yslice] = self.B(self.workd[xslice])\n",
      "/usr/lib/python2.7/dist-packages/scipy/sparse/linalg/eigen/arpack/arpack.py:741: ComplexWarning: Casting complex values to real discards the imaginary part\n",
      "  self.workd[yslice] = self.OP(self.workd[xslice])\n"
     ]
    },
    {
     "name": "stdout",
     "output_type": "stream",
     "text": [
      "calculated csis\n",
      "calculated all Psi_norms\n"
     ]
    }
   ],
   "source": [
    "calculate_continuity_constant(gq, lq)\n",
    "calculate_inf_sup_constant2(gq, lq)\n",
    "calculate_lambda_min(gq, lq)\n",
    "calculate_csis(gq,lq)\n",
    "calculate_Psi_norm(gq,lq)"
   ]
  },
  {
   "cell_type": "code",
   "execution_count": 3,
   "metadata": {},
   "outputs": [
    {
     "name": "stderr",
     "output_type": "stream",
     "text": [
      "mybmat.py:20: VisibleDeprecationWarning: `rank` is deprecated; use the `ndim` attribute or function instead. To find the rank of a matrix see `numpy.linalg.matrix_rank`.\n",
      "  if np.rank(blocks) != 2:\n"
     ]
    },
    {
     "name": "stdout",
     "output_type": "stream",
     "text": [
      "[  1.54371976e-08]\n"
     ]
    }
   ],
   "source": [
    "d = gq[\"d\"]\n",
    "u = d.solve(mus)\n",
    "bases = create_bases(gq, lq, num_testvecs=20, transfer = 'robin', target_accuracy = acc, calC = False)\n",
    "ru = reconstruct_solution(gq,lq,bases)\n",
    "\n",
    "k_prod = gq[\"k_product\"]\n",
    "norm = induced_norm(k_prod)\n",
    "ls = norm(u-ru)\n",
    "print ls"
   ]
  },
  {
   "cell_type": "code",
   "execution_count": 4,
   "metadata": {},
   "outputs": [
    {
     "name": "stdout",
     "output_type": "stream",
     "text": [
      "[  2.58048514e-07]\n",
      "[ 16.71602069]\n"
     ]
    }
   ],
   "source": [
    "localizer = gq[\"localizer\"]\n",
    "rs1 = 0\n",
    "for space in gq[\"spaces\"]:\n",
    "    ldict = lq[space]\n",
    "    norm = induced_norm(ldict[\"range_product\"])\n",
    "    rs1 += norm(localizer.localize_vector_array(u, ldict[\"range_space\"])-localizer.localize_vector_array(ru, ldict[\"range_space\"]))\n",
    "print rs1\n",
    "print rs1/ls"
   ]
  },
  {
   "cell_type": "code",
   "execution_count": 7,
   "metadata": {},
   "outputs": [
    {
     "ename": "ValueError",
     "evalue": "b is of incompatible size",
     "output_type": "error",
     "traceback": [
      "\u001b[0;31m---------------------------------------------------------------------------\u001b[0m",
      "\u001b[0;31mValueError\u001b[0m                                Traceback (most recent call last)",
      "\u001b[0;32m<ipython-input-7-1d855c8853d4>\u001b[0m in \u001b[0;36m<module>\u001b[0;34m()\u001b[0m\n\u001b[1;32m      9\u001b[0m     \u001b[0;32mdef\u001b[0m \u001b[0mmv\u001b[0m\u001b[0;34m(\u001b[0m\u001b[0mv\u001b[0m\u001b[0;34m)\u001b[0m\u001b[0;34m:\u001b[0m\u001b[0;34m\u001b[0m\u001b[0m\n\u001b[1;32m     10\u001b[0m         \u001b[0;32mreturn\u001b[0m \u001b[0mlop\u001b[0m\u001b[0;34m.\u001b[0m\u001b[0mH\u001b[0m\u001b[0;34m.\u001b[0m\u001b[0mdot\u001b[0m\u001b[0;34m(\u001b[0m\u001b[0mYinv\u001b[0m\u001b[0;34m(\u001b[0m\u001b[0mlop\u001b[0m\u001b[0;34m.\u001b[0m\u001b[0mdot\u001b[0m\u001b[0;34m(\u001b[0m\u001b[0mv\u001b[0m\u001b[0;34m)\u001b[0m\u001b[0;34m)\u001b[0m\u001b[0;34m)\u001b[0m\u001b[0;34m\u001b[0m\u001b[0m\n\u001b[0;32m---> 11\u001b[0;31m     \u001b[0mM1\u001b[0m \u001b[0;34m=\u001b[0m \u001b[0mLinearOperator\u001b[0m\u001b[0;34m(\u001b[0m\u001b[0mlop\u001b[0m\u001b[0;34m.\u001b[0m\u001b[0mshape\u001b[0m\u001b[0;34m,\u001b[0m \u001b[0mmatvec\u001b[0m \u001b[0;34m=\u001b[0m \u001b[0mmv\u001b[0m\u001b[0;34m)\u001b[0m\u001b[0;34m\u001b[0m\u001b[0m\n\u001b[0m\u001b[1;32m     12\u001b[0m \u001b[0;34m\u001b[0m\u001b[0m\n\u001b[1;32m     13\u001b[0m     \u001b[0;31m#t = time.time()\u001b[0m\u001b[0;34m\u001b[0m\u001b[0;34m\u001b[0m\u001b[0m\n",
      "\u001b[0;32m/usr/lib/python2.7/dist-packages/scipy/sparse/linalg/interface.pyc\u001b[0m in \u001b[0;36m__new__\u001b[0;34m(cls, *args, **kwargs)\u001b[0m\n\u001b[1;32m    131\u001b[0m         \u001b[0;32mif\u001b[0m \u001b[0mcls\u001b[0m \u001b[0;32mis\u001b[0m \u001b[0mLinearOperator\u001b[0m\u001b[0;34m:\u001b[0m\u001b[0;34m\u001b[0m\u001b[0m\n\u001b[1;32m    132\u001b[0m             \u001b[0;31m# Operate as _CustomLinearOperator factory.\u001b[0m\u001b[0;34m\u001b[0m\u001b[0;34m\u001b[0m\u001b[0m\n\u001b[0;32m--> 133\u001b[0;31m             \u001b[0;32mreturn\u001b[0m \u001b[0m_CustomLinearOperator\u001b[0m\u001b[0;34m(\u001b[0m\u001b[0;34m*\u001b[0m\u001b[0margs\u001b[0m\u001b[0;34m,\u001b[0m \u001b[0;34m**\u001b[0m\u001b[0mkwargs\u001b[0m\u001b[0;34m)\u001b[0m\u001b[0;34m\u001b[0m\u001b[0m\n\u001b[0m\u001b[1;32m    134\u001b[0m         \u001b[0;32melse\u001b[0m\u001b[0;34m:\u001b[0m\u001b[0;34m\u001b[0m\u001b[0m\n\u001b[1;32m    135\u001b[0m             \u001b[0mobj\u001b[0m \u001b[0;34m=\u001b[0m \u001b[0msuper\u001b[0m\u001b[0;34m(\u001b[0m\u001b[0mLinearOperator\u001b[0m\u001b[0;34m,\u001b[0m \u001b[0mcls\u001b[0m\u001b[0;34m)\u001b[0m\u001b[0;34m.\u001b[0m\u001b[0m__new__\u001b[0m\u001b[0;34m(\u001b[0m\u001b[0mcls\u001b[0m\u001b[0;34m)\u001b[0m\u001b[0;34m\u001b[0m\u001b[0m\n",
      "\u001b[0;32m/usr/lib/python2.7/dist-packages/scipy/sparse/linalg/interface.pyc\u001b[0m in \u001b[0;36m__init__\u001b[0;34m(self, shape, matvec, rmatvec, matmat, dtype)\u001b[0m\n\u001b[1;32m    460\u001b[0m         \u001b[0mself\u001b[0m\u001b[0;34m.\u001b[0m\u001b[0m__matmat_impl\u001b[0m \u001b[0;34m=\u001b[0m \u001b[0mmatmat\u001b[0m\u001b[0;34m\u001b[0m\u001b[0m\n\u001b[1;32m    461\u001b[0m \u001b[0;34m\u001b[0m\u001b[0m\n\u001b[0;32m--> 462\u001b[0;31m         \u001b[0mself\u001b[0m\u001b[0;34m.\u001b[0m\u001b[0m_init_dtype\u001b[0m\u001b[0;34m(\u001b[0m\u001b[0;34m)\u001b[0m\u001b[0;34m\u001b[0m\u001b[0m\n\u001b[0m\u001b[1;32m    463\u001b[0m \u001b[0;34m\u001b[0m\u001b[0m\n\u001b[1;32m    464\u001b[0m     \u001b[0;32mdef\u001b[0m \u001b[0m_matmat\u001b[0m\u001b[0;34m(\u001b[0m\u001b[0mself\u001b[0m\u001b[0;34m,\u001b[0m \u001b[0mX\u001b[0m\u001b[0;34m)\u001b[0m\u001b[0;34m:\u001b[0m\u001b[0;34m\u001b[0m\u001b[0m\n",
      "\u001b[0;32m/usr/lib/python2.7/dist-packages/scipy/sparse/linalg/interface.pyc\u001b[0m in \u001b[0;36m_init_dtype\u001b[0;34m(self)\u001b[0m\n\u001b[1;32m    163\u001b[0m         \u001b[0;32mif\u001b[0m \u001b[0mself\u001b[0m\u001b[0;34m.\u001b[0m\u001b[0mdtype\u001b[0m \u001b[0;32mis\u001b[0m \u001b[0mNone\u001b[0m\u001b[0;34m:\u001b[0m\u001b[0;34m\u001b[0m\u001b[0m\n\u001b[1;32m    164\u001b[0m             \u001b[0mv\u001b[0m \u001b[0;34m=\u001b[0m \u001b[0mnp\u001b[0m\u001b[0;34m.\u001b[0m\u001b[0mzeros\u001b[0m\u001b[0;34m(\u001b[0m\u001b[0mself\u001b[0m\u001b[0;34m.\u001b[0m\u001b[0mshape\u001b[0m\u001b[0;34m[\u001b[0m\u001b[0;34m-\u001b[0m\u001b[0;36m1\u001b[0m\u001b[0;34m]\u001b[0m\u001b[0;34m)\u001b[0m\u001b[0;34m\u001b[0m\u001b[0m\n\u001b[0;32m--> 165\u001b[0;31m             \u001b[0mself\u001b[0m\u001b[0;34m.\u001b[0m\u001b[0mdtype\u001b[0m \u001b[0;34m=\u001b[0m \u001b[0mnp\u001b[0m\u001b[0;34m.\u001b[0m\u001b[0masarray\u001b[0m\u001b[0;34m(\u001b[0m\u001b[0mself\u001b[0m\u001b[0;34m.\u001b[0m\u001b[0mmatvec\u001b[0m\u001b[0;34m(\u001b[0m\u001b[0mv\u001b[0m\u001b[0;34m)\u001b[0m\u001b[0;34m)\u001b[0m\u001b[0;34m.\u001b[0m\u001b[0mdtype\u001b[0m\u001b[0;34m\u001b[0m\u001b[0m\n\u001b[0m\u001b[1;32m    166\u001b[0m \u001b[0;34m\u001b[0m\u001b[0m\n\u001b[1;32m    167\u001b[0m     \u001b[0;32mdef\u001b[0m \u001b[0m_matmat\u001b[0m\u001b[0;34m(\u001b[0m\u001b[0mself\u001b[0m\u001b[0;34m,\u001b[0m \u001b[0mX\u001b[0m\u001b[0;34m)\u001b[0m\u001b[0;34m:\u001b[0m\u001b[0;34m\u001b[0m\u001b[0m\n",
      "\u001b[0;32m/usr/lib/python2.7/dist-packages/scipy/sparse/linalg/interface.pyc\u001b[0m in \u001b[0;36mmatvec\u001b[0;34m(self, x)\u001b[0m\n\u001b[1;32m    217\u001b[0m             \u001b[0;32mraise\u001b[0m \u001b[0mValueError\u001b[0m\u001b[0;34m(\u001b[0m\u001b[0;34m'dimension mismatch'\u001b[0m\u001b[0;34m)\u001b[0m\u001b[0;34m\u001b[0m\u001b[0m\n\u001b[1;32m    218\u001b[0m \u001b[0;34m\u001b[0m\u001b[0m\n\u001b[0;32m--> 219\u001b[0;31m         \u001b[0my\u001b[0m \u001b[0;34m=\u001b[0m \u001b[0mself\u001b[0m\u001b[0;34m.\u001b[0m\u001b[0m_matvec\u001b[0m\u001b[0;34m(\u001b[0m\u001b[0mx\u001b[0m\u001b[0;34m)\u001b[0m\u001b[0;34m\u001b[0m\u001b[0m\n\u001b[0m\u001b[1;32m    220\u001b[0m \u001b[0;34m\u001b[0m\u001b[0m\n\u001b[1;32m    221\u001b[0m         \u001b[0;32mif\u001b[0m \u001b[0misinstance\u001b[0m\u001b[0;34m(\u001b[0m\u001b[0mx\u001b[0m\u001b[0;34m,\u001b[0m \u001b[0mnp\u001b[0m\u001b[0;34m.\u001b[0m\u001b[0mmatrix\u001b[0m\u001b[0;34m)\u001b[0m\u001b[0;34m:\u001b[0m\u001b[0;34m\u001b[0m\u001b[0m\n",
      "\u001b[0;32m/usr/lib/python2.7/dist-packages/scipy/sparse/linalg/interface.pyc\u001b[0m in \u001b[0;36m_matvec\u001b[0;34m(self, x)\u001b[0m\n\u001b[1;32m    469\u001b[0m \u001b[0;34m\u001b[0m\u001b[0m\n\u001b[1;32m    470\u001b[0m     \u001b[0;32mdef\u001b[0m \u001b[0m_matvec\u001b[0m\u001b[0;34m(\u001b[0m\u001b[0mself\u001b[0m\u001b[0;34m,\u001b[0m \u001b[0mx\u001b[0m\u001b[0;34m)\u001b[0m\u001b[0;34m:\u001b[0m\u001b[0;34m\u001b[0m\u001b[0m\n\u001b[0;32m--> 471\u001b[0;31m         \u001b[0;32mreturn\u001b[0m \u001b[0mself\u001b[0m\u001b[0;34m.\u001b[0m\u001b[0m__matvec_impl\u001b[0m\u001b[0;34m(\u001b[0m\u001b[0mx\u001b[0m\u001b[0;34m)\u001b[0m\u001b[0;34m\u001b[0m\u001b[0m\n\u001b[0m\u001b[1;32m    472\u001b[0m \u001b[0;34m\u001b[0m\u001b[0m\n\u001b[1;32m    473\u001b[0m     \u001b[0;32mdef\u001b[0m \u001b[0m_rmatvec\u001b[0m\u001b[0;34m(\u001b[0m\u001b[0mself\u001b[0m\u001b[0;34m,\u001b[0m \u001b[0mx\u001b[0m\u001b[0;34m)\u001b[0m\u001b[0;34m:\u001b[0m\u001b[0;34m\u001b[0m\u001b[0m\n",
      "\u001b[0;32m<ipython-input-7-1d855c8853d4>\u001b[0m in \u001b[0;36mmv\u001b[0;34m(v)\u001b[0m\n\u001b[1;32m      8\u001b[0m     \u001b[0mYinv\u001b[0m \u001b[0;34m=\u001b[0m \u001b[0msp\u001b[0m\u001b[0;34m.\u001b[0m\u001b[0mfactorized\u001b[0m\u001b[0;34m(\u001b[0m\u001b[0mprod\u001b[0m\u001b[0;34m.\u001b[0m\u001b[0mastype\u001b[0m\u001b[0;34m(\u001b[0m\u001b[0mcomplex\u001b[0m\u001b[0;34m)\u001b[0m\u001b[0;34m)\u001b[0m\u001b[0;34m\u001b[0m\u001b[0m\n\u001b[1;32m      9\u001b[0m     \u001b[0;32mdef\u001b[0m \u001b[0mmv\u001b[0m\u001b[0;34m(\u001b[0m\u001b[0mv\u001b[0m\u001b[0;34m)\u001b[0m\u001b[0;34m:\u001b[0m\u001b[0;34m\u001b[0m\u001b[0m\n\u001b[0;32m---> 10\u001b[0;31m         \u001b[0;32mreturn\u001b[0m \u001b[0mlop\u001b[0m\u001b[0;34m.\u001b[0m\u001b[0mH\u001b[0m\u001b[0;34m.\u001b[0m\u001b[0mdot\u001b[0m\u001b[0;34m(\u001b[0m\u001b[0mYinv\u001b[0m\u001b[0;34m(\u001b[0m\u001b[0mlop\u001b[0m\u001b[0;34m.\u001b[0m\u001b[0mdot\u001b[0m\u001b[0;34m(\u001b[0m\u001b[0mv\u001b[0m\u001b[0;34m)\u001b[0m\u001b[0;34m)\u001b[0m\u001b[0;34m)\u001b[0m\u001b[0;34m\u001b[0m\u001b[0m\n\u001b[0m\u001b[1;32m     11\u001b[0m     \u001b[0mM1\u001b[0m \u001b[0;34m=\u001b[0m \u001b[0mLinearOperator\u001b[0m\u001b[0;34m(\u001b[0m\u001b[0mlop\u001b[0m\u001b[0;34m.\u001b[0m\u001b[0mshape\u001b[0m\u001b[0;34m,\u001b[0m \u001b[0mmatvec\u001b[0m \u001b[0;34m=\u001b[0m \u001b[0mmv\u001b[0m\u001b[0;34m)\u001b[0m\u001b[0;34m\u001b[0m\u001b[0m\n\u001b[1;32m     12\u001b[0m \u001b[0;34m\u001b[0m\u001b[0m\n",
      "\u001b[0;31mValueError\u001b[0m: b is of incompatible size"
     ]
    }
   ],
   "source": [
    "localizer = gq[\"localizer\"]\n",
    "rs2 = 0\n",
    "for space in gq[\"spaces\"]:\n",
    "    ldict = lq[space]\n",
    "    norm = induced_norm(ldict[\"range_product\"])\n",
    "    lop = ldict[\"local_op_matrix\"]\n",
    "    prod = ldict[\"range_product\"]._matrix\n",
    "    Yinv = sp.factorized(prod.astype(complex))\n",
    "    def mv(v):\n",
    "        return lop.H.dot(Yinv(lop.dot(v)))\n",
    "    M1 = LinearOperator(lop.shape, matvec = mv)\n",
    "\n",
    "    #t = time.time()\n",
    "    eigvals = sp.eigs(M1, M=prod, which = 'SM', tol = 1e-1, k=100)[0]\n",
    "    #print time.time()-t\n",
    "    eigvals = np.sqrt(np.abs(eigvals))\n",
    "    eigvals.sort()\n",
    "    print eigvals[0]\n",
    "    rs2 += norm(localizer.localize_vector_array(u, ldict[\"range_space\"])-localizer.localize_vector_array(ru, ldict[\"range_space\"]))\n",
    "print rs2\n",
    "print rs2/rs1"
   ]
  },
  {
   "cell_type": "code",
   "execution_count": 47,
   "metadata": {},
   "outputs": [
    {
     "name": "stdout",
     "output_type": "stream",
     "text": [
      "[  1.95044259e-07]\n",
      "[ 11.80324406]\n"
     ]
    }
   ],
   "source": [
    "sum = NumpyVectorArray(u.data*0)\n",
    "for space in gq[\"spaces\"]:\n",
    "\tldict = lq[space]\n",
    "\tbasis = bases[space]\n",
    "\tM = ldict[\"range_product\"]._matrix\n",
    "\tS = ldict[\"source_product\"]._matrix\n",
    "\tM_sparse = scipy.sparse.csr_matrix(M)\n",
    "\tT = ldict[\"transfer_matrix_robin\"]\n",
    "\tB = basis._array.T\n",
    "\trange_space = ldict[\"range_space\"]\n",
    "\tlocalizer = gq[\"localizer\"]\n",
    "\tpou = gq[\"pou\"]\n",
    "\tu_loc = pou[range_space](localizer.localize_vector_array(u, range_space))\n",
    "\tu_s = ldict[\"local_solution_robin\"]\n",
    "\tu_dif = u_loc-u_s\n",
    "\tterm = u_dif.data.T - B.dot(B.conj().T).dot(M_sparse.dot(u_dif.data.T))\n",
    "\tu_i = localizer.globalize_vector_array(NumpyVectorArray(term.T), range_space)\n",
    "\tsum += u_i\n",
    "rs1 = gq[\"continuity_constant\"]/gq[\"inf_sup_constant\"]* norm(sum)\n",
    "print rs1\n",
    "print rs1/ls"
   ]
  },
  {
   "cell_type": "code",
   "execution_count": 48,
   "metadata": {},
   "outputs": [
    {
     "name": "stdout",
     "output_type": "stream",
     "text": [
      "[  1.45907722e-06]\n",
      "[ 7.48074937]\n"
     ]
    }
   ],
   "source": [
    "sum = 0\n",
    "for space in gq[\"spaces\"]:\n",
    "\tldict = lq[space]\n",
    "\tbasis = bases[space]\n",
    "\tM = ldict[\"range_product\"]._matrix\n",
    "\tS = ldict[\"source_product\"]._matrix\n",
    "\tM_sparse = scipy.sparse.csr_matrix(M)\n",
    "\tT = ldict[\"transfer_matrix_robin\"]\n",
    "\tB = basis._array.T\n",
    "\trange_space = ldict[\"range_space\"]\n",
    "\tlocalizer = gq[\"localizer\"]\n",
    "\tpou = gq[\"pou\"]\n",
    "\tu_loc = pou[range_space](localizer.localize_vector_array(u, range_space))\n",
    "\tu_s = ldict[\"local_solution_robin\"]\n",
    "\tu_dif = u_loc-u_s\n",
    "\tterm = u_dif.data.T - B.dot(B.conj().T).dot(M_sparse.dot(u_dif.data.T))\n",
    "\tu_i = NumpyVectorArray(term.T)\n",
    "\tlocal_norm = induced_norm(ldict[\"range_product\"])\n",
    "\tsum += local_norm(u_i)\n",
    "rs2 = gq[\"continuity_constant\"]/gq[\"inf_sup_constant\"]* sum\n",
    "print rs2\n",
    "print rs2/rs1"
   ]
  },
  {
   "cell_type": "code",
   "execution_count": 49,
   "metadata": {},
   "outputs": [
    {
     "name": "stdout",
     "output_type": "stream",
     "text": [
      "[  5.74957038e-06]\n",
      "[ 3.94055249]\n"
     ]
    }
   ],
   "source": [
    "sum = 0\n",
    "for space in gq[\"spaces\"]:\n",
    "\tldict = lq[space]\n",
    "\tbasis = bases[space]\n",
    "\tM = ldict[\"range_product\"]._matrix\n",
    "\tS = ldict[\"source_product\"]._matrix\n",
    "\tM_sparse = scipy.sparse.csr_matrix(M)\n",
    "\tT = ldict[\"transfer_matrix_robin\"]\n",
    "\tB = basis._array.T\n",
    "\trange_space = ldict[\"range_space\"]\n",
    "\tomega_star_space = ldict[\"omega_star_space\"]\n",
    "\tlocalizer = gq[\"localizer\"]\n",
    "\tpou = gq[\"pou\"]\n",
    "\tu_loc = localizer.localize_vector_array(u, omega_star_space)\n",
    "\tu_s = ldict[\"local_sol2\"]\n",
    "\tu_dif = u_loc-u_s\n",
    "\tu_i = u_dif\n",
    "\tT1 = T - B.dot(B.conj().T).dot(M_sparse.dot(T))\n",
    "\tmaxval = operator_svd2(T1, S, M_sparse)[0][0]\n",
    "\tlocal_norm = induced_norm(ldict[\"omega_star_product\"])\n",
    "\tsum += maxval*ldict[\"Psi_norm\"]*local_norm(u_i)\n",
    "rs3 = gq[\"continuity_constant\"]/gq[\"inf_sup_constant\"]* sum\n",
    "print rs3\n",
    "print rs3/rs2"
   ]
  },
  {
   "cell_type": "code",
   "execution_count": 50,
   "metadata": {},
   "outputs": [
    {
     "name": "stdout",
     "output_type": "stream",
     "text": [
      "[  7.09762014e-06]\n",
      "[ 1.23446096]\n"
     ]
    }
   ],
   "source": [
    "sum = 0\n",
    "for space in gq[\"spaces\"]:\n",
    "\tldict = lq[space]\n",
    "\tbasis = bases[space]\n",
    "\tM = ldict[\"range_product\"]._matrix\n",
    "\tS = ldict[\"source_product\"]._matrix\n",
    "\tM_sparse = scipy.sparse.csr_matrix(M)\n",
    "\tT = ldict[\"transfer_matrix_robin\"]\n",
    "\tB = basis._array.T\n",
    "\trange_space = ldict[\"range_space\"]\n",
    "\tomega_star_space = ldict[\"omega_star_space\"]\n",
    "\tlocalizer = gq[\"localizer\"]\n",
    "\tpou = gq[\"pou\"]\n",
    "\tu_loc = localizer.localize_vector_array(u, omega_star_space)\n",
    "\tT1 = T - B.dot(B.conj().T).dot(M_sparse.dot(T))\n",
    "\tmaxval = operator_svd2(T1, S, M_sparse)[0][0]\n",
    "\tlocal_norm = induced_norm(ldict[\"omega_star_product\"])\n",
    "\tsum += maxval*ldict[\"Psi_norm\"]*local_norm(u_loc)*ldict[\"csi\"]\n",
    "rs4 = gq[\"continuity_constant\"]/gq[\"inf_sup_constant\"]* sum\n",
    "print rs4\n",
    "print rs4/rs3"
   ]
  },
  {
   "cell_type": "code",
   "execution_count": 51,
   "metadata": {},
   "outputs": [
    {
     "name": "stdout",
     "output_type": "stream",
     "text": [
      "[  8.18406712e-06]\n",
      "[ 1.15307201]\n"
     ]
    }
   ],
   "source": [
    "sum1 = 0\n",
    "sum2 = 0\n",
    "for space in gq[\"spaces\"]:\n",
    "\tldict = lq[space]\n",
    "\tbasis = bases[space]\n",
    "\tM = ldict[\"range_product\"]._matrix\n",
    "\tS = ldict[\"source_product\"]._matrix\n",
    "\tM_sparse = scipy.sparse.csr_matrix(M)\n",
    "\tT = ldict[\"transfer_matrix_robin\"]\n",
    "\tB = basis._array.T\n",
    "\trange_space = ldict[\"range_space\"]\n",
    "\tomega_star_space = ldict[\"omega_star_space\"]\n",
    "\tlocalizer = gq[\"localizer\"]\n",
    "\tpou = gq[\"pou\"]\n",
    "\tu_loc = localizer.localize_vector_array(u, omega_star_space)\n",
    "\tT1 = T - B.dot(B.conj().T).dot(M_sparse.dot(T))\n",
    "\tmaxval = operator_svd2(T1, S, M_sparse)[0][0]\n",
    "\tlocal_norm = induced_norm(ldict[\"omega_star_product\"])\n",
    "\tsum1 += maxval**2*ldict[\"Psi_norm\"]**2*ldict[\"csi\"]**2\n",
    "\tsum2 += local_norm(u_loc)**2\n",
    "rs5 = gq[\"continuity_constant\"]/gq[\"inf_sup_constant\"]* np.sqrt(sum1) * np.sqrt(sum2)\n",
    "print rs5\n",
    "print rs5/rs4"
   ]
  },
  {
   "cell_type": "code",
   "execution_count": 52,
   "metadata": {},
   "outputs": [
    {
     "name": "stdout",
     "output_type": "stream",
     "text": [
      "[  9.85440302e-06]\n",
      "[ 1.20409607]\n"
     ]
    }
   ],
   "source": [
    "sum = 0\n",
    "for space in gq[\"spaces\"]:\n",
    "\tldict = lq[space]\n",
    "\tbasis = bases[space]\n",
    "\tM = ldict[\"range_product\"]._matrix\n",
    "\tS = ldict[\"source_product\"]._matrix\n",
    "\tM_sparse = scipy.sparse.csr_matrix(M)\n",
    "\tT = ldict[\"transfer_matrix_robin\"]\n",
    "\tB = basis._array.T\n",
    "\trange_space = ldict[\"range_space\"]\n",
    "\tomega_star_space = ldict[\"omega_star_space\"]\n",
    "\tlocalizer = gq[\"localizer\"]\n",
    "\tpou = gq[\"pou\"]\n",
    "\tu_loc = localizer.localize_vector_array(u, omega_star_space)\n",
    "\tT1 = T - B.dot(B.conj().T).dot(M_sparse.dot(T))\n",
    "\tmaxval = operator_svd2(T1, S, M_sparse)[0][0]\n",
    "\tsum += maxval**2*ldict[\"Psi_norm\"]**2*ldict[\"csi\"]**2\n",
    "rs6 = gq[\"continuity_constant\"]/gq[\"inf_sup_constant\"]* np.sqrt(sum) *4* norm(u)\n",
    "print rs6\n",
    "print rs6/rs5"
   ]
  },
  {
   "cell_type": "code",
   "execution_count": 53,
   "metadata": {},
   "outputs": [
    {
     "name": "stdout",
     "output_type": "stream",
     "text": [
      "[ 2.77549853]\n"
     ]
    }
   ],
   "source": [
    "print np.log10(rs6/ls)"
   ]
  },
  {
   "cell_type": "code",
   "execution_count": 54,
   "metadata": {},
   "outputs": [
    {
     "name": "stdout",
     "output_type": "stream",
     "text": [
      "[ 5.78186821]\n"
     ]
    }
   ],
   "source": [
    "print np.log10(acc/ls)"
   ]
  },
  {
   "cell_type": "code",
   "execution_count": 55,
   "metadata": {},
   "outputs": [
    {
     "name": "stdout",
     "output_type": "stream",
     "text": [
      "[ 3.00636968]\n"
     ]
    }
   ],
   "source": [
    "print np.log10(acc/rs6)"
   ]
  },
  {
   "cell_type": "code",
   "execution_count": 64,
   "metadata": {},
   "outputs": [
    {
     "name": "stdout",
     "output_type": "stream",
     "text": [
      "[  6.40402246e-07]\n"
     ]
    }
   ],
   "source": [
    "print ls/norm(u)"
   ]
  },
  {
   "cell_type": "code",
   "execution_count": 63,
   "metadata": {},
   "outputs": [
    {
     "name": "stdout",
     "output_type": "stream",
     "text": [
      "[ 27.76342662]\n"
     ]
    }
   ],
   "source": [
    "print acc/(rs6/norm(u))"
   ]
  },
  {
   "cell_type": "code",
   "execution_count": null,
   "metadata": {},
   "outputs": [],
   "source": []
  },
  {
   "cell_type": "code",
   "execution_count": null,
   "metadata": {},
   "outputs": [],
   "source": []
  },
  {
   "cell_type": "code",
   "execution_count": null,
   "metadata": {},
   "outputs": [],
   "source": []
  },
  {
   "cell_type": "code",
   "execution_count": 58,
   "metadata": {},
   "outputs": [
    {
     "name": "stdout",
     "output_type": "stream",
     "text": [
      "localizing problem\n",
      "calculated_continuity_constant:  1.79186818672\n",
      "calculated_inf_sup_constant:  0.227325649277\n",
      "calculated all lambdas\n",
      "calculated csis\n",
      "calculated all Psi_norms\n",
      "6.31383629446e-07\n",
      "0.000345952747938\n"
     ]
    }
   ],
   "source": [
    "acc=1e-2\n",
    "boundary = 'robin'\n",
    "k=6.\n",
    "cloc0 = 0\n",
    "cloc1 = 0.02*(5-1j)\n",
    "cloc2 = 0.0016*(8-1j)\n",
    "p = helmholtz(boundary = boundary)\n",
    "cglob = -1j*k\n",
    "mus = {'k': k, 'c_glob': cglob, 'c_loc': cloc}\n",
    "resolution  = int(np.ceil(float(k*1.5+50)/coarse_grid_resolution)*coarse_grid_resolution)\n",
    "gq, lq = localize_problem(p, coarse_grid_resolution, resolution, mus = mus, calT = True, calQ = True)\n",
    "calculate_continuity_constant(gq, lq)\n",
    "calculate_inf_sup_constant2(gq, lq)\t\n",
    "calculate_lambda_min(gq, lq)\n",
    "calculate_csis(gq,lq)\t\n",
    "calculate_Psi_norm(gq,lq)\n",
    "d = gq[\"d\"]\n",
    "u = d.solve(mus)\n",
    "bases = create_bases(gq, lq, num_testvecs=20, transfer = 'robin', target_accuracy = acc, calC = False)\n",
    "rssum2 = 0\n",
    "for space in gq[\"spaces\"]:\n",
    "    ldict = lq[space]\n",
    "    basis = bases[space]\n",
    "    M = ldict[\"range_product\"]._matrix\n",
    "    S = ldict[\"source_product\"]._matrix\n",
    "    M_sparse = scipy.sparse.csr_matrix(M)\n",
    "    T = ldict[\"transfer_matrix_robin\"]\n",
    "    B = basis._array.T\n",
    "    T1 = T - B.dot(B.conj().T).dot(M_sparse.dot(T))\n",
    "    maxval = operator_svd2(T1, S, M_sparse)[0][0]\n",
    "    rssum2 += maxval**2*ldict[\"csi\"]**2*ldict[\"Psi_norm\"]**2\n",
    "ru = reconstruct_solution(gq,lq,bases)\n",
    "print gq[\"full_norm\"](u-ru)[0]/gq[\"full_norm\"](u)[0]\n",
    "print (gq[\"continuity_constant\"]/gq[\"inf_sup_constant\"])*4*np.sqrt(rssum2)"
   ]
  },
  {
   "cell_type": "code",
   "execution_count": null,
   "metadata": {},
   "outputs": [],
   "source": []
  }
 ],
 "metadata": {
  "kernelspec": {
   "display_name": "project",
   "language": "python",
   "name": "project"
  },
  "language_info": {
   "codemirror_mode": {
    "name": "ipython",
    "version": 2
   },
   "file_extension": ".py",
   "mimetype": "text/x-python",
   "name": "python",
   "nbconvert_exporter": "python",
   "pygments_lexer": "ipython2",
   "version": "2.7.15rc1"
  }
 },
 "nbformat": 4,
 "nbformat_minor": 2
}
