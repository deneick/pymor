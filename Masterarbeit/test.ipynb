{
 "cells": [
  {
   "cell_type": "code",
   "execution_count": 1,
   "metadata": {},
   "outputs": [
    {
     "name": "stdout",
     "output_type": "stream",
     "text": [
      "Loading pyMOR version 0.4.2-51-ge55b3bf\n"
     ]
    }
   ],
   "source": [
    "from evaluations import *\n",
    "from partitioner import build_subspaces, partition_any_grid\n",
    "from discrete_pou import *"
   ]
  },
  {
   "cell_type": "code",
   "execution_count": 2,
   "metadata": {},
   "outputs": [
    {
     "name": "stderr",
     "output_type": "stream",
     "text": [
      "/data/home/d_eick05/pymor/src/pymor/gui/qt.py:282: ComplexWarning: Casting complex values to real discards the imaginary part\n",
      "  tuple(u.data.astype(np.float64, copy=False) for u in U)\n"
     ]
    }
   ],
   "source": [
    "p = maxwell_problem()\n",
    "diameter = 1./200\n",
    "d, data = discretize_maxwell(p, diameter = diameter)\n",
    "mus = {'c_loc' : 1. / 376.730313 *1./200, 'k': 1e9*2*np.pi, 'mu': 4*np.pi*1e-7, 'eps': 8.854187817e-12}\n",
    "u = d.solve(mus)\n",
    "d.visualize(u)"
   ]
  },
  {
   "cell_type": "code",
   "execution_count": 3,
   "metadata": {},
   "outputs": [],
   "source": [
    "coarse_grid_resolution = 10\n",
    "dof_codim = 1 # codim of grid entities for dofs\n",
    "localization_codim = 2\n",
    "grid = data[\"grid\"]\n",
    "dmask = data['boundary_info'].dirichlet_mask(2)\n",
    "subspaces, subspaces_per_codim = build_subspaces(*partition_any_grid(grid, num_intervals=(coarse_grid_resolution, coarse_grid_resolution), dmask = dmask, codim = dof_codim))\n",
    "spaces = [subspaces[s_id][\"env\"] for s_id in subspaces_per_codim[localization_codim]]\n",
    "localizer = NumpyLocalizer(d.solution_space, subspaces['dofs'])\n",
    "pou = localized_pou(subspaces, subspaces_per_codim, localizer, coarse_grid_resolution, grid, localization_codim, dof_codim)"
   ]
  },
  {
   "cell_type": "code",
   "execution_count": 12,
   "metadata": {},
   "outputs": [
    {
     "name": "stderr",
     "output_type": "stream",
     "text": [
      "/data/home/d_eick05/pymor/src/pymor/gui/qt.py:282: ComplexWarning: Casting complex values to real discards the imaginary part\n",
      "  tuple(u.data.astype(np.float64, copy=False) for u in U)\n"
     ]
    }
   ],
   "source": [
    "xpos = 0\n",
    "ypos = 0\n",
    "\n",
    "s_id = subspaces_per_codim[localization_codim][ypos + xpos*(coarse_grid_resolution-1)]\n",
    "space = subspaces[s_id][\"env\"]\n",
    "lsol = localizer.localize_vector_array(u, space)\n",
    "gsol = localizer.globalize_vector_array(lsol, space)\n",
    "\n",
    "pousol = pou[space](lsol)\n",
    "pougsol = localizer.globalize_vector_array(pousol, space)\n",
    "d.visualize((u, gsol, pougsol))"
   ]
  },
  {
   "cell_type": "code",
   "execution_count": 13,
   "metadata": {},
   "outputs": [],
   "source": [
    "source_space = subspaces[s_id][\"cxenv\"]\n",
    "training_space = subspaces[s_id][\"xenv\"]\n",
    "range_space = subspaces[s_id][\"env\"]\n",
    "omega_space = tuple(sorted(set(subspaces[s_id]['env']) | set(subspaces[s_id]['cenv'])))\n",
    "omega_star_space = tuple(sorted(set(training_space) | set(source_space)))"
   ]
  },
  {
   "cell_type": "code",
   "execution_count": 14,
   "metadata": {},
   "outputs": [
    {
     "name": "stderr",
     "output_type": "stream",
     "text": [
      "/data/home/d_eick05/pymor/src/pymor/gui/qt.py:282: ComplexWarning: Casting complex values to real discards the imaginary part\n",
      "  tuple(u.data.astype(np.float64, copy=False) for u in U)\n"
     ]
    }
   ],
   "source": [
    "U = u*0\n",
    "for i in range(len(spaces)):\n",
    "\tspace = spaces[i]\n",
    "\tlsol = localizer.localize_vector_array(u, space)\n",
    "\tgsol = localizer.globalize_vector_array(lsol, space)\n",
    "\t#d.visualize(gsol)\n",
    "\n",
    "\tpousol = pou[space](lsol)\n",
    "\tpougsol = localizer.globalize_vector_array(pousol, space)\n",
    "\t#d.visualize((u, gsol, pougsol))\n",
    "\tU += pougsol\n",
    "\n",
    "d.visualize(u-U)"
   ]
  },
  {
   "cell_type": "code",
   "execution_count": 15,
   "metadata": {},
   "outputs": [],
   "source": [
    "xmin = max(0,xpos - 1)\n",
    "xsize = min(xpos + 3, coarse_grid_resolution - 2 + 3) - xmin\n",
    "ymin = max(0,ypos - 1)\n",
    "ysize = min(ypos + 3, coarse_grid_resolution - 2 + 3) - ymin\n",
    "mysubgrid = getsubgrid(grid, xmin, ymin, coarse_grid_resolution, xsize=xsize, ysize=ysize)\n",
    "mysubbi = SubGridBoundaryInfo(mysubgrid, grid, data['boundary_info'], BoundaryType('robin'))\n",
    "ld, ldata = discretize_maxwell(p, grid=mysubgrid, boundary_info=mysubbi)\n",
    "lop = ld.operator.assemble(mus)"
   ]
  },
  {
   "cell_type": "code",
   "execution_count": 16,
   "metadata": {},
   "outputs": [],
   "source": [
    "ndofsext = len(ldata['grid'].parent_indices(dof_codim))\n",
    "global_dofnrsext = -100000000* np.ones(shape=(d.solution_space.dim,))\n",
    "global_dofnrsext[ldata['grid'].parent_indices(dof_codim)] = np.array(range(ndofsext))\n",
    "lvecext = localizer.localize_vector_array(NumpyVectorArray(global_dofnrsext), omega_star_space).data[0]"
   ]
  },
  {
   "cell_type": "code",
   "execution_count": 17,
   "metadata": {},
   "outputs": [
    {
     "name": "stderr",
     "output_type": "stream",
     "text": [
      "/data/home/d_eick05/pymor/src/pymor/gui/qt.py:282: ComplexWarning: Casting complex values to real discards the imaginary part\n",
      "  tuple(u.data.astype(np.float64, copy=False) for u in U)\n",
      "/data/home/d_eick05/pymor/src/pymor/gui/qt.py:282: ComplexWarning: Casting complex values to real discards the imaginary part\n",
      "  tuple(u.data.astype(np.float64, copy=False) for u in U)\n"
     ]
    }
   ],
   "source": [
    "bilifo = NumpyMatrixOperator(lop._matrix[:,lvecext][lvecext,:])\n",
    "va = NumpyVectorArray(np.random.normal(size=(1,len(localizer.join_spaces(source_space))))+1j*np.random.normal(size=(1,len(localizer.join_spaces(source_space)))))\n",
    "g = localizer.to_space(NumpyVectorArray(va), source_space, omega_star_space)\n",
    "solution = StationaryDiscretization(bilifo, VectorFunctional(g), cache_region=None).solve()\n",
    "globsol = localizer.globalize_vector_array(solution, omega_star_space)\n",
    "d.visualize(globsol)\n",
    "sol2 = localizer.to_space(solution, omega_star_space, range_space)\n",
    "globsol2 = localizer.globalize_vector_array(sol2, range_space)\n",
    "d.visualize(globsol2)"
   ]
  },
  {
   "cell_type": "code",
   "execution_count": 22,
   "metadata": {},
   "outputs": [
    {
     "name": "stdout",
     "output_type": "stream",
     "text": [
      "21720\n",
      "240400\n",
      "(21720,)\n",
      "21720\n",
      "0\n"
     ]
    }
   ],
   "source": [
    "print ndofsext\n",
    "print len(global_dofnrsext)\n",
    "print lvecext.shape\n",
    "print len(localizer.join_spaces(omega_star_space))\n",
    "print xpos"
   ]
  },
  {
   "cell_type": "code",
   "execution_count": 19,
   "metadata": {},
   "outputs": [
    {
     "name": "stdout",
     "output_type": "stream",
     "text": [
      "240400\n"
     ]
    }
   ],
   "source": []
  },
  {
   "cell_type": "code",
   "execution_count": null,
   "metadata": {},
   "outputs": [],
   "source": []
  }
 ],
 "metadata": {
  "kernelspec": {
   "display_name": "project",
   "language": "python",
   "name": "project"
  },
  "language_info": {
   "codemirror_mode": {
    "name": "ipython",
    "version": 2
   },
   "file_extension": ".py",
   "mimetype": "text/x-python",
   "name": "python",
   "nbconvert_exporter": "python",
   "pygments_lexer": "ipython2",
   "version": "2.7.12"
  }
 },
 "nbformat": 4,
 "nbformat_minor": 2
}
