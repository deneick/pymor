{
 "cells": [
  {
   "cell_type": "code",
   "execution_count": 1,
   "metadata": {},
   "outputs": [
    {
     "name": "stdout",
     "output_type": "stream",
     "text": [
      "Loading pyMOR version 0.4.2-51-ge55b3bf\n"
     ]
    }
   ],
   "source": [
    "from evaluations import *"
   ]
  },
  {
   "cell_type": "code",
   "execution_count": 18,
   "metadata": {},
   "outputs": [
    {
     "name": "stdout",
     "output_type": "stream",
     "text": [
      "localizing problem\n"
     ]
    }
   ],
   "source": [
    "p = maxwell_problem()\n",
    "resolution = 100\n",
    "coarse_grid_resolution = 10\n",
    "\n",
    "mus = {'c_loc' : 0., 'k': 1e9*2*np.pi, 'mu': 4*np.pi*1e-7, 'eps': 8.854187817e-12}\n",
    "gq, lq = localize_problem(p, coarse_grid_resolution, resolution, mus, dof_codim = 1, discretizer = discretize_maxwell)"
   ]
  },
  {
   "cell_type": "code",
   "execution_count": 19,
   "metadata": {},
   "outputs": [
    {
     "name": "stdout",
     "output_type": "stream",
     "text": [
      "creating bases\n",
      "reconstructing solution\n"
     ]
    }
   ],
   "source": [
    "basis = create_bases2(gq, lq, 30, transfer = 'robin', silent = False)\n",
    "ru = reconstruct_solution(gq,lq,basis, silent = False)"
   ]
  },
  {
   "cell_type": "code",
   "execution_count": 20,
   "metadata": {},
   "outputs": [],
   "source": [
    "d = gq[\"d\"]\n",
    "u = d.solve(mus)\n",
    "dif = u-ru"
   ]
  },
  {
   "cell_type": "code",
   "execution_count": 21,
   "metadata": {},
   "outputs": [
    {
     "name": "stdout",
     "output_type": "stream",
     "text": [
      "4.54446252877e-05\n"
     ]
    },
    {
     "name": "stderr",
     "output_type": "stream",
     "text": [
      "/data/home/d_eick05/pymor/src/pymor/gui/qt.py:282: ComplexWarning: Casting complex values to real discards the imaginary part\n",
      "  tuple(u.data.astype(np.float64, copy=False) for u in U)\n"
     ]
    }
   ],
   "source": [
    "dif = u-ru\n",
    "print d.h1_norm(dif)[0]/d.h1_norm(u)[0]\n",
    "d.visualize((dif.real, dif.imag, u.real, u.imag, ru.real, ru.imag), legend = ('dif.real', 'dif.imag', 'u.real', 'u.imag', 'ru.real', 'ru.imag'), separate_colorbars = True)"
   ]
  },
  {
   "cell_type": "code",
   "execution_count": null,
   "metadata": {},
   "outputs": [],
   "source": []
  }
 ],
 "metadata": {
  "kernelspec": {
   "display_name": "project",
   "language": "python",
   "name": "project"
  },
  "language_info": {
   "codemirror_mode": {
    "name": "ipython",
    "version": 2
   },
   "file_extension": ".py",
   "mimetype": "text/x-python",
   "name": "python",
   "nbconvert_exporter": "python",
   "pygments_lexer": "ipython2",
   "version": "2.7.15rc1"
  }
 },
 "nbformat": 4,
 "nbformat_minor": 2
}
