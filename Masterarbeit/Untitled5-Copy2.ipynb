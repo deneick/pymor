{
 "cells": [
  {
   "cell_type": "code",
   "execution_count": 1,
   "metadata": {},
   "outputs": [
    {
     "name": "stdout",
     "output_type": "stream",
     "text": [
      "Loading pyMOR version 0.4.2-116-gadb475af\n"
     ]
    }
   ],
   "source": [
    "from evaluations import *\n",
    "acc =1e-2\n",
    "boundary = 'dirichlet'\n",
    "coarse_grid_resolution = 10\n",
    "p = helmholtz(boundary = boundary)\n"
   ]
  },
  {
   "cell_type": "code",
   "execution_count": 2,
   "metadata": {},
   "outputs": [
    {
     "name": "stdout",
     "output_type": "stream",
     "text": [
      "localizing problem\n"
     ]
    },
    {
     "name": "stderr",
     "output_type": "stream",
     "text": [
      "/usr/lib/python2.7/dist-packages/scipy/sparse/compressed.py:774: SparseEfficiencyWarning: Changing the sparsity structure of a csc_matrix is expensive. lil_matrix is more efficient.\n",
      "  SparseEfficiencyWarning)\n"
     ]
    },
    {
     "name": "stdout",
     "output_type": "stream",
     "text": [
      "calculated_continuity_constant:  0.999983529162\n",
      "calculated_inf_sup_constant:  0.903581779435\n",
      "calculated all lambdas\n"
     ]
    },
    {
     "name": "stderr",
     "output_type": "stream",
     "text": [
      "/home/root_dennis/pymor_MA/src/pymor/operators/constructions.py:1002: RuntimeWarning: invalid value encountered in double_scalars\n",
      "  if (np.linalg.norm(norm_squared.imag)/np.linalg.norm(norm_squared) > 1e-11):\n",
      "/usr/lib/python2.7/dist-packages/scipy/sparse/linalg/eigen/arpack/arpack.py:737: ComplexWarning: Casting complex values to real discards the imaginary part\n",
      "  self.workd[yslice] = self.OP(self.workd[xslice])\n",
      "/usr/lib/python2.7/dist-packages/scipy/sparse/linalg/eigen/arpack/arpack.py:746: ComplexWarning: Casting complex values to real discards the imaginary part\n",
      "  self.workd[yslice] = self.B(self.workd[xslice])\n",
      "/usr/lib/python2.7/dist-packages/scipy/sparse/linalg/eigen/arpack/arpack.py:741: ComplexWarning: Casting complex values to real discards the imaginary part\n",
      "  self.workd[yslice] = self.OP(self.workd[xslice])\n"
     ]
    },
    {
     "name": "stdout",
     "output_type": "stream",
     "text": [
      "calculated csis\n",
      "calculated all Psi_norms\n"
     ]
    },
    {
     "name": "stderr",
     "output_type": "stream",
     "text": [
      "mybmat.py:20: VisibleDeprecationWarning: `rank` is deprecated; use the `ndim` attribute or function instead. To find the rank of a matrix see `numpy.linalg.matrix_rank`.\n",
      "  if np.rank(blocks) != 2:\n"
     ]
    },
    {
     "name": "stdout",
     "output_type": "stream",
     "text": [
      "[  5.41051298e-08]\n",
      "[  8.77003254e-08]\n",
      "localizing problem\n",
      "calculated_continuity_constant:  0.999961432982\n",
      "calculated_inf_sup_constant:  0.663058122179\n",
      "calculated all lambdas\n",
      "calculated csis\n",
      "calculated all Psi_norms\n",
      "[  3.55025757e-08]\n",
      "[  7.51678829e-08]\n",
      "localizing problem\n",
      "calculated_continuity_constant:  0.999924975793\n",
      "calculated_inf_sup_constant:  0.373759856171\n",
      "calculated all lambdas\n",
      "calculated csis\n",
      "calculated all Psi_norms\n",
      "[  2.04173941e-08]\n",
      "[  7.93261762e-08]\n",
      "localizing problem\n",
      "calculated_continuity_constant:  0.999870727946\n",
      "calculated_inf_sup_constant:  0.104718987174\n",
      "calculated all lambdas\n",
      "calculated csis\n",
      "calculated all Psi_norms\n",
      "[  1.08334204e-08]\n",
      "[  1.45483106e-07]\n",
      "localizing problem\n",
      "calculated_continuity_constant:  0.99980297506\n",
      "calculated_inf_sup_constant:  0.11749405492\n",
      "calculated all lambdas\n",
      "calculated csis\n",
      "calculated all Psi_norms\n",
      "[  1.38572205e-08]\n",
      "[  1.74482143e-07]\n",
      "localizing problem\n",
      "calculated_continuity_constant:  0.999717500438\n",
      "calculated_inf_sup_constant:  0.156677500281\n",
      "calculated all lambdas\n",
      "calculated csis\n",
      "calculated all Psi_norms\n",
      "[  1.95452273e-08]\n",
      "[  1.92801560e-07]\n",
      "localizing problem\n",
      "calculated_continuity_constant:  0.999716889334\n",
      "calculated_inf_sup_constant:  0.00375128187577\n",
      "calculated all lambdas\n",
      "calculated csis\n",
      "calculated all Psi_norms\n",
      "[  1.43609940e-08]\n",
      "[  5.79765387e-06]\n",
      "localizing problem\n",
      "calculated_continuity_constant:  0.999633340413\n",
      "calculated_inf_sup_constant:  0.104901538819\n",
      "calculated all lambdas\n",
      "calculated csis\n",
      "calculated all Psi_norms\n",
      "[  2.25160343e-08]\n",
      "[  3.21379567e-07]\n",
      "localizing problem\n",
      "calculated_continuity_constant:  0.999536172169\n",
      "calculated_inf_sup_constant:  0.0124934955074\n",
      "calculated all lambdas\n",
      "calculated csis\n",
      "calculated all Psi_norms\n",
      "[  1.42236958e-08]\n",
      "[  1.65882135e-06]\n"
     ]
    }
   ],
   "source": [
    "dats = []\n",
    "for k in range(1,10):\n",
    "    resolution  = int(np.ceil(float(k*1.5+50)/coarse_grid_resolution)*coarse_grid_resolution)\n",
    "    cglob = -1j*k\n",
    "    cloc0 = 0\n",
    "    cloc1 = 0.02*(5-1j)\n",
    "    cloc2 = 0.0016*(8-1j)\n",
    "    cloc = cloc0+ cloc1*k+cloc2*k**2\n",
    "    mus = {'k': k, 'c_glob': cglob, 'c_loc': cloc}\n",
    "    gq, lq = localize_problem(p, coarse_grid_resolution, resolution, mus = mus, calT = True, calQ = True)\n",
    "    calculate_continuity_constant(gq, lq)\n",
    "    calculate_inf_sup_constant2(gq, lq)\n",
    "    calculate_lambda_min(gq, lq)\n",
    "    calculate_csis(gq,lq)\n",
    "    calculate_Psi_norm(gq,lq)\n",
    "    d = gq[\"d\"]\n",
    "    u = d.solve(mus)\n",
    "    bases = create_bases(gq, lq, num_testvecs=20, transfer = 'robin', target_accuracy = acc, calC = False)\n",
    "    ru = reconstruct_solution(gq,lq,bases)\n",
    "\n",
    "    k_prod = gq[\"k_product\"]\n",
    "    norm = induced_norm(k_prod)\n",
    "    ls = norm(u-ru)\n",
    "    print ls\n",
    "    sum = NumpyVectorArray(u.data*0)\n",
    "    for space in gq[\"spaces\"]:\n",
    "        ldict = lq[space]\n",
    "        basis = bases[space]\n",
    "        M = ldict[\"range_product\"]._matrix\n",
    "        S = ldict[\"source_product\"]._matrix\n",
    "        M_sparse = scipy.sparse.csr_matrix(M)\n",
    "        T = ldict[\"transfer_matrix_robin\"]\n",
    "        B = basis._array.T\n",
    "        range_space = ldict[\"range_space\"]\n",
    "        localizer = gq[\"localizer\"]\n",
    "        pou = gq[\"pou\"]\n",
    "        u_loc = pou[range_space](localizer.localize_vector_array(u, range_space))\n",
    "        u_s = ldict[\"local_solution_robin\"]\n",
    "        u_dif = u_loc-u_s\n",
    "        term = u_dif.data.T - B.dot(B.conj().T).dot(M_sparse.dot(u_dif.data.T))\n",
    "        u_i = localizer.globalize_vector_array(NumpyVectorArray(term.T), range_space)\n",
    "        sum += u_i\n",
    "    rs1 = gq[\"continuity_constant\"]/gq[\"inf_sup_constant\"]* norm(sum)\n",
    "    print rs1\n",
    "    dats.append(rs1/norm(u))"
   ]
  },
  {
   "cell_type": "code",
   "execution_count": 3,
   "metadata": {},
   "outputs": [
    {
     "data": {
      "image/png": "[encoded data removed]",
      "text/plain": [
       "<matplotlib.figure.Figure at 0x7effa9e5ffd0>"
      ]
     },
     "metadata": {
      "needs_background": "light"
     },
     "output_type": "display_data"
    }
   ],
   "source": [
    "%matplotlib inline\n",
    "from matplotlib import pyplot as plt\n",
    "plt.figure()\n",
    "plt.semilogy(range(1,10), dats, label = \"1\")\n",
    "plt.legend(loc='upper right')\n",
    "plt.xlabel('k')\n",
    "plt.show()"
   ]
  },
  {
   "cell_type": "code",
   "execution_count": 4,
   "metadata": {},
   "outputs": [
    {
     "data": {
      "text/plain": [
       "array([  7.00771155e-06,   5.69308003e-06,   5.32506502e-06,\n",
       "         5.84033008e-06,   7.23300189e-06,   6.96378547e-06,\n",
       "         7.02901186e-06,   7.37327592e-06,   6.95685677e-06])"
      ]
     },
     "execution_count": 4,
     "metadata": {},
     "output_type": "execute_result"
    }
   ],
   "source": [
    "np.array(dats).T[0]"
   ]
  },
  {
   "cell_type": "code",
   "execution_count": 35,
   "metadata": {},
   "outputs": [
    {
     "name": "stdout",
     "output_type": "stream",
     "text": [
      "[  1.81873062e-08]\n"
     ]
    }
   ],
   "source": [
    "d = gq[\"d\"]\n",
    "u = d.solve(mus)\n",
    "bases = create_bases(gq, lq, num_testvecs=20, transfer = 'robin', target_accuracy = acc, calC = False)\n",
    "ru = reconstruct_solution(gq,lq,bases)\n",
    "\n",
    "k_prod = gq[\"k_product\"]\n",
    "norm = induced_norm(k_prod)\n",
    "ls = norm(u-ru)\n",
    "print ls"
   ]
  },
  {
   "cell_type": "code",
   "execution_count": 36,
   "metadata": {},
   "outputs": [
    {
     "name": "stdout",
     "output_type": "stream",
     "text": [
      "[  2.58244026e-07]\n",
      "[ 14.19913554]\n"
     ]
    }
   ],
   "source": [
    "sum = NumpyVectorArray(u.data*0)\n",
    "for space in gq[\"spaces\"]:\n",
    "\tldict = lq[space]\n",
    "\tbasis = bases[space]\n",
    "\tM = ldict[\"range_product\"]._matrix\n",
    "\tS = ldict[\"source_product\"]._matrix\n",
    "\tM_sparse = scipy.sparse.csr_matrix(M)\n",
    "\tT = ldict[\"transfer_matrix_robin\"]\n",
    "\tB = basis._array.T\n",
    "\trange_space = ldict[\"range_space\"]\n",
    "\tlocalizer = gq[\"localizer\"]\n",
    "\tpou = gq[\"pou\"]\n",
    "\tu_loc = pou[range_space](localizer.localize_vector_array(u, range_space))\n",
    "\tu_s = ldict[\"local_solution_robin\"]\n",
    "\tu_dif = u_loc-u_s\n",
    "\tterm = u_dif.data.T - B.dot(B.conj().T).dot(M_sparse.dot(u_dif.data.T))\n",
    "\tu_i = localizer.globalize_vector_array(NumpyVectorArray(term.T), range_space)\n",
    "\tsum += u_i\n",
    "rs1 = gq[\"continuity_constant\"]/gq[\"inf_sup_constant\"]* norm(sum)\n",
    "print rs1\n",
    "print rs1/ls"
   ]
  },
  {
   "cell_type": "code",
   "execution_count": 37,
   "metadata": {},
   "outputs": [
    {
     "name": "stdout",
     "output_type": "stream",
     "text": [
      "[  1.85447686e-06]\n",
      "[ 7.18110266]\n"
     ]
    }
   ],
   "source": [
    "sum = 0\n",
    "for space in gq[\"spaces\"]:\n",
    "\tldict = lq[space]\n",
    "\tbasis = bases[space]\n",
    "\tM = ldict[\"range_product\"]._matrix\n",
    "\tS = ldict[\"source_product\"]._matrix\n",
    "\tM_sparse = scipy.sparse.csr_matrix(M)\n",
    "\tT = ldict[\"transfer_matrix_robin\"]\n",
    "\tB = basis._array.T\n",
    "\trange_space = ldict[\"range_space\"]\n",
    "\tlocalizer = gq[\"localizer\"]\n",
    "\tpou = gq[\"pou\"]\n",
    "\tu_loc = pou[range_space](localizer.localize_vector_array(u, range_space))\n",
    "\tu_s = ldict[\"local_solution_robin\"]\n",
    "\tu_dif = u_loc-u_s\n",
    "\tterm = u_dif.data.T - B.dot(B.conj().T).dot(M_sparse.dot(u_dif.data.T))\n",
    "\tu_i = NumpyVectorArray(term.T)\n",
    "\tlocal_norm = induced_norm(ldict[\"range_product\"])\n",
    "\tsum += local_norm(u_i)\n",
    "rs2 = gq[\"continuity_constant\"]/gq[\"inf_sup_constant\"]* sum\n",
    "print rs2\n",
    "print rs2/rs1"
   ]
  },
  {
   "cell_type": "code",
   "execution_count": 38,
   "metadata": {},
   "outputs": [
    {
     "name": "stdout",
     "output_type": "stream",
     "text": [
      "[  6.68626179e-06]\n",
      "[ 3.60547059]\n"
     ]
    }
   ],
   "source": [
    "sum = 0\n",
    "for space in gq[\"spaces\"]:\n",
    "\tldict = lq[space]\n",
    "\tbasis = bases[space]\n",
    "\tM = ldict[\"range_product\"]._matrix\n",
    "\tS = ldict[\"source_product\"]._matrix\n",
    "\tM_sparse = scipy.sparse.csr_matrix(M)\n",
    "\tT = ldict[\"transfer_matrix_robin\"]\n",
    "\tB = basis._array.T\n",
    "\trange_space = ldict[\"range_space\"]\n",
    "\tomega_star_space = ldict[\"omega_star_space\"]\n",
    "\tlocalizer = gq[\"localizer\"]\n",
    "\tpou = gq[\"pou\"]\n",
    "\tu_loc = localizer.localize_vector_array(u, omega_star_space)\n",
    "\tu_s = ldict[\"local_sol2\"]\n",
    "\tu_dif = u_loc-u_s\n",
    "\tu_i = u_dif\n",
    "\tT1 = T - B.dot(B.conj().T).dot(M_sparse.dot(T))\n",
    "\tmaxval = operator_svd2(T1, S, M_sparse)[0][0]\n",
    "\tlocal_norm = induced_norm(ldict[\"omega_star_product\"])\n",
    "\tsum += maxval*ldict[\"Psi_norm\"]*local_norm(u_i)\n",
    "rs3 = gq[\"continuity_constant\"]/gq[\"inf_sup_constant\"]* sum\n",
    "print rs3\n",
    "print rs3/rs2"
   ]
  },
  {
   "cell_type": "code",
   "execution_count": 39,
   "metadata": {},
   "outputs": [
    {
     "name": "stdout",
     "output_type": "stream",
     "text": [
      "[  8.34020713e-06]\n",
      "[ 1.24736473]\n"
     ]
    }
   ],
   "source": [
    "sum = 0\n",
    "for space in gq[\"spaces\"]:\n",
    "\tldict = lq[space]\n",
    "\tbasis = bases[space]\n",
    "\tM = ldict[\"range_product\"]._matrix\n",
    "\tS = ldict[\"source_product\"]._matrix\n",
    "\tM_sparse = scipy.sparse.csr_matrix(M)\n",
    "\tT = ldict[\"transfer_matrix_robin\"]\n",
    "\tB = basis._array.T\n",
    "\trange_space = ldict[\"range_space\"]\n",
    "\tomega_star_space = ldict[\"omega_star_space\"]\n",
    "\tlocalizer = gq[\"localizer\"]\n",
    "\tpou = gq[\"pou\"]\n",
    "\tu_loc = localizer.localize_vector_array(u, omega_star_space)\n",
    "\tT1 = T - B.dot(B.conj().T).dot(M_sparse.dot(T))\n",
    "\tmaxval = operator_svd2(T1, S, M_sparse)[0][0]\n",
    "\tlocal_norm = induced_norm(ldict[\"omega_star_product\"])\n",
    "\tsum += maxval*ldict[\"Psi_norm\"]*local_norm(u_loc)*ldict[\"csi\"]\n",
    "rs4 = gq[\"continuity_constant\"]/gq[\"inf_sup_constant\"]* sum\n",
    "print rs4\n",
    "print rs4/rs3"
   ]
  },
  {
   "cell_type": "code",
   "execution_count": 40,
   "metadata": {},
   "outputs": [
    {
     "name": "stdout",
     "output_type": "stream",
     "text": [
      "[  9.28293027e-06]\n",
      "[ 1.11303354]\n"
     ]
    }
   ],
   "source": [
    "sum1 = 0\n",
    "sum2 = 0\n",
    "for space in gq[\"spaces\"]:\n",
    "\tldict = lq[space]\n",
    "\tbasis = bases[space]\n",
    "\tM = ldict[\"range_product\"]._matrix\n",
    "\tS = ldict[\"source_product\"]._matrix\n",
    "\tM_sparse = scipy.sparse.csr_matrix(M)\n",
    "\tT = ldict[\"transfer_matrix_robin\"]\n",
    "\tB = basis._array.T\n",
    "\trange_space = ldict[\"range_space\"]\n",
    "\tomega_star_space = ldict[\"omega_star_space\"]\n",
    "\tlocalizer = gq[\"localizer\"]\n",
    "\tpou = gq[\"pou\"]\n",
    "\tu_loc = localizer.localize_vector_array(u, omega_star_space)\n",
    "\tT1 = T - B.dot(B.conj().T).dot(M_sparse.dot(T))\n",
    "\tmaxval = operator_svd2(T1, S, M_sparse)[0][0]\n",
    "\tlocal_norm = induced_norm(ldict[\"omega_star_product\"])\n",
    "\tsum1 += maxval**2*ldict[\"Psi_norm\"]**2*ldict[\"csi\"]**2\n",
    "\tsum2 += local_norm(u_loc)**2\n",
    "rs5 = gq[\"continuity_constant\"]/gq[\"inf_sup_constant\"]* np.sqrt(sum1) * np.sqrt(sum2)\n",
    "print rs5\n",
    "print rs5/rs4"
   ]
  },
  {
   "cell_type": "code",
   "execution_count": 41,
   "metadata": {},
   "outputs": [
    {
     "name": "stdout",
     "output_type": "stream",
     "text": [
      "[  1.10224111e-05]\n",
      "[ 1.18738488]\n"
     ]
    }
   ],
   "source": [
    "sum = 0\n",
    "for space in gq[\"spaces\"]:\n",
    "\tldict = lq[space]\n",
    "\tbasis = bases[space]\n",
    "\tM = ldict[\"range_product\"]._matrix\n",
    "\tS = ldict[\"source_product\"]._matrix\n",
    "\tM_sparse = scipy.sparse.csr_matrix(M)\n",
    "\tT = ldict[\"transfer_matrix_robin\"]\n",
    "\tB = basis._array.T\n",
    "\trange_space = ldict[\"range_space\"]\n",
    "\tomega_star_space = ldict[\"omega_star_space\"]\n",
    "\tlocalizer = gq[\"localizer\"]\n",
    "\tpou = gq[\"pou\"]\n",
    "\tu_loc = localizer.localize_vector_array(u, omega_star_space)\n",
    "\tT1 = T - B.dot(B.conj().T).dot(M_sparse.dot(T))\n",
    "\tmaxval = operator_svd2(T1, S, M_sparse)[0][0]\n",
    "\tsum += maxval**2*ldict[\"Psi_norm\"]**2*ldict[\"csi\"]**2\n",
    "rs6 = gq[\"continuity_constant\"]/gq[\"inf_sup_constant\"]* np.sqrt(sum) *4* norm(u)\n",
    "print rs6\n",
    "print rs6/rs5"
   ]
  },
  {
   "cell_type": "code",
   "execution_count": 42,
   "metadata": {},
   "outputs": [
    {
     "name": "stdout",
     "output_type": "stream",
     "text": [
      "[ 2.78250823]\n"
     ]
    }
   ],
   "source": [
    "print np.log10(rs6/ls)"
   ]
  },
  {
   "cell_type": "code",
   "execution_count": 43,
   "metadata": {},
   "outputs": [
    {
     "name": "stdout",
     "output_type": "stream",
     "text": [
      "[ 5.74023162]\n"
     ]
    }
   ],
   "source": [
    "print np.log10(acc/ls)"
   ]
  },
  {
   "cell_type": "code",
   "execution_count": 44,
   "metadata": {},
   "outputs": [
    {
     "name": "stdout",
     "output_type": "stream",
     "text": [
      "[ 2.9577234]\n"
     ]
    }
   ],
   "source": [
    "print np.log10(acc/rs6)"
   ]
  },
  {
   "cell_type": "code",
   "execution_count": 45,
   "metadata": {},
   "outputs": [
    {
     "name": "stdout",
     "output_type": "stream",
     "text": [
      "[  5.66591192e-07]\n"
     ]
    }
   ],
   "source": [
    "print ls/norm(u)"
   ]
  },
  {
   "cell_type": "code",
   "execution_count": 46,
   "metadata": {},
   "outputs": [
    {
     "name": "stdout",
     "output_type": "stream",
     "text": [
      "[ 29.12205085]\n"
     ]
    }
   ],
   "source": [
    "print acc/(rs6/norm(u))"
   ]
  },
  {
   "cell_type": "code",
   "execution_count": 47,
   "metadata": {},
   "outputs": [
    {
     "data": {
      "text/plain": [
       "4173.0914359008"
      ]
     },
     "execution_count": 47,
     "metadata": {},
     "output_type": "execute_result"
    }
   ],
   "source": [
    "1.2*1.09*1.23*3.8*7.56*90.29"
   ]
  },
  {
   "cell_type": "code",
   "execution_count": 48,
   "metadata": {},
   "outputs": [
    {
     "name": "stdout",
     "output_type": "stream",
     "text": [
      "[ 606.04967834]\n"
     ]
    }
   ],
   "source": [
    "print rs6/ls"
   ]
  },
  {
   "cell_type": "code",
   "execution_count": null,
   "metadata": {},
   "outputs": [],
   "source": []
  },
  {
   "cell_type": "code",
   "execution_count": 58,
   "metadata": {},
   "outputs": [
    {
     "name": "stdout",
     "output_type": "stream",
     "text": [
      "localizing problem\n",
      "calculated_continuity_constant:  1.79186818672\n",
      "calculated_inf_sup_constant:  0.227325649277\n",
      "calculated all lambdas\n",
      "calculated csis\n",
      "calculated all Psi_norms\n",
      "6.31383629446e-07\n",
      "0.000345952747938\n"
     ]
    }
   ],
   "source": [
    "acc=1e-2\n",
    "boundary = 'robin'\n",
    "k=6.\n",
    "cloc0 = 0\n",
    "cloc1 = 0.02*(5-1j)\n",
    "cloc2 = 0.0016*(8-1j)\n",
    "p = helmholtz(boundary = boundary)\n",
    "cglob = -1j*k\n",
    "mus = {'k': k, 'c_glob': cglob, 'c_loc': cloc}\n",
    "resolution  = int(np.ceil(float(k*1.5+50)/coarse_grid_resolution)*coarse_grid_resolution)\n",
    "gq, lq = localize_problem(p, coarse_grid_resolution, resolution, mus = mus, calT = True, calQ = True)\n",
    "calculate_continuity_constant(gq, lq)\n",
    "calculate_inf_sup_constant2(gq, lq)\t\n",
    "calculate_lambda_min(gq, lq)\n",
    "calculate_csis(gq,lq)\t\n",
    "calculate_Psi_norm(gq,lq)\n",
    "d = gq[\"d\"]\n",
    "u = d.solve(mus)\n",
    "bases = create_bases(gq, lq, num_testvecs=20, transfer = 'robin', target_accuracy = acc, calC = False)\n",
    "rssum2 = 0\n",
    "for space in gq[\"spaces\"]:\n",
    "    ldict = lq[space]\n",
    "    basis = bases[space]\n",
    "    M = ldict[\"range_product\"]._matrix\n",
    "    S = ldict[\"source_product\"]._matrix\n",
    "    M_sparse = scipy.sparse.csr_matrix(M)\n",
    "    T = ldict[\"transfer_matrix_robin\"]\n",
    "    B = basis._array.T\n",
    "    T1 = T - B.dot(B.conj().T).dot(M_sparse.dot(T))\n",
    "    maxval = operator_svd2(T1, S, M_sparse)[0][0]\n",
    "    rssum2 += maxval**2*ldict[\"csi\"]**2*ldict[\"Psi_norm\"]**2\n",
    "ru = reconstruct_solution(gq,lq,bases)\n",
    "print gq[\"full_norm\"](u-ru)[0]/gq[\"full_norm\"](u)[0]\n",
    "print (gq[\"continuity_constant\"]/gq[\"inf_sup_constant\"])*4*np.sqrt(rssum2)"
   ]
  },
  {
   "cell_type": "code",
   "execution_count": 69,
   "metadata": {},
   "outputs": [
    {
     "ename": "ImportError",
     "evalue": "No module named psutil",
     "output_type": "error",
     "traceback": [
      "\u001b[0;31m---------------------------------------------------------------------------\u001b[0m",
      "\u001b[0;31mImportError\u001b[0m                               Traceback (most recent call last)",
      "\u001b[0;32m<ipython-input-69-05bfc92c9405>\u001b[0m in \u001b[0;36m<module>\u001b[0;34m()\u001b[0m\n\u001b[0;32m----> 1\u001b[0;31m \u001b[0;32mimport\u001b[0m \u001b[0mpsutil\u001b[0m\u001b[0;34m\u001b[0m\u001b[0m\n\u001b[0m\u001b[1;32m      2\u001b[0m \u001b[0;32mprint\u001b[0m\u001b[0;34m(\u001b[0m\u001b[0mpsutil\u001b[0m\u001b[0;34m.\u001b[0m\u001b[0mvirtual_memory\u001b[0m\u001b[0;34m(\u001b[0m\u001b[0;34m)\u001b[0m\u001b[0;34m)\u001b[0m\u001b[0;34m\u001b[0m\u001b[0m\n",
      "\u001b[0;31mImportError\u001b[0m: No module named psutil"
     ]
    }
   ],
   "source": [
    "import psutil\n",
    "print(psutil.virtual_memory())"
   ]
  },
  {
   "cell_type": "code",
   "execution_count": 2,
   "metadata": {},
   "outputs": [],
   "source": [
    "space = gq[\"spaces\"][14]\n",
    "l = gq[\"localizer\"]\n",
    "ldict = lq[space]\n",
    "H1om = ldict[\"omega_star_product\"]._matrix\n",
    "MS = ldict[\"source_product\"]._matrix\n",
    "\n",
    "Q = ldict[\"solution_matrix_robin\"]\n",
    "M = Q.T.conj().dot(H1om.dot(Q))"
   ]
  },
  {
   "cell_type": "code",
   "execution_count": 16,
   "metadata": {},
   "outputs": [
    {
     "data": {
      "text/plain": [
       "(73, 73)"
      ]
     },
     "execution_count": 16,
     "metadata": {},
     "output_type": "execute_result"
    }
   ],
   "source": [
    "np.linalg.inv(M).dot(MS.todense()).shape"
   ]
  },
  {
   "cell_type": "code",
   "execution_count": 28,
   "metadata": {},
   "outputs": [
    {
     "data": {
      "text/plain": [
       "0.019102821375077156"
      ]
     },
     "execution_count": 28,
     "metadata": {},
     "output_type": "execute_result"
    }
   ],
   "source": [
    "sp.eigs(MS, M=M)[0][0].real"
   ]
  },
  {
   "cell_type": "code",
   "execution_count": 22,
   "metadata": {},
   "outputs": [
    {
     "data": {
      "text/plain": [
       "0.019102821375441906"
      ]
     },
     "execution_count": 22,
     "metadata": {},
     "output_type": "execute_result"
    }
   ],
   "source": [
    "eigvals = np.linalg.eigvals(np.linalg.inv(M).dot(MS.todense()))\n",
    "eigvals[::-1].sort()\n",
    "eigvals[0].real"
   ]
  },
  {
   "cell_type": "code",
   "execution_count": 35,
   "metadata": {},
   "outputs": [
    {
     "data": {
      "text/plain": [
       "<73x73 sparse matrix of type '<type 'numpy.float64'>'\n",
       "\twith 217 stored elements in Compressed Sparse Column format>"
      ]
     },
     "execution_count": 35,
     "metadata": {},
     "output_type": "execute_result"
    }
   ],
   "source": [
    "MS"
   ]
  },
  {
   "cell_type": "code",
   "execution_count": null,
   "metadata": {},
   "outputs": [],
   "source": []
  },
  {
   "cell_type": "code",
   "execution_count": null,
   "metadata": {},
   "outputs": [],
   "source": []
  },
  {
   "cell_type": "code",
   "execution_count": null,
   "metadata": {},
   "outputs": [],
   "source": []
  },
  {
   "cell_type": "code",
   "execution_count": null,
   "metadata": {},
   "outputs": [],
   "source": []
  },
  {
   "cell_type": "code",
   "execution_count": 6,
   "metadata": {},
   "outputs": [
    {
     "name": "stdout",
     "output_type": "stream",
     "text": [
      "localizing problem\n",
      "calculated_continuity_constant:  0.999983562931\n",
      "calculated_inf_sup_constant:  0.903581779435\n",
      "calculated all lambdas\n",
      "calculated csis\n",
      "calculated all Psi_norms\n",
      "[  4.14761570e-08]\n",
      "[  6.25668535e-08]\n",
      "[  4.68437240e-08]\n",
      "localizing problem\n",
      "calculated_continuity_constant:  0.999964703696\n",
      "calculated_inf_sup_constant:  0.663058122179\n",
      "calculated all lambdas\n",
      "calculated csis\n",
      "calculated all Psi_norms\n",
      "[  3.34107865e-08]\n",
      "[  4.98841567e-08]\n",
      "[  3.70423877e-08]\n",
      "localizing problem\n",
      "calculated_continuity_constant:  0.999925259238\n",
      "calculated_inf_sup_constant:  0.373759856171\n",
      "calculated all lambdas\n",
      "calculated csis\n",
      "calculated all Psi_norms\n",
      "[  2.64717378e-08]\n",
      "[  3.66419123e-08]\n",
      "[  2.53350789e-08]\n",
      "localizing problem\n",
      "calculated_continuity_constant:  0.99987130712\n",
      "calculated_inf_sup_constant:  0.104718987174\n",
      "calculated all lambdas\n",
      "calculated csis\n",
      "calculated all Psi_norms\n",
      "[  9.55629319e-09]\n",
      "[  1.42528707e-08]\n",
      "[  1.05747270e-08]\n",
      "localizing problem\n",
      "calculated_continuity_constant:  0.99980225774\n",
      "calculated_inf_sup_constant:  0.11749405492\n",
      "calculated all lambdas\n",
      "calculated csis\n",
      "calculated all Psi_norms\n",
      "[  1.10787656e-08]\n",
      "[  1.63797792e-08]\n",
      "[  1.20650340e-08]\n",
      "localizing problem\n",
      "calculated_continuity_constant:  0.999718038944\n",
      "calculated_inf_sup_constant:  0.156677500281\n",
      "calculated all lambdas\n",
      "calculated csis\n",
      "calculated all Psi_norms\n",
      "[  1.87065803e-08]\n",
      "[  2.98932541e-08]\n",
      "[  2.33172098e-08]\n",
      "localizing problem\n",
      "calculated_continuity_constant:  0.999717253788\n",
      "calculated_inf_sup_constant:  0.00375128187577\n",
      "calculated all lambdas\n",
      "calculated csis\n",
      "calculated all Psi_norms\n",
      "[  1.42216627e-08]\n",
      "[  2.15327961e-08]\n",
      "[  1.61698813e-08]\n",
      "localizing problem\n",
      "calculated_continuity_constant:  0.99963260406\n",
      "calculated_inf_sup_constant:  0.104901538819\n",
      "calculated all lambdas\n",
      "calculated csis\n",
      "calculated all Psi_norms\n",
      "[  2.17703153e-08]\n",
      "[  3.30674721e-08]\n",
      "[  2.48927958e-08]\n",
      "localizing problem\n",
      "calculated_continuity_constant:  0.99953597931\n",
      "calculated_inf_sup_constant:  0.0124934955074\n",
      "calculated all lambdas\n",
      "calculated csis\n",
      "calculated all Psi_norms\n",
      "[  1.44635655e-08]\n",
      "[  2.15153184e-08]\n",
      "[  1.59323187e-08]\n"
     ]
    }
   ],
   "source": [
    "dats1 = []\n",
    "dats2 = []\n",
    "dats3 = []\n",
    "for k in range(1,10):\n",
    "    resolution  = int(np.ceil(float(k*1.5+50)/coarse_grid_resolution)*coarse_grid_resolution)\n",
    "    cglob = -1j*k\n",
    "    cloc0 = 0\n",
    "    cloc1 = 0.02*(5-1j)\n",
    "    cloc2 = 0.0016*(8-1j)\n",
    "    cloc = cloc0+ cloc1*k+cloc2*k**2\n",
    "    mus = {'k': k, 'c_glob': cglob, 'c_loc': cloc}\n",
    "    gq, lq = localize_problem(p, coarse_grid_resolution, resolution, mus = mus, calT = True, calQ = True)\n",
    "    calculate_continuity_constant(gq, lq)\n",
    "    calculate_inf_sup_constant2(gq, lq)\n",
    "    calculate_lambda_min(gq, lq)\n",
    "    calculate_csis(gq,lq)\n",
    "    calculate_Psi_norm(gq,lq)\n",
    "    d = gq[\"d\"]\n",
    "    u = d.solve(mus)\n",
    "    bases = create_bases(gq, lq, num_testvecs=20, transfer = 'robin', target_accuracy = acc, calC = False)\n",
    "    ru = reconstruct_solution(gq,lq,bases)\n",
    "\n",
    "    k_prod = gq[\"k_product\"]\n",
    "    norm = induced_norm(k_prod)\n",
    "    ls = norm(u-ru)\n",
    "    print ls\n",
    "    u_c = NumpyVectorArray(u.data*0)\n",
    "    for space in gq[\"spaces\"]:\n",
    "        ldict = lq[space]\n",
    "        basis = bases[space]\n",
    "        M = ldict[\"range_product\"]._matrix\n",
    "        S = ldict[\"source_product\"]._matrix\n",
    "        M_sparse = scipy.sparse.csr_matrix(M)\n",
    "        T = ldict[\"transfer_matrix_robin\"]\n",
    "        B = basis._array.T\n",
    "        range_space = ldict[\"range_space\"]\n",
    "        localizer = gq[\"localizer\"]\n",
    "        pou = gq[\"pou\"]\n",
    "        u_loc = pou[range_space](localizer.localize_vector_array(u, range_space))\n",
    "        u_s = ldict[\"local_solution_robin\"]\n",
    "        u_dif = u_loc-u_s\n",
    "        term = B.dot(B.conj().T).dot(M_sparse.dot(u_dif.data.T))+u_s.data.T\n",
    "        u_i = localizer.globalize_vector_array(NumpyVectorArray(term.T), range_space)\n",
    "        u_c += u_i\n",
    "    rs1 = norm(u-u_c)\n",
    "    rs2 = norm(u_c-ru)\n",
    "    us = norm(u)\n",
    "    print rs1\n",
    "    print rs2\n",
    "    dats1.append(rs1)\n",
    "    dats2.append(rs2)\n",
    "    dats3.append(us)"
   ]
  },
  {
   "cell_type": "code",
   "execution_count": 13,
   "metadata": {},
   "outputs": [
    {
     "name": "stdout",
     "output_type": "stream",
     "text": [
      "localizing problem\n",
      "calculated_continuity_constant:  0.995893717787\n",
      "calculated_inf_sup_constant:  0.00305818914726\n",
      "calculated all lambdas\n",
      "calculated csis\n",
      "calculated all Psi_norms\n",
      "[  5.81959933e-10]\n"
     ]
    }
   ],
   "source": [
    "k=50.\n",
    "resolution  = int(np.ceil(float(k*1.5+50)/coarse_grid_resolution)*coarse_grid_resolution)\n",
    "cglob = -1j*k\n",
    "cloc0 = 0\n",
    "cloc1 = 0.02*(5-1j)\n",
    "cloc2 = 0.0016*(8-1j)\n",
    "cloc = cloc0+ cloc1*k+cloc2*k**2\n",
    "mus = {'k': k, 'c_glob': cglob, 'c_loc': cloc}\n",
    "gq, lq = localize_problem(p, coarse_grid_resolution, resolution, mus = mus, calT = True, calQ = True)\n",
    "calculate_continuity_constant(gq, lq)\n",
    "calculate_inf_sup_constant2(gq, lq)\n",
    "calculate_lambda_min(gq, lq)\n",
    "calculate_csis(gq,lq)\n",
    "calculate_Psi_norm(gq,lq)\n",
    "d = gq[\"d\"]\n",
    "u = d.solve(mus)\n",
    "bases = create_bases(gq, lq, num_testvecs=20, transfer = 'robin', target_accuracy = acc, calC = False)\n",
    "ru = reconstruct_solution(gq,lq,bases)\n",
    "\n",
    "k_prod = gq[\"k_product\"]\n",
    "norm = induced_norm(k_prod)\n",
    "ls = norm(u-ru)\n",
    "print ls\n",
    "u_c = NumpyVectorArray(u.data*0)\n",
    "for space in gq[\"spaces\"]:\n",
    "    ldict = lq[space]\n",
    "    basis = bases[space]\n",
    "    M = ldict[\"range_product\"]._matrix\n",
    "    S = ldict[\"source_product\"]._matrix\n",
    "    M_sparse = scipy.sparse.csr_matrix(M)\n",
    "    T = ldict[\"transfer_matrix_robin\"]\n",
    "    B = basis._array.T\n",
    "    range_space = ldict[\"range_space\"]\n",
    "    localizer = gq[\"localizer\"]\n",
    "    pou = gq[\"pou\"]\n",
    "    u_loc = pou[range_space](localizer.localize_vector_array(u, range_space))\n",
    "    u_s = ldict[\"local_solution_robin\"]\n",
    "    u_dif = u_loc-u_s\n",
    "    term = B.dot(B.conj().T).dot(M_sparse.dot(u_dif.data.T))+u_s.data.T\n",
    "    u_i = localizer.globalize_vector_array(NumpyVectorArray(term.T), range_space)\n",
    "    u_c += u_i\n",
    "rs1 = norm(u-u_c)\n",
    "rs2 = norm(u_c-ru)\n"
   ]
  },
  {
   "cell_type": "code",
   "execution_count": 14,
   "metadata": {},
   "outputs": [
    {
     "name": "stderr",
     "output_type": "stream",
     "text": [
      "/home/root_dennis/pymor_MA/src/pymor/gui/qt.py:282: ComplexWarning: Casting complex values to real discards the imaginary part\n",
      "  tuple(u.data.astype(np.float64, copy=False) for u in U)\n"
     ]
    }
   ],
   "source": [
    "d.visualize((u,ru,u_c, u-u_c,u_c-ru), separate_colorbars = True)"
   ]
  },
  {
   "cell_type": "code",
   "execution_count": 15,
   "metadata": {},
   "outputs": [
    {
     "data": {
      "text/plain": [
       "array([  5.81959933e-10])"
      ]
     },
     "execution_count": 15,
     "metadata": {},
     "output_type": "execute_result"
    }
   ],
   "source": [
    "norm(u-ru)"
   ]
  },
  {
   "cell_type": "code",
   "execution_count": 16,
   "metadata": {},
   "outputs": [
    {
     "data": {
      "text/plain": [
       "array([  6.69614884e-10])"
      ]
     },
     "execution_count": 16,
     "metadata": {},
     "output_type": "execute_result"
    }
   ],
   "source": [
    "norm(u-u_c)"
   ]
  },
  {
   "cell_type": "code",
   "execution_count": 17,
   "metadata": {},
   "outputs": [
    {
     "data": {
      "text/plain": [
       "array([  6.00045832e-10])"
      ]
     },
     "execution_count": 17,
     "metadata": {},
     "output_type": "execute_result"
    }
   ],
   "source": [
    "norm(u_c-ru)"
   ]
  },
  {
   "cell_type": "code",
   "execution_count": null,
   "metadata": {},
   "outputs": [],
   "source": []
  }
 ],
 "metadata": {
  "kernelspec": {
   "display_name": "project",
   "language": "python",
   "name": "project"
  },
  "language_info": {
   "codemirror_mode": {
    "name": "ipython",
    "version": 2
   },
   "file_extension": ".py",
   "mimetype": "text/x-python",
   "name": "python",
   "nbconvert_exporter": "python",
   "pygments_lexer": "ipython2",
   "version": "2.7.15rc1"
  }
 },
 "nbformat": 4,
 "nbformat_minor": 2
}
