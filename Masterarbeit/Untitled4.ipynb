{
 "cells": [
  {
   "cell_type": "code",
   "execution_count": 1,
   "metadata": {},
   "outputs": [
    {
     "name": "stdout",
     "output_type": "stream",
     "text": [
      "Loading pyMOR version 0.4.2-116-gadb475af\n",
      "localizing problem\n"
     ]
    }
   ],
   "source": [
    "from evaluations import *\n",
    "\n",
    "p = helmholtz(boundary = 'robin')\n",
    "k=10\n",
    "resolution = 100\n",
    "coarse_grid_resolution = 10\n",
    "mus = {'k': k, 'c_glob': -1j*k, 'c_loc': 1}\n",
    "gq, lq = localize_problem(p, coarse_grid_resolution, resolution, mus = mus, calQ = True)\n",
    "d = gq[\"d\"]\n",
    "u = d.solve(mus)"
   ]
  },
  {
   "cell_type": "code",
   "execution_count": 2,
   "metadata": {},
   "outputs": [],
   "source": [
    "#space = gq[\"spaces\"][15]\n",
    "\n",
    "dof_codim = 2\n",
    "localization_codim = 2\n",
    "data = gq[\"data\"]\n",
    "grid = data[\"grid\"]\n",
    "localizer = gq[\"localizer\"]\n",
    "pou = gq[\"pou\"]"
   ]
  },
  {
   "cell_type": "code",
   "execution_count": 3,
   "metadata": {},
   "outputs": [],
   "source": [
    "xpos = 5\n",
    "ypos = 5\n",
    "s_id = gq[\"subspaces_per_codim\"][localization_codim][ypos + xpos*(coarse_grid_resolution-1)]\n",
    "space = gq[\"subspaces\"][s_id][\"env\"]\n",
    "\n",
    "ldict = lq[space]\n",
    "range_space = ldict[\"range_space\"]\n",
    "omega_star_space = ldict[\"omega_star_space\"]\n",
    "source_space = ldict[\"source_space\"]\n",
    "\n",
    "#subgrid\n",
    "xmin = max(0,xpos - 1)\n",
    "xsize = min(xpos + 3, coarse_grid_resolution - 2 + 3) - xmin\n",
    "ymin = max(0,ypos - 1)\n",
    "ysize = min(ypos + 3, coarse_grid_resolution - 2 + 3) - ymin\n",
    "mysubgrid = getsubgrid(grid, xmin, ymin, coarse_grid_resolution, xsize=xsize, ysize=ysize)\n",
    "mysubbi = SubGridBoundaryInfo(mysubgrid, grid, data['boundary_info'], BoundaryType('robin'))\n",
    "ld, ldata = discretize_elliptic_cg(p, grid=mysubgrid, boundary_info=mysubbi)\n",
    "lop = ld.operator.assemble(mus)\n",
    "\n",
    "#index conversion\t\t\n",
    "ndofsext = len(ldata['grid'].parent_indices(dof_codim))\n",
    "global_dofnrsext = -100000000* np.ones(shape=(d.solution_space.dim,))\n",
    "global_dofnrsext[ldata['grid'].parent_indices(dof_codim)] = np.array(range(ndofsext))\n",
    "lvecext = localizer.localize_vector_array(NumpyVectorArray(global_dofnrsext), omega_star_space).data[0]\n",
    "\n",
    "bilifo = NumpyMatrixOperator(lop._matrix[:,lvecext][lvecext,:])\n",
    "\n",
    "#lokale Shift-Loesung mit f(Robin)\n",
    "lrhs = ld.rhs.assemble(mus)\n",
    "llrhs = NumpyMatrixOperator(lrhs._matrix[:,lvecext.astype(int)])\n",
    "lrhs_f = llrhs._matrix"
   ]
  },
  {
   "cell_type": "code",
   "execution_count": 4,
   "metadata": {},
   "outputs": [
    {
     "data": {
      "text/plain": [
       "(1, 3281)"
      ]
     },
     "execution_count": 4,
     "metadata": {},
     "output_type": "execute_result"
    }
   ],
   "source": [
    "lrhs_f.shape"
   ]
  },
  {
   "cell_type": "code",
   "execution_count": 5,
   "metadata": {},
   "outputs": [
    {
     "name": "stderr",
     "output_type": "stream",
     "text": [
      "/home/root_dennis/pymor_MA/src/pymor/gui/qt.py:282: ComplexWarning: Casting complex values to real discards the imaginary part\n",
      "  tuple(u.data.astype(np.float64, copy=False) for u in U)\n"
     ]
    }
   ],
   "source": [
    "shift_solution = StationaryDiscretization(bilifo, llrhs, cache_region=None).solve()\n",
    "localized_solution = localizer.localize_vector_array(u, omega_star_space)\n",
    "target_solution = localized_solution-shift_solution\n",
    "d.visualize((localizer.globalize_vector_array(shift_solution, omega_star_space),localizer.globalize_vector_array(localized_solution, omega_star_space),localizer.globalize_vector_array(target_solution, omega_star_space)) , separate_colorbars = True)"
   ]
  },
  {
   "cell_type": "code",
   "execution_count": 6,
   "metadata": {},
   "outputs": [
    {
     "data": {
      "text/plain": [
       "(1, 3281)"
      ]
     },
     "execution_count": 6,
     "metadata": {},
     "output_type": "execute_result"
    }
   ],
   "source": [
    "v = bilifo.apply(target_solution)\n",
    "#d.visualize(localizer.globalize_vector_array(v, omega_star_space))\n",
    "a = np.around(v.data,15)\n",
    "#np.linalg.norm(v.data)\n",
    "v.data.shape"
   ]
  },
  {
   "cell_type": "code",
   "execution_count": 7,
   "metadata": {},
   "outputs": [
    {
     "name": "stdout",
     "output_type": "stream",
     "text": [
      "[[  0.00000000e+00 -0.00000000e+00j  -0.00000000e+00 +0.00000000e+00j\n",
      "    0.00000000e+00 -0.00000000e+00j ...,  -1.25348581e-04 -8.95139646e-05j\n",
      "   -5.20798479e-05 -1.37006883e-04j   2.65494264e-05 -1.28485667e-04j]]\n",
      "[[  0.00000000e+00 +0.00000000e+00j   0.00000000e+00 +0.00000000e+00j\n",
      "    0.00000000e+00 +0.00000000e+00j ...,  -1.27127579e-05 +1.59860472e-05j\n",
      "   -2.16773297e-05 +5.77826133e-06j  -2.22018263e-05 -6.51753339e-06j]]\n"
     ]
    }
   ],
   "source": [
    "from pymor.operators import cg\n",
    "robop = cg.RobinBoundaryOperator(mysubgrid, mysubbi, robin_data = p.robin_data).assemble(mus)\n",
    "robop = NumpyMatrixOperator(robop._matrix[:,lvecext][lvecext,:])\n",
    "b = robop.apply(localized_solution).data\n",
    "print a\n",
    "print b"
   ]
  },
  {
   "cell_type": "code",
   "execution_count": 8,
   "metadata": {},
   "outputs": [
    {
     "name": "stderr",
     "output_type": "stream",
     "text": [
      "/home/root_dennis/pymor_MA/src/pymor/gui/qt.py:282: ComplexWarning: Casting complex values to real discards the imaginary part\n",
      "  tuple(u.data.astype(np.float64, copy=False) for u in U)\n"
     ]
    }
   ],
   "source": [
    "reconstruct = StationaryDiscretization(bilifo, VectorFunctional(v), cache_region=None).solve()\n",
    "err = reconstruct-target_solution\n",
    "d.visualize((localizer.globalize_vector_array(reconstruct, omega_star_space), localizer.globalize_vector_array(err, omega_star_space)), separate_colorbars = True)"
   ]
  },
  {
   "cell_type": "code",
   "execution_count": 9,
   "metadata": {},
   "outputs": [
    {
     "name": "stderr",
     "output_type": "stream",
     "text": [
      "/home/root_dennis/pymor_MA/src/pymor/gui/qt.py:281: ComplexWarning: Casting complex values to real discards the imaginary part\n",
      "  U = (U.data.astype(np.float64, copy=False),) if hasattr(U, 'data') else \\\n"
     ]
    }
   ],
   "source": [
    "vbound = localizer.to_space(v, omega_star_space, source_space)\n",
    "vom = localizer.to_space(vbound, source_space, omega_star_space)\n",
    "d.visualize(localizer.globalize_vector_array(vom-v, omega_star_space))"
   ]
  },
  {
   "cell_type": "code",
   "execution_count": 10,
   "metadata": {},
   "outputs": [
    {
     "name": "stderr",
     "output_type": "stream",
     "text": [
      "/home/root_dennis/pymor_MA/src/pymor/gui/qt.py:281: ComplexWarning: Casting complex values to real discards the imaginary part\n",
      "  U = (U.data.astype(np.float64, copy=False),) if hasattr(U, 'data') else \\\n",
      "/home/root_dennis/pymor_MA/src/pymor/gui/qt.py:281: ComplexWarning: Casting complex values to real discards the imaginary part\n",
      "  U = (U.data.astype(np.float64, copy=False),) if hasattr(U, 'data') else \\\n"
     ]
    }
   ],
   "source": [
    "psi = NumpyVectorArray(bilifo._matrix.T)\n",
    "psi_bound = NumpyMatrixOperator(localizer.to_space(psi, omega_star_space, source_space).data.T)\n",
    "bound_sol = psi_bound.apply(target_solution)\n",
    "vol_sol = localizer.to_space(bound_sol, source_space, omega_star_space)\n",
    "d.visualize(localizer.globalize_vector_array(vol_sol, omega_star_space))\n",
    "d.visualize(localizer.globalize_vector_array(vol_sol-v, omega_star_space))"
   ]
  },
  {
   "cell_type": "code",
   "execution_count": 11,
   "metadata": {},
   "outputs": [
    {
     "name": "stderr",
     "output_type": "stream",
     "text": [
      "/home/root_dennis/pymor_MA/src/pymor/gui/qt.py:282: ComplexWarning: Casting complex values to real discards the imaginary part\n",
      "  tuple(u.data.astype(np.float64, copy=False) for u in U)\n"
     ]
    }
   ],
   "source": [
    "reconstruct = StationaryDiscretization(bilifo, VectorFunctional(vol_sol), cache_region=None).solve()\n",
    "err = reconstruct-target_solution\n",
    "d.visualize((localizer.globalize_vector_array(reconstruct, omega_star_space), localizer.globalize_vector_array(err, omega_star_space)), separate_colorbars = True)"
   ]
  },
  {
   "cell_type": "code",
   "execution_count": 75,
   "metadata": {},
   "outputs": [
    {
     "name": "stderr",
     "output_type": "stream",
     "text": [
      "/home/root_dennis/pymor_MA/src/pymor/gui/qt.py:282: ComplexWarning: Casting complex values to real discards the imaginary part\n",
      "  tuple(u.data.astype(np.float64, copy=False) for u in U)\n"
     ]
    }
   ],
   "source": [
    "Q = ldict[\"solution_matrix_robin\"]\n",
    "Qinv = np.linalg.pinv(Q)\n",
    "v = NumpyVectorArray(NumpyMatrixOperator(Qinv).apply(target_solution).data)\n",
    "v = localizer.to_space(NumpyVectorArray(v), source_space, omega_star_space)\n",
    "reconstruct = StationaryDiscretization(bilifo, VectorFunctional(v), cache_region=None).solve()\n",
    "err = reconstruct-target_solution\n",
    "d.visualize((localizer.globalize_vector_array(reconstruct, omega_star_space), localizer.globalize_vector_array(err, omega_star_space)), separate_colorbars = True)"
   ]
  },
  {
   "cell_type": "code",
   "execution_count": 77,
   "metadata": {},
   "outputs": [],
   "source": [
    "r = np.random.normal(size = len(localizer.join_spaces(source_space)))"
   ]
  },
  {
   "cell_type": "code",
   "execution_count": 78,
   "metadata": {},
   "outputs": [],
   "source": [
    "pinv = np.linalg.pinv(psi_bound._matrix)"
   ]
  },
  {
   "cell_type": "code",
   "execution_count": 79,
   "metadata": {},
   "outputs": [],
   "source": [
    "a = localizer.globalize_vector_array(NumpyVectorArray(Q.dot(r)),omega_star_space)\n",
    "b = localizer.globalize_vector_array(NumpyVectorArray(pinv.dot(r)),omega_star_space)"
   ]
  },
  {
   "cell_type": "code",
   "execution_count": 80,
   "metadata": {},
   "outputs": [
    {
     "name": "stderr",
     "output_type": "stream",
     "text": [
      "/home/root_dennis/pymor_MA/src/pymor/gui/qt.py:282: ComplexWarning: Casting complex values to real discards the imaginary part\n",
      "  tuple(u.data.astype(np.float64, copy=False) for u in U)\n"
     ]
    }
   ],
   "source": [
    "d.visualize((a,b,a-b), separate_colorbars = True)"
   ]
  },
  {
   "cell_type": "code",
   "execution_count": 17,
   "metadata": {},
   "outputs": [],
   "source": [
    "rom = localizer.to_space(NumpyVectorArray(r), source_space, omega_star_space)\n",
    "reconstruct = StationaryDiscretization(bilifo, VectorFunctional(rom), cache_region=None).solve()\n",
    "recglob = localizer.globalize_vector_array(reconstruct, omega_star_space)"
   ]
  },
  {
   "cell_type": "code",
   "execution_count": 18,
   "metadata": {},
   "outputs": [
    {
     "name": "stderr",
     "output_type": "stream",
     "text": [
      "/home/root_dennis/pymor_MA/src/pymor/gui/qt.py:282: ComplexWarning: Casting complex values to real discards the imaginary part\n",
      "  tuple(u.data.astype(np.float64, copy=False) for u in U)\n"
     ]
    }
   ],
   "source": [
    "d.visualize((recglob,a,b,recglob-a,recglob-b), separate_colorbars = True)"
   ]
  },
  {
   "cell_type": "code",
   "execution_count": 19,
   "metadata": {},
   "outputs": [
    {
     "name": "stderr",
     "output_type": "stream",
     "text": [
      "/home/root_dennis/pymor_MA/src/pymor/gui/qt.py:282: ComplexWarning: Casting complex values to real discards the imaginary part\n",
      "  tuple(u.data.astype(np.float64, copy=False) for u in U)\n"
     ]
    }
   ],
   "source": [
    "solre1 = StationaryDiscretization(bilifo, VectorFunctional(localizer.to_space(NumpyVectorArray(Qinv.dot(reconstruct.data.T).T),source_space, omega_star_space)), cache_region=None).solve()\n",
    "solre2 = StationaryDiscretization(bilifo, VectorFunctional(localizer.to_space(NumpyVectorArray(psi_bound._matrix.dot(reconstruct.data.T).T),source_space, omega_star_space)), cache_region=None).solve()\n",
    "d.visualize((localizer.globalize_vector_array(solre1, omega_star_space), localizer.globalize_vector_array(solre2, omega_star_space), localizer.globalize_vector_array(solre1-solre2, omega_star_space)), separate_colorbars = True)"
   ]
  },
  {
   "cell_type": "code",
   "execution_count": 20,
   "metadata": {},
   "outputs": [
    {
     "data": {
      "text/plain": [
       "25.655697995595482"
      ]
     },
     "execution_count": 20,
     "metadata": {},
     "output_type": "execute_result"
    }
   ],
   "source": [
    "np.linalg.norm(Qinv-psi_bound._matrix)"
   ]
  },
  {
   "cell_type": "code",
   "execution_count": 98,
   "metadata": {},
   "outputs": [],
   "source": [
    "MS = np.identity(len(localizer.join_spaces(source_space)))\n",
    "MS = scipy.sparse.csr_matrix(MS)\n",
    "Psi = psi_bound._matrix\n",
    "Psi = scipy.sparse.csr_matrix(Psi)\n",
    "H1om = ldict[\"omega_star_product\"]._matrix"
   ]
  },
  {
   "cell_type": "code",
   "execution_count": 99,
   "metadata": {},
   "outputs": [
    {
     "data": {
      "text/plain": [
       "2.013889246285002"
      ]
     },
     "execution_count": 99,
     "metadata": {},
     "output_type": "execute_result"
    }
   ],
   "source": [
    "import scipy.sparse.linalg as sp\n",
    "foo = Psi.conj().T.dot(MS).dot(Psi)\n",
    "eigvals = sp.eigs(foo, M = H1om, k=1)\n",
    "eigvals[0][0].real"
   ]
  },
  {
   "cell_type": "code",
   "execution_count": 100,
   "metadata": {},
   "outputs": [
    {
     "data": {
      "text/plain": [
       "1.0"
      ]
     },
     "execution_count": 100,
     "metadata": {},
     "output_type": "execute_result"
    }
   ],
   "source": [
    "scipy.sparse.linalg.eigsh(MS, return_eigenvectors = False, k=1, which=\"SM\", tol = 1e-3)[0]"
   ]
  },
  {
   "cell_type": "code",
   "execution_count": 101,
   "metadata": {},
   "outputs": [
    {
     "data": {
      "text/plain": [
       "2.0030654825225898"
      ]
     },
     "execution_count": 101,
     "metadata": {},
     "output_type": "execute_result"
    }
   ],
   "source": [
    "M = Q.T.conj().dot(H1om.dot(Q))\n",
    "eigvals = sp.eigs(MS, M=M)\n",
    "eigvals[0][0].real"
   ]
  },
  {
   "cell_type": "code",
   "execution_count": 110,
   "metadata": {},
   "outputs": [],
   "source": [
    "diameter = 1./resolution\n",
    "lproduct = localizer.localize_operator(d.l2_product.assemble(), source_space, source_space)\n",
    "lmat = lproduct._matrix.tocoo()\n",
    "lmat.data = np.array([4./6.*diameter if (row == col) else diameter/6. for row, col in izip(lmat.row, lmat.col)])\n",
    "MS = lmat.tocsc()"
   ]
  },
  {
   "cell_type": "code",
   "execution_count": 103,
   "metadata": {},
   "outputs": [
    {
     "data": {
      "text/plain": [
       "0.02011885658230526"
      ]
     },
     "execution_count": 103,
     "metadata": {},
     "output_type": "execute_result"
    }
   ],
   "source": [
    "import scipy.sparse.linalg as sp\n",
    "foo = Psi.conj().T.dot(MS).dot(Psi)\n",
    "eigvals = sp.eigs(foo, M = H1om, k=1)\n",
    "eigvals[0][0].real"
   ]
  },
  {
   "cell_type": "code",
   "execution_count": 104,
   "metadata": {},
   "outputs": [
    {
     "data": {
      "text/plain": [
       "0.003335891427616677"
      ]
     },
     "execution_count": 104,
     "metadata": {},
     "output_type": "execute_result"
    }
   ],
   "source": [
    "scipy.sparse.linalg.eigsh(MS, return_eigenvectors = False, k=1, which=\"SM\", tol = 1e-3)[0]"
   ]
  },
  {
   "cell_type": "code",
   "execution_count": 105,
   "metadata": {},
   "outputs": [
    {
     "data": {
      "text/plain": [
       "0.011378358089901468"
      ]
     },
     "execution_count": 105,
     "metadata": {},
     "output_type": "execute_result"
    }
   ],
   "source": [
    "M = Q.T.conj().dot(H1om.dot(Q))\n",
    "eigvals = sp.eigs(MS, M=M)\n",
    "eigvals[0][0].real"
   ]
  },
  {
   "cell_type": "code",
   "execution_count": 109,
   "metadata": {},
   "outputs": [
    {
     "data": {
      "text/plain": [
       "<160x160 sparse matrix of type '<type 'numpy.float64'>'\n",
       "\twith 160 stored elements in Compressed Sparse Row format>"
      ]
     },
     "execution_count": 109,
     "metadata": {},
     "output_type": "execute_result"
    }
   ],
   "source": [
    "scipy.sparse.csr_matrix(np.identity(len(localizer.join_spaces(source_space))))"
   ]
  },
  {
   "cell_type": "code",
   "execution_count": 95,
   "metadata": {},
   "outputs": [
    {
     "data": {
      "text/plain": [
       "0.011378358089901466"
      ]
     },
     "execution_count": 95,
     "metadata": {},
     "output_type": "execute_result"
    }
   ],
   "source": []
  },
  {
   "cell_type": "code",
   "execution_count": 111,
   "metadata": {},
   "outputs": [
    {
     "data": {
      "text/plain": [
       "<160x160 sparse matrix of type '<type 'numpy.float64'>'\n",
       "\twith 480 stored elements in Compressed Sparse Column format>"
      ]
     },
     "execution_count": 111,
     "metadata": {},
     "output_type": "execute_result"
    }
   ],
   "source": [
    "MS"
   ]
  },
  {
   "cell_type": "code",
   "execution_count": 114,
   "metadata": {},
   "outputs": [
    {
     "data": {
      "text/plain": [
       "matrix([[ 0.00666667,  0.00166667,  0.        , ...,  0.        ,\n",
       "          0.        ,  0.        ],\n",
       "        [ 0.00166667,  0.00666667,  0.00166667, ...,  0.        ,\n",
       "          0.        ,  0.        ],\n",
       "        [ 0.        ,  0.00166667,  0.00666667, ...,  0.        ,\n",
       "          0.        ,  0.        ],\n",
       "        ..., \n",
       "        [ 0.        ,  0.        ,  0.        , ...,  0.00666667,\n",
       "          0.00166667,  0.        ],\n",
       "        [ 0.        ,  0.        ,  0.        , ...,  0.00166667,\n",
       "          0.00666667,  0.00166667],\n",
       "        [ 0.        ,  0.        ,  0.        , ...,  0.        ,\n",
       "          0.00166667,  0.00666667]])"
      ]
     },
     "execution_count": 114,
     "metadata": {},
     "output_type": "execute_result"
    }
   ],
   "source": []
  },
  {
   "cell_type": "code",
   "execution_count": null,
   "metadata": {},
   "outputs": [],
   "source": []
  },
  {
   "cell_type": "code",
   "execution_count": null,
   "metadata": {},
   "outputs": [],
   "source": []
  },
  {
   "cell_type": "code",
   "execution_count": 137,
   "metadata": {},
   "outputs": [],
   "source": [
    "def ismpi(A,B):\n",
    "    print np.linalg.norm(A.dot(B).dot(A)-A)\n",
    "    print np.linalg.norm(B.dot(A).dot(B)-B)\n",
    "    print np.linalg.norm(A.dot(B).T.conj()-A.dot(B))\n",
    "    print np.linalg.norm(B.dot(A).T.conj()-B.dot(A))"
   ]
  },
  {
   "cell_type": "code",
   "execution_count": 141,
   "metadata": {},
   "outputs": [
    {
     "name": "stdout",
     "output_type": "stream",
     "text": [
      "1.13180936746e-13\n",
      "2.13627000662e-11\n",
      "5.79139851263e-14\n",
      "1420.10741511\n"
     ]
    }
   ],
   "source": [
    "ismpi(psi,Q)"
   ]
  },
  {
   "cell_type": "code",
   "execution_count": 149,
   "metadata": {},
   "outputs": [
    {
     "name": "stdout",
     "output_type": "stream",
     "text": [
      "0.191272974014\n"
     ]
    }
   ],
   "source": [
    "import time\n",
    "t = time.time()\n",
    "solution_op_robin = create_robin_solop(localizer, bilifo, source_space, omega_star_space)\n",
    "Q_r_source_size = solution_op_robin.source.dim\n",
    "Q_r_range_size = solution_op_robin.range.dim\n",
    "Q_r = np.zeros((Q_r_range_size, Q_r_source_size), dtype = complex)\n",
    "for i in range(Q_r_source_size):\n",
    "    ei = NumpyVectorArray(np.eye(1,Q_r_source_size,i))\n",
    "    qi = solution_op_robin.apply(ei)\n",
    "    Q_r.T[i] = qi._array\n",
    "print time.time()-t"
   ]
  },
  {
   "cell_type": "code",
   "execution_count": 152,
   "metadata": {},
   "outputs": [
    {
     "name": "stdout",
     "output_type": "stream",
     "text": [
      "0.454138994217\n"
     ]
    }
   ],
   "source": [
    "import time\n",
    "t= time.time()\n",
    "Pinv = np.linalg.pinv(psi)\n",
    "print time.time()-t"
   ]
  },
  {
   "cell_type": "code",
   "execution_count": null,
   "metadata": {},
   "outputs": [],
   "source": []
  },
  {
   "cell_type": "code",
   "execution_count": null,
   "metadata": {},
   "outputs": [],
   "source": []
  },
  {
   "cell_type": "code",
   "execution_count": null,
   "metadata": {},
   "outputs": [],
   "source": []
  },
  {
   "cell_type": "code",
   "execution_count": null,
   "metadata": {},
   "outputs": [],
   "source": []
  },
  {
   "cell_type": "code",
   "execution_count": 134,
   "metadata": {},
   "outputs": [
    {
     "name": "stdout",
     "output_type": "stream",
     "text": [
      "2.33259010315\n"
     ]
    }
   ],
   "source": []
  },
  {
   "cell_type": "code",
   "execution_count": 77,
   "metadata": {},
   "outputs": [
    {
     "ename": "ValueError",
     "evalue": "dimension mismatch",
     "output_type": "error",
     "traceback": [
      "\u001b[0;31m---------------------------------------------------------------------------\u001b[0m",
      "\u001b[0;31mValueError\u001b[0m                                Traceback (most recent call last)",
      "\u001b[0;32m<ipython-input-77-e292c0a928fc>\u001b[0m in \u001b[0;36m<module>\u001b[0;34m()\u001b[0m\n\u001b[0;32m----> 1\u001b[0;31m \u001b[0mfoo\u001b[0m \u001b[0;34m=\u001b[0m \u001b[0mpsi\u001b[0m\u001b[0;34m.\u001b[0m\u001b[0mT\u001b[0m\u001b[0;34m.\u001b[0m\u001b[0mdot\u001b[0m\u001b[0;34m(\u001b[0m\u001b[0mmat2\u001b[0m\u001b[0;34m.\u001b[0m\u001b[0mdot\u001b[0m\u001b[0;34m(\u001b[0m\u001b[0mpsi\u001b[0m\u001b[0;34m)\u001b[0m\u001b[0;34m)\u001b[0m\u001b[0;34m\u001b[0m\u001b[0m\n\u001b[0m\u001b[1;32m      2\u001b[0m \u001b[0mfoo\u001b[0m \u001b[0;34m=\u001b[0m \u001b[0mscipy\u001b[0m\u001b[0;34m.\u001b[0m\u001b[0msparse\u001b[0m\u001b[0;34m.\u001b[0m\u001b[0mcsr_matrix\u001b[0m\u001b[0;34m(\u001b[0m\u001b[0mfoo\u001b[0m\u001b[0;34m)\u001b[0m\u001b[0;34m\u001b[0m\u001b[0m\n",
      "\u001b[0;32m/usr/lib/python2.7/dist-packages/scipy/sparse/base.pyc\u001b[0m in \u001b[0;36mdot\u001b[0;34m(self, other)\u001b[0m\n\u001b[1;32m    300\u001b[0m \u001b[0;34m\u001b[0m\u001b[0m\n\u001b[1;32m    301\u001b[0m         \"\"\"\n\u001b[0;32m--> 302\u001b[0;31m         \u001b[0;32mreturn\u001b[0m \u001b[0mself\u001b[0m \u001b[0;34m*\u001b[0m \u001b[0mother\u001b[0m\u001b[0;34m\u001b[0m\u001b[0m\n\u001b[0m\u001b[1;32m    303\u001b[0m \u001b[0;34m\u001b[0m\u001b[0m\n\u001b[1;32m    304\u001b[0m     \u001b[0;32mdef\u001b[0m \u001b[0mpower\u001b[0m\u001b[0;34m(\u001b[0m\u001b[0mself\u001b[0m\u001b[0;34m,\u001b[0m \u001b[0mn\u001b[0m\u001b[0;34m,\u001b[0m \u001b[0mdtype\u001b[0m\u001b[0;34m=\u001b[0m\u001b[0mNone\u001b[0m\u001b[0;34m)\u001b[0m\u001b[0;34m:\u001b[0m\u001b[0;34m\u001b[0m\u001b[0m\n",
      "\u001b[0;32m/usr/lib/python2.7/dist-packages/scipy/sparse/base.pyc\u001b[0m in \u001b[0;36m__mul__\u001b[0;34m(self, other)\u001b[0m\n\u001b[1;32m    403\u001b[0m \u001b[0;34m\u001b[0m\u001b[0m\n\u001b[1;32m    404\u001b[0m             \u001b[0;32mif\u001b[0m \u001b[0mother\u001b[0m\u001b[0;34m.\u001b[0m\u001b[0mshape\u001b[0m\u001b[0;34m[\u001b[0m\u001b[0;36m0\u001b[0m\u001b[0;34m]\u001b[0m \u001b[0;34m!=\u001b[0m \u001b[0mself\u001b[0m\u001b[0;34m.\u001b[0m\u001b[0mshape\u001b[0m\u001b[0;34m[\u001b[0m\u001b[0;36m1\u001b[0m\u001b[0;34m]\u001b[0m\u001b[0;34m:\u001b[0m\u001b[0;34m\u001b[0m\u001b[0m\n\u001b[0;32m--> 405\u001b[0;31m                 \u001b[0;32mraise\u001b[0m \u001b[0mValueError\u001b[0m\u001b[0;34m(\u001b[0m\u001b[0;34m'dimension mismatch'\u001b[0m\u001b[0;34m)\u001b[0m\u001b[0;34m\u001b[0m\u001b[0m\n\u001b[0m\u001b[1;32m    406\u001b[0m \u001b[0;34m\u001b[0m\u001b[0m\n\u001b[1;32m    407\u001b[0m             \u001b[0mresult\u001b[0m \u001b[0;34m=\u001b[0m \u001b[0mself\u001b[0m\u001b[0;34m.\u001b[0m\u001b[0m_mul_multivector\u001b[0m\u001b[0;34m(\u001b[0m\u001b[0mnp\u001b[0m\u001b[0;34m.\u001b[0m\u001b[0masarray\u001b[0m\u001b[0;34m(\u001b[0m\u001b[0mother\u001b[0m\u001b[0;34m)\u001b[0m\u001b[0;34m)\u001b[0m\u001b[0;34m\u001b[0m\u001b[0m\n",
      "\u001b[0;31mValueError\u001b[0m: dimension mismatch"
     ]
    }
   ],
   "source": [
    "foo = psi.T.dot(mat2.dot(psi))\n",
    "foo = scipy.sparse.csr_matrix(foo)"
   ]
  },
  {
   "cell_type": "code",
   "execution_count": 78,
   "metadata": {},
   "outputs": [
    {
     "data": {
      "text/plain": [
       "(32, 32)"
      ]
     },
     "execution_count": 78,
     "metadata": {},
     "output_type": "execute_result"
    }
   ],
   "source": [
    "psi.shape"
   ]
  },
  {
   "cell_type": "code",
   "execution_count": 79,
   "metadata": {},
   "outputs": [
    {
     "data": {
      "text/plain": [
       "(11, 11)"
      ]
     },
     "execution_count": 79,
     "metadata": {},
     "output_type": "execute_result"
    }
   ],
   "source": [
    "mat2.shape"
   ]
  },
  {
   "cell_type": "code",
   "execution_count": 80,
   "metadata": {},
   "outputs": [
    {
     "data": {
      "text/plain": [
       "<32x32 sparse matrix of type '<type 'numpy.complex128'>'\n",
       "\twith 190 stored elements in Compressed Sparse Column format>"
      ]
     },
     "execution_count": 80,
     "metadata": {},
     "output_type": "execute_result"
    }
   ],
   "source": [
    "psi"
   ]
  },
  {
   "cell_type": "code",
   "execution_count": 81,
   "metadata": {},
   "outputs": [
    {
     "data": {
      "text/plain": [
       "array([ 3.83333333+0.j        , -1.04166667+0.j        ,\n",
       "       -1.04166667+0.j        , -1.04166667+0.j        ,\n",
       "       -1.04166667+0.j        ,  3.83333333+0.j        ,\n",
       "       -1.04166667+0.j        , -1.04166667+0.j        ,\n",
       "       -1.04166667+0.j        , -1.04166667+0.j        ,\n",
       "        3.83333333+0.j        , -1.04166667+0.j        ,\n",
       "       -1.04166667+0.j        , -1.04166667+0.j        ,\n",
       "       -1.04166667+0.j        ,  3.83333333+0.j        ,\n",
       "       -1.04166667+0.j        , -1.04166667+0.j        ,\n",
       "       -1.04166667+0.j        , -1.04166667+0.j        ,\n",
       "        3.83333333+0.j        , -1.04166667+0.j        ,\n",
       "       -1.04166667+0.j        , -1.04166667+0.j        ,\n",
       "       -1.04166667+0.j        ,  3.83333333+0.j        ,\n",
       "       -1.04166667+0.j        , -1.04166667+0.j        ,\n",
       "       -1.04166667+0.j        , -1.04166667+0.j        ,\n",
       "        3.83333333+0.j        , -1.04166667+0.j        ,\n",
       "       -1.04166667+0.j        , -1.04166667+0.j        ,\n",
       "       -1.04166667+0.j        ,  3.83333333+0.j        ,\n",
       "       -1.04166667+0.j        , -1.04166667+0.j        ,\n",
       "       -1.04166667+0.j        , -1.04166667+0.j        ,\n",
       "        3.83333333+0.j        , -1.04166667+0.j        ,\n",
       "       -1.04166667+0.j        , -1.04166667+0.j        ,\n",
       "       -1.04166667+0.j        ,  3.83333333+0.j        ,\n",
       "       -1.04166667+0.j        , -1.04166667+0.j        ,\n",
       "       -1.04166667+0.j        , -1.04166667+0.j        ,\n",
       "        3.83333333+0.j        , -1.04166667+0.j        ,\n",
       "       -1.04166667+0.j        , -1.04166667+0.j        ,\n",
       "       -1.04166667+0.j        ,  3.83333333+0.j        ,\n",
       "       -1.04166667+0.j        , -1.04166667+0.j        ,\n",
       "       -1.04166667+0.j        , -1.04166667+0.j        ,\n",
       "       -1.04166667+0.j        ,  0.91666667-0.33333333j,\n",
       "       -0.02083333-0.16666667j, -0.02083333+0.j        ,\n",
       "       -1.04166667+0.j        , -1.04166667+0.j        ,\n",
       "       -0.02083333-0.16666667j,  1.83333333-0.66666667j,\n",
       "       -0.02083333-0.16666667j, -0.04166667+0.j        ,\n",
       "       -1.04166667+0.j        , -1.04166667+0.j        ,\n",
       "       -0.02083333-0.16666667j,  1.83333333-0.66666667j,\n",
       "       -0.02083333-0.16666667j, -0.04166667+0.j        ,\n",
       "       -1.04166667+0.j        , -1.04166667+0.j        ,\n",
       "       -0.02083333-0.16666667j,  1.83333333-0.66666667j,\n",
       "       -0.02083333-0.16666667j, -0.04166667+0.j        ,\n",
       "       -1.04166667+0.j        , -0.02083333-0.16666667j,\n",
       "        0.91666667-0.33333333j, -0.02083333+0.j        ,\n",
       "       -1.04166667+0.j        , -1.04166667+0.j        ,\n",
       "       -0.02083333+0.j        ,  1.83333333+0.j        ,\n",
       "       -0.04166667+0.j        , -0.02083333+0.j        ,\n",
       "       -1.04166667+0.j        , -1.04166667+0.j        ,\n",
       "       -1.04166667+0.j        , -1.04166667+0.j        ,\n",
       "       -0.04166667+0.j        , -0.04166667+0.j        ,\n",
       "        3.66666667+0.j        , -0.04166667+0.j        ,\n",
       "       -0.04166667+0.j        , -1.04166667+0.j        ,\n",
       "       -1.04166667+0.j        , -1.04166667+0.j        ,\n",
       "       -1.04166667+0.j        , -0.04166667+0.j        ,\n",
       "       -0.04166667+0.j        ,  3.66666667+0.j        ,\n",
       "       -0.04166667+0.j        , -0.04166667+0.j        ,\n",
       "       -1.04166667+0.j        , -1.04166667+0.j        ,\n",
       "       -1.04166667+0.j        , -1.04166667+0.j        ,\n",
       "       -0.04166667+0.j        , -0.04166667+0.j        ,\n",
       "        3.66666667+0.j        , -0.04166667+0.j        ,\n",
       "       -0.04166667+0.j        , -1.04166667+0.j        ,\n",
       "       -1.04166667+0.j        , -0.02083333+0.j        ,\n",
       "       -0.04166667+0.j        ,  1.83333333+0.j        ,\n",
       "       -0.02083333+0.j        , -1.04166667+0.j        ,\n",
       "       -1.04166667+0.j        , -0.02083333+0.j        ,\n",
       "        1.83333333+0.j        , -0.04166667+0.j        ,\n",
       "       -0.02083333+0.j        , -1.04166667+0.j        ,\n",
       "       -1.04166667+0.j        , -1.04166667+0.j        ,\n",
       "       -1.04166667+0.j        , -0.04166667+0.j        ,\n",
       "       -0.04166667+0.j        ,  3.66666667+0.j        ,\n",
       "       -0.04166667+0.j        , -0.04166667+0.j        ,\n",
       "       -1.04166667+0.j        , -1.04166667+0.j        ,\n",
       "       -1.04166667+0.j        , -1.04166667+0.j        ,\n",
       "       -0.04166667+0.j        , -0.04166667+0.j        ,\n",
       "        3.66666667+0.j        , -0.04166667+0.j        ,\n",
       "       -0.04166667+0.j        , -1.04166667+0.j        ,\n",
       "       -1.04166667+0.j        , -1.04166667+0.j        ,\n",
       "       -1.04166667+0.j        , -0.04166667+0.j        ,\n",
       "       -0.04166667+0.j        ,  3.66666667+0.j        ,\n",
       "       -0.04166667+0.j        , -0.04166667+0.j        ,\n",
       "       -1.04166667+0.j        , -1.04166667+0.j        ,\n",
       "       -0.02083333+0.j        , -0.04166667+0.j        ,\n",
       "        1.83333333+0.j        , -0.02083333+0.j        ,\n",
       "       -1.04166667+0.j        , -0.02083333+0.j        ,\n",
       "        0.91666667+0.j        , -0.02083333+0.j        ,\n",
       "       -1.04166667+0.j        , -1.04166667+0.j        ,\n",
       "       -0.04166667+0.j        , -0.02083333+0.j        ,\n",
       "        1.83333333+0.j        , -0.02083333+0.j        ,\n",
       "       -1.04166667+0.j        , -1.04166667+0.j        ,\n",
       "       -0.04166667+0.j        , -0.02083333+0.j        ,\n",
       "        1.83333333+0.j        , -0.02083333+0.j        ,\n",
       "       -1.04166667+0.j        , -1.04166667+0.j        ,\n",
       "       -0.04166667+0.j        , -0.02083333+0.j        ,\n",
       "        1.83333333+0.j        , -0.02083333+0.j        ,\n",
       "       -1.04166667+0.j        , -0.02083333+0.j        ,\n",
       "       -0.02083333+0.j        ,  0.91666667+0.j        ])"
      ]
     },
     "execution_count": 81,
     "metadata": {},
     "output_type": "execute_result"
    }
   ],
   "source": [
    "psi.data"
   ]
  },
  {
   "cell_type": "code",
   "execution_count": 82,
   "metadata": {},
   "outputs": [
    {
     "data": {
      "text/plain": [
       "matrix([[ 3.83333333,  0.        ,  0.        , ...,  0.        ,\n",
       "          0.        ,  0.        ],\n",
       "        [ 0.        ,  3.83333333,  0.        , ...,  0.        ,\n",
       "          0.        ,  0.        ],\n",
       "        [ 0.        ,  0.        ,  3.83333333, ...,  0.        ,\n",
       "          0.        ,  0.        ],\n",
       "        ..., \n",
       "        [ 0.        ,  0.        ,  0.        , ...,  1.83333333,\n",
       "         -0.02083333,  0.        ],\n",
       "        [ 0.        ,  0.        ,  0.        , ..., -0.02083333,\n",
       "          1.83333333, -0.02083333],\n",
       "        [ 0.        ,  0.        ,  0.        , ...,  0.        ,\n",
       "         -0.02083333,  0.91666667]])"
      ]
     },
     "execution_count": 82,
     "metadata": {},
     "output_type": "execute_result"
    }
   ],
   "source": [
    "psi.todense().real"
   ]
  },
  {
   "cell_type": "code",
   "execution_count": 83,
   "metadata": {},
   "outputs": [
    {
     "data": {
      "text/plain": [
       "32"
      ]
     },
     "execution_count": 83,
     "metadata": {},
     "output_type": "execute_result"
    }
   ],
   "source": [
    "len(l.to_space(NumpyVectorArray(psi), omega_star_space, source_space))"
   ]
  },
  {
   "cell_type": "code",
   "execution_count": 84,
   "metadata": {},
   "outputs": [
    {
     "data": {
      "text/plain": [
       "32"
      ]
     },
     "execution_count": 84,
     "metadata": {},
     "output_type": "execute_result"
    }
   ],
   "source": [
    "len(l.join_spaces(omega_star_space))"
   ]
  },
  {
   "cell_type": "code",
   "execution_count": 85,
   "metadata": {},
   "outputs": [
    {
     "data": {
      "text/plain": [
       "(32, 32)"
      ]
     },
     "execution_count": 85,
     "metadata": {},
     "output_type": "execute_result"
    }
   ],
   "source": [
    "psi.todense().shape"
   ]
  },
  {
   "cell_type": "code",
   "execution_count": 86,
   "metadata": {},
   "outputs": [
    {
     "name": "stderr",
     "output_type": "stream",
     "text": [
      "/home/root_dennis/pymor-virtualenv_MA/lib/python2.7/site-packages/ipykernel_launcher.py:1: ComplexWarning: Casting complex values to real discards the imaginary part\n",
      "  \"\"\"Entry point for launching an IPython kernel.\n"
     ]
    },
    {
     "data": {
      "text/plain": [
       "array([[3, 0, 0, ..., 0, 0, 0],\n",
       "       [0, 3, 0, ..., 0, 0, 0],\n",
       "       [0, 0, 3, ..., 0, 0, 0],\n",
       "       ..., \n",
       "       [0, 0, 0, ..., 1, 0, 0],\n",
       "       [0, 0, 0, ..., 0, 1, 0],\n",
       "       [0, 0, 0, ..., 0, 0, 0]])"
      ]
     },
     "execution_count": 86,
     "metadata": {},
     "output_type": "execute_result"
    }
   ],
   "source": [
    "np.array(psi.todense(), dtype = int)"
   ]
  },
  {
   "cell_type": "code",
   "execution_count": 266,
   "metadata": {},
   "outputs": [],
   "source": [
    "Q = ldict[\"solution_matrix_robin\"]"
   ]
  },
  {
   "cell_type": "code",
   "execution_count": 267,
   "metadata": {},
   "outputs": [
    {
     "data": {
      "text/plain": [
       "(3281, 160)"
      ]
     },
     "execution_count": 267,
     "metadata": {},
     "output_type": "execute_result"
    }
   ],
   "source": [
    "Q.shape"
   ]
  },
  {
   "cell_type": "code",
   "execution_count": 270,
   "metadata": {},
   "outputs": [
    {
     "data": {
      "text/plain": [
       "(61, 1861)"
      ]
     },
     "execution_count": 270,
     "metadata": {},
     "output_type": "execute_result"
    }
   ],
   "source": [
    "psi._matrix.shape"
   ]
  },
  {
   "cell_type": "code",
   "execution_count": 95,
   "metadata": {},
   "outputs": [
    {
     "data": {
      "text/plain": [
       "array([[ 0.,  0.,  0.,  0., -0.,  0.,  0., -0.,  0.,  0.,  0.],\n",
       "       [ 0., -0.,  0., -0.,  0., -0., -0., -0.,  0.,  0.,  0.],\n",
       "       [ 0., -0.,  0., -0.,  0.,  0., -0.,  0.,  0.,  0., -0.],\n",
       "       [-0.,  0.,  0., -0.,  0.,  0.,  0., -0., -0.,  0., -0.],\n",
       "       [ 0., -0.,  0.,  0.,  0.,  0., -0., -0., -0.,  0.,  0.],\n",
       "       [ 0.,  0.,  0.,  0., -0.,  0.,  0., -0.,  0.,  0., -0.],\n",
       "       [-0.,  0.,  0.,  0.,  0.,  0.,  0., -0.,  0., -0.,  0.],\n",
       "       [-0., -0.,  0., -0., -0.,  0.,  0., -0., -0.,  0., -0.],\n",
       "       [ 0., -0.,  0.,  0.,  0., -0., -0., -0.,  0., -0., -0.],\n",
       "       [ 0., -0.,  0., -0.,  0., -0., -0.,  0.,  0.,  0.,  0.],\n",
       "       [-0., -0.,  0.,  0.,  0.,  0.,  0., -0., -0., -0.,  0.],\n",
       "       [ 0., -0., -0., -0., -0.,  0.,  0.,  0.,  0.,  0., -0.],\n",
       "       [-0.,  0.,  1., -0., -0.,  0., -0.,  0., -0., -0.,  0.],\n",
       "       [-0., -0.,  0., -0.,  0., -0., -0.,  0., -0.,  0., -0.],\n",
       "       [ 0.,  0.,  0., -0.,  0.,  0.,  0.,  0., -0.,  0.,  0.],\n",
       "       [ 0.,  0.,  0.,  0., -0., -0.,  0., -0.,  0., -0.,  0.],\n",
       "       [-0.,  0.,  0., -0.,  1.,  0.,  0.,  0., -0.,  0.,  0.],\n",
       "       [-0.,  0., -0., -0.,  0., -0.,  0.,  0., -0.,  1.,  0.],\n",
       "       [-0., -0.,  0.,  0., -0., -0.,  0.,  0., -0.,  0.,  0.],\n",
       "       [ 0.,  0., -0.,  0., -0.,  0., -0.,  0., -0., -0.,  0.],\n",
       "       [-0.,  0.,  0.,  0., -0., -0., -0., -0.,  0., -0., -0.],\n",
       "       [-0.,  0.,  0., -0., -0.,  0., -0., -0., -0., -0.,  1.],\n",
       "       [-0.,  1., -0., -0., -0., -0., -0., -0.,  0.,  0., -0.],\n",
       "       [ 0., -0., -0., -0.,  0., -0., -0.,  0.,  0., -0.,  0.],\n",
       "       [-0., -0., -0.,  0., -0., -0., -0., -0., -0., -0., -0.],\n",
       "       [-0., -0., -0.,  0.,  0., -0., -0., -0., -0., -0., -0.],\n",
       "       [ 0., -0., -0.,  1.,  0., -0., -0.,  0.,  0., -0.,  0.],\n",
       "       [ 0., -0., -0.,  0., -0.,  1., -0.,  0.,  0., -0.,  0.],\n",
       "       [ 0.,  0., -0.,  0.,  0.,  0.,  1.,  0.,  0., -0.,  0.],\n",
       "       [ 0., -0., -0.,  0., -0., -0., -0.,  1.,  0., -0.,  0.],\n",
       "       [ 1.,  0., -0., -0.,  0., -0., -0., -0.,  0., -0.,  0.],\n",
       "       [ 0.,  0., -0.,  0.,  0.,  0.,  0.,  0.,  1., -0.,  0.]])"
      ]
     },
     "execution_count": 95,
     "metadata": {},
     "output_type": "execute_result"
    }
   ],
   "source": [
    "PQ = psi.dot(Q)\n",
    "PQ[np.where(np.abs(PQ>1e-15))]\n",
    "np.around(PQ, 5).real"
   ]
  },
  {
   "cell_type": "code",
   "execution_count": 119,
   "metadata": {},
   "outputs": [
    {
     "data": {
      "text/plain": [
       "NumpyVectorArray([[ 1.  0.  0.  0.  0.  0.  0.  0.  0.  0.  0.]\n",
       " [ 0.  1.  0.  0.  0.  0.  0.  0.  0.  0.  0.]\n",
       " [ 0.  0.  1.  0.  0.  0.  0.  0.  0.  0.  0.]\n",
       " [ 0.  0.  0.  1.  0.  0.  0.  0.  0.  0.  0.]\n",
       " [ 0.  0.  0.  0.  1.  0.  0.  0.  0.  0.  0.]\n",
       " [ 0.  0.  0.  0.  0.  1.  0.  0.  0.  0.  0.]\n",
       " [ 0.  0.  0.  0.  0.  0.  1.  0.  0.  0.  0.]\n",
       " [ 0.  0.  0.  0.  0.  0.  0.  1.  0.  0.  0.]\n",
       " [ 0.  0.  0.  0.  0.  0.  0.  0.  1.  0.  0.]\n",
       " [ 0.  0.  0.  0.  0.  0.  0.  0.  0.  1.  0.]\n",
       " [ 0.  0.  0.  0.  0.  0.  0.  0.  0.  0.  1.]])"
      ]
     },
     "execution_count": 119,
     "metadata": {},
     "output_type": "execute_result"
    }
   ],
   "source": [
    "l.to_space(NumpyVectorArray(np.around(PQ, 14).real.T), omega_star_space, source_space).real"
   ]
  },
  {
   "cell_type": "code",
   "execution_count": 102,
   "metadata": {},
   "outputs": [
    {
     "data": {
      "text/plain": [
       "(32, 11)"
      ]
     },
     "execution_count": 102,
     "metadata": {},
     "output_type": "execute_result"
    }
   ],
   "source": [
    "l.to_space(NumpyVectorArray(np.identity(32)), omega_star_space, source_space).data.shape"
   ]
  },
  {
   "cell_type": "code",
   "execution_count": 110,
   "metadata": {},
   "outputs": [
    {
     "data": {
      "text/plain": [
       "(11, 11)"
      ]
     },
     "execution_count": 110,
     "metadata": {},
     "output_type": "execute_result"
    }
   ],
   "source": [
    "l.to_space(NumpyVectorArray(np.ones((32,11)).T), omega_star_space, source_space).data.shape"
   ]
  },
  {
   "cell_type": "code",
   "execution_count": 167,
   "metadata": {},
   "outputs": [
    {
     "data": {
      "text/plain": [
       "VectorSpace(NumpyVectorArray, 61)"
      ]
     },
     "execution_count": 167,
     "metadata": {},
     "output_type": "execute_result"
    }
   ],
   "source": [
    "psi = NumpyMatrixOperator(localizer.to_space(NumpyVectorArray(bilifo._matrix.T), omega_star_space, source_space).data.T)\n",
    "psi.range"
   ]
  },
  {
   "cell_type": "code",
   "execution_count": 169,
   "metadata": {},
   "outputs": [
    {
     "data": {
      "text/plain": [
       "61"
      ]
     },
     "execution_count": 169,
     "metadata": {},
     "output_type": "execute_result"
    }
   ],
   "source": [
    "len(localizer.join_spaces(source_space))"
   ]
  },
  {
   "cell_type": "code",
   "execution_count": 174,
   "metadata": {},
   "outputs": [
    {
     "data": {
      "text/plain": [
       "(1861, 61)"
      ]
     },
     "execution_count": 174,
     "metadata": {},
     "output_type": "execute_result"
    }
   ],
   "source": [
    "Q.shape"
   ]
  },
  {
   "cell_type": "code",
   "execution_count": 177,
   "metadata": {},
   "outputs": [
    {
     "data": {
      "text/plain": [
       "(61, 1861)"
      ]
     },
     "execution_count": 177,
     "metadata": {},
     "output_type": "execute_result"
    }
   ],
   "source": [
    "psi._matrix.shape"
   ]
  },
  {
   "cell_type": "code",
   "execution_count": 194,
   "metadata": {},
   "outputs": [
    {
     "data": {
      "text/plain": [
       "array([[ 0.  ,  0.  ,  0.  , ...,  0.11,  0.27,  0.18],\n",
       "       [ 0.  ,  0.  ,  0.  , ...,  0.09,  0.23,  0.15],\n",
       "       [ 0.  ,  0.  ,  0.  , ...,  0.07,  0.19,  0.12],\n",
       "       ..., \n",
       "       [ 0.  ,  0.  ,  0.  , ...,  2.71, -0.52, -0.53],\n",
       "       [ 0.  ,  0.  ,  0.  , ..., -0.52,  2.21, -0.13],\n",
       "       [ 0.  ,  0.  ,  0.  , ..., -1.06, -0.26,  2.74]])"
      ]
     },
     "execution_count": 194,
     "metadata": {},
     "output_type": "execute_result"
    }
   ],
   "source": [
    "np.around(Q.dot(psi._matrix).real, 2)"
   ]
  },
  {
   "cell_type": "code",
   "execution_count": 189,
   "metadata": {},
   "outputs": [
    {
     "data": {
      "text/plain": [
       "array([[ 1., -0.,  0., ..., -0.,  0.,  0.],\n",
       "       [ 0.,  1.,  0., ...,  0., -0.,  0.],\n",
       "       [ 0.,  0.,  1., ..., -0., -0.,  0.],\n",
       "       ..., \n",
       "       [ 0.,  0.,  0., ...,  1.,  0.,  0.],\n",
       "       [ 0., -0.,  0., ...,  0.,  1.,  0.],\n",
       "       [ 0.,  0.,  0., ...,  0., -0.,  1.]])"
      ]
     },
     "execution_count": 189,
     "metadata": {},
     "output_type": "execute_result"
    }
   ],
   "source": [
    "np.around(psi._matrix.dot(Q).real,14) "
   ]
  },
  {
   "cell_type": "code",
   "execution_count": 198,
   "metadata": {},
   "outputs": [
    {
     "data": {
      "text/plain": [
       "(156928772773096.06+6.4314628582579898j)"
      ]
     },
     "execution_count": 198,
     "metadata": {},
     "output_type": "execute_result"
    }
   ],
   "source": [
    "np.linalg.det(Q.conj().T.dot(Q))"
   ]
  },
  {
   "cell_type": "code",
   "execution_count": null,
   "metadata": {},
   "outputs": [],
   "source": []
  }
 ],
 "metadata": {
  "kernelspec": {
   "display_name": "project",
   "language": "python",
   "name": "project"
  },
  "language_info": {
   "codemirror_mode": {
    "name": "ipython",
    "version": 2
   },
   "file_extension": ".py",
   "mimetype": "text/x-python",
   "name": "python",
   "nbconvert_exporter": "python",
   "pygments_lexer": "ipython2",
   "version": "2.7.15rc1"
  }
 },
 "nbformat": 4,
 "nbformat_minor": 2
}
